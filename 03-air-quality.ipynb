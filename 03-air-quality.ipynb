{
 "cells": [
  {
   "cell_type": "markdown",
   "id": "4b786c3d-0b5b-4b99-a5f7-316ab639fd13",
   "metadata": {},
   "source": [
    "## Air quality in Qatar and other world cup host countries"
   ]
  },
  {
   "cell_type": "markdown",
   "id": "cd548922-fd11-42e2-b385-7eb36aa51722",
   "metadata": {},
   "source": [
    "#### setup"
   ]
  },
  {
   "cell_type": "code",
   "execution_count": 1,
   "id": "257bbe66-165e-48f9-80ab-e6fa9e1863c2",
   "metadata": {},
   "outputs": [],
   "source": [
    "%load_ext lab_black"
   ]
  },
  {
   "cell_type": "code",
   "execution_count": 2,
   "id": "94680822-41ad-4bc5-b570-69b6443f6d5f",
   "metadata": {},
   "outputs": [],
   "source": [
    "import pandas as pd\n",
    "import geopandas as gpd"
   ]
  },
  {
   "cell_type": "code",
   "execution_count": 3,
   "id": "82fff448-1939-497f-9562-934087ae85b3",
   "metadata": {},
   "outputs": [
    {
     "data": {
      "text/plain": [
       "ThemeRegistry.enable('grid')"
      ]
     },
     "execution_count": 3,
     "metadata": {},
     "output_type": "execute_result"
    }
   ],
   "source": [
    "import altair as alt\n",
    "import altair_grid as altgrid\n",
    "\n",
    "alt.themes.register(\"grid\", altgrid.theme)\n",
    "alt.themes.enable(\"grid\")"
   ]
  },
  {
   "cell_type": "code",
   "execution_count": 4,
   "id": "d90a0f57-2ce1-472c-8fca-eaf29d253051",
   "metadata": {},
   "outputs": [],
   "source": [
    "import requests\n",
    "import bs4\n",
    "from bs4 import BeautifulSoup\n",
    "from urllib.request import urlopen\n",
    "import json"
   ]
  },
  {
   "cell_type": "code",
   "execution_count": 5,
   "id": "e472c6fa-b010-4abf-9a7d-bd8e85b23e09",
   "metadata": {},
   "outputs": [],
   "source": [
    "import tabula\n",
    "from tabula.io import read_pdf"
   ]
  },
  {
   "cell_type": "code",
   "execution_count": 6,
   "id": "b459ec67-18dd-489e-b244-96a1ad35298e",
   "metadata": {},
   "outputs": [],
   "source": [
    "from datawrapper import Datawrapper\n",
    "\n",
    "dw = Datawrapper(\n",
    "    access_token=\"PU52xuCQowgE5BFprvdnpFXzd5Ql9ISOSLBk58eNR2ykPztw0yC5fpqLTfsZdhyR\"\n",
    ")"
   ]
  },
  {
   "cell_type": "markdown",
   "id": "8cb19bba-ad6f-41f4-a950-a992a6cbbb6e",
   "metadata": {
    "tags": []
   },
   "source": [
    "### Get list of host countries, past and future"
   ]
  },
  {
   "cell_type": "code",
   "execution_count": 7,
   "id": "2eb8ea6b-c0a8-49c1-9106-7920bd10d050",
   "metadata": {
    "tags": []
   },
   "outputs": [],
   "source": [
    "bids_and_hosts = pd.read_html(\"https://en.wikipedia.org/wiki/FIFA_World_Cup_hosts\")[8]"
   ]
  },
  {
   "cell_type": "code",
   "execution_count": 8,
   "id": "6d94cd0a-2003-4314-a677-9a9c157ffddf",
   "metadata": {
    "tags": []
   },
   "outputs": [],
   "source": [
    "hosts = (\n",
    "    bids_and_hosts[bids_and_hosts[\"Times hosted\"] > 0]\n",
    "    .value_counts(\"Country\")\n",
    "    .reset_index()[\"Country\"]\n",
    ")"
   ]
  },
  {
   "cell_type": "code",
   "execution_count": 9,
   "id": "f51e87b7-6fde-477f-9d60-824e45536560",
   "metadata": {
    "tags": []
   },
   "outputs": [],
   "source": [
    "freq_hosts = (\n",
    "    bids_and_hosts[bids_and_hosts[\"Times hosted\"] > 1]\n",
    "    .value_counts(\"Country\")\n",
    "    .reset_index()[\"Country\"]\n",
    ")"
   ]
  },
  {
   "cell_type": "markdown",
   "id": "aad9d35e-17c7-4976-97b2-0beee96f6f61",
   "metadata": {
    "tags": []
   },
   "source": [
    "#### countries that could have hosted this year + qatar"
   ]
  },
  {
   "cell_type": "code",
   "execution_count": 10,
   "id": "ad20ff75-5d19-4f85-a008-831abe1a94d9",
   "metadata": {
    "tags": []
   },
   "outputs": [],
   "source": [
    "bids_2022 = pd.read_html(\"https://en.wikipedia.org/wiki/FIFA_World_Cup_hosts\")[6]"
   ]
  },
  {
   "cell_type": "code",
   "execution_count": 11,
   "id": "40fef108-1cff-45f8-a143-0fd5a586eacb",
   "metadata": {
    "tags": []
   },
   "outputs": [],
   "source": [
    "bids = [\"United States\", \"South Korea\", \"Japan\", \"Australia\"]"
   ]
  },
  {
   "cell_type": "markdown",
   "id": "f9c3d978-5245-4693-8ab0-10308d4ded3a",
   "metadata": {
    "tags": []
   },
   "source": [
    "### Comparing Qatar air quality with past, future and possible hosts"
   ]
  },
  {
   "cell_type": "code",
   "execution_count": 12,
   "id": "75eac5b2-7738-4915-aebb-746af896a0f3",
   "metadata": {
    "tags": []
   },
   "outputs": [],
   "source": [
    "datafile = urlopen(\n",
    "    \"http://berkeleyearth.lbl.gov/air-quality/maps/cities/country_averages.json\"\n",
    ")"
   ]
  },
  {
   "cell_type": "code",
   "execution_count": 13,
   "id": "0d2f054a-215c-4a35-9021-763ba301d1ed",
   "metadata": {
    "tags": []
   },
   "outputs": [],
   "source": [
    "data = json.load(datafile)"
   ]
  },
  {
   "cell_type": "code",
   "execution_count": 14,
   "id": "a98c55c6-10c1-45f2-af7d-74866d9311bb",
   "metadata": {
    "tags": []
   },
   "outputs": [],
   "source": [
    "rows = []\n",
    "countries = []\n",
    "hour = []\n",
    "day = []\n",
    "twodays = []\n",
    "threedays = []\n",
    "fivedays = []\n",
    "week = []\n",
    "month = []\n",
    "year = []\n",
    "who = []\n",
    "\n",
    "for i in range(0, 92):\n",
    "    rows.append(data[\"Countries\"][i])\n",
    "    countries.append(data[\"Countries\"][i][0])\n",
    "    hour.append(data[\"Countries\"][i][1])\n",
    "    day.append(data[\"Countries\"][i][2])\n",
    "    twodays.append(data[\"Countries\"][i][3])\n",
    "    threedays.append(data[\"Countries\"][i][4])\n",
    "    fivedays.append(data[\"Countries\"][i][5])\n",
    "    week.append(data[\"Countries\"][i][6])\n",
    "    month.append(data[\"Countries\"][i][7])\n",
    "    year.append(data[\"Countries\"][i][8])\n",
    "    who.append(data[\"Countries\"][i][9])"
   ]
  },
  {
   "cell_type": "code",
   "execution_count": 15,
   "id": "709d017f-2a10-4851-a422-aaa34ec7b773",
   "metadata": {
    "tags": []
   },
   "outputs": [],
   "source": [
    "aq_df = pd.DataFrame(\n",
    "    {\n",
    "        \"country\": countries,\n",
    "        \"last_hour\": hour,\n",
    "        \"last_day\": day,\n",
    "        #        \"last_two_days\": twodays,\n",
    "        #        \"last_three_days\": threedays,\n",
    "        #        \"last_five_days\": fivedays,\n",
    "        \"last_week\": week,\n",
    "        \"last_month\": month,\n",
    "        \"last_year\": year,\n",
    "        \"whoguidelines_lastyear\": who,\n",
    "    }\n",
    ")"
   ]
  },
  {
   "cell_type": "code",
   "execution_count": 57,
   "id": "99155374-5d22-4792-9e57-382ad7ac786e",
   "metadata": {
    "tags": []
   },
   "outputs": [],
   "source": [
    "aq_long = (\n",
    "    aq_df[(aq_df[\"country\"].isin(hosts))]\n",
    "    .melt(\n",
    "        id_vars=[\"country\"],\n",
    "        value_vars=[\n",
    "            \"last_hour\",\n",
    "            \"last_day\",\n",
    "            #            \"last_two_days\",\n",
    "            #            \"last_three_days\",\n",
    "            #            \"last_five_days\",\n",
    "            \"last_week\",\n",
    "            \"last_month\",\n",
    "            \"last_year\",\n",
    "        ],\n",
    "    )\n",
    "    .copy()\n",
    ")"
   ]
  },
  {
   "cell_type": "code",
   "execution_count": 58,
   "id": "f8a057ca-e378-46aa-a729-7ab8a95dc195",
   "metadata": {
    "tags": []
   },
   "outputs": [],
   "source": [
    "missing_data = (\n",
    "    aq_long[aq_long[\"value\"].isna()].value_counts(\"country\").reset_index()[\"country\"]\n",
    ")"
   ]
  },
  {
   "cell_type": "code",
   "execution_count": 59,
   "id": "b84bbce9-6dcd-4943-b341-f3cb56e7e8d4",
   "metadata": {
    "tags": []
   },
   "outputs": [],
   "source": [
    "aq_long = aq_long[~aq_long[\"country\"].isin(missing_data)].copy()"
   ]
  },
  {
   "cell_type": "code",
   "execution_count": 60,
   "id": "26e10d72-8694-4e0c-a511-22a69aea9206",
   "metadata": {
    "tags": []
   },
   "outputs": [],
   "source": [
    "aq_heatmap = pd.DataFrame(\n",
    "    {\n",
    "        \"x\": aq_long[\"variable\"].ravel(),\n",
    "        \"y\": aq_long[\"country\"].ravel(),\n",
    "        \"z\": aq_long[\"value\"].ravel(),\n",
    "    }\n",
    ")"
   ]
  },
  {
   "cell_type": "code",
   "execution_count": 63,
   "id": "6f915757-99d8-476e-b661-1d636a801f72",
   "metadata": {
    "tags": []
   },
   "outputs": [
    {
     "data": {
      "text/html": [
       "\n",
       "<div id=\"altair-viz-f01c2dfe09434cb8a081589373a00c72\"></div>\n",
       "<script type=\"text/javascript\">\n",
       "  var VEGA_DEBUG = (typeof VEGA_DEBUG == \"undefined\") ? {} : VEGA_DEBUG;\n",
       "  (function(spec, embedOpt){\n",
       "    let outputDiv = document.currentScript.previousElementSibling;\n",
       "    if (outputDiv.id !== \"altair-viz-f01c2dfe09434cb8a081589373a00c72\") {\n",
       "      outputDiv = document.getElementById(\"altair-viz-f01c2dfe09434cb8a081589373a00c72\");\n",
       "    }\n",
       "    const paths = {\n",
       "      \"vega\": \"https://cdn.jsdelivr.net/npm//vega@5?noext\",\n",
       "      \"vega-lib\": \"https://cdn.jsdelivr.net/npm//vega-lib?noext\",\n",
       "      \"vega-lite\": \"https://cdn.jsdelivr.net/npm//vega-lite@4.17.0?noext\",\n",
       "      \"vega-embed\": \"https://cdn.jsdelivr.net/npm//vega-embed@6?noext\",\n",
       "    };\n",
       "\n",
       "    function maybeLoadScript(lib, version) {\n",
       "      var key = `${lib.replace(\"-\", \"\")}_version`;\n",
       "      return (VEGA_DEBUG[key] == version) ?\n",
       "        Promise.resolve(paths[lib]) :\n",
       "        new Promise(function(resolve, reject) {\n",
       "          var s = document.createElement('script');\n",
       "          document.getElementsByTagName(\"head\")[0].appendChild(s);\n",
       "          s.async = true;\n",
       "          s.onload = () => {\n",
       "            VEGA_DEBUG[key] = version;\n",
       "            return resolve(paths[lib]);\n",
       "          };\n",
       "          s.onerror = () => reject(`Error loading script: ${paths[lib]}`);\n",
       "          s.src = paths[lib];\n",
       "        });\n",
       "    }\n",
       "\n",
       "    function showError(err) {\n",
       "      outputDiv.innerHTML = `<div class=\"error\" style=\"color:red;\">${err}</div>`;\n",
       "      throw err;\n",
       "    }\n",
       "\n",
       "    function displayChart(vegaEmbed) {\n",
       "      vegaEmbed(outputDiv, spec, embedOpt)\n",
       "        .catch(err => showError(`Javascript Error: ${err.message}<br>This usually means there's a typo in your chart specification. See the javascript console for the full traceback.`));\n",
       "    }\n",
       "\n",
       "    if(typeof define === \"function\" && define.amd) {\n",
       "      requirejs.config({paths});\n",
       "      require([\"vega-embed\"], displayChart, err => showError(`Error loading script: ${err.message}`));\n",
       "    } else {\n",
       "      maybeLoadScript(\"vega\", \"5\")\n",
       "        .then(() => maybeLoadScript(\"vega-lite\", \"4.17.0\"))\n",
       "        .then(() => maybeLoadScript(\"vega-embed\", \"6\"))\n",
       "        .catch(showError)\n",
       "        .then(() => displayChart(vegaEmbed));\n",
       "    }\n",
       "  })({\"config\": {\"view\": {\"width\": 800, \"height\": 450, \"strokeOpacity\": 0}, \"background\": \"#ffffff\", \"title\": {\"anchor\": \"start\", \"font\": \"Summit Sans\", \"fontColor\": \"palette[\\\"black\\\"]\", \"fontSize\": 18, \"fontWeight\": \"normal\"}, \"arc\": {\"fill\": \"#00d4d8\"}, \"area\": {\"fill\": \"#00d4d8\"}, \"line\": {\"stroke\": \"#00d4d8\", \"strokeWidth\": 3}, \"path\": {\"stroke\": \"#00d4d8\"}, \"rect\": {\"fill\": \"#00d4d8\"}, \"shape\": {\"stroke\": \"#00d4d8\"}, \"bar\": {\"fill\": \"#00d4d8\"}, \"point\": {\"stroke\": \"#00d4d8\"}, \"symbol\": {\"fill\": \"#00d4d8\", \"size\": 30}, \"axis\": {\"titleFont\": \"Roboto\", \"titleFontSize\": 15, \"titleFontWeight\": \"normal\", \"labelFont\": \"Roboto, sans\", \"labelFontSize\": 13, \"labelFontWeight\": \"normal\"}, \"axisX\": {\"labelAngle\": 0, \"labelPadding\": 6, \"tickSize\": 3, \"grid\": false}, \"axisY\": {\"labelBaseline\": \"middle\", \"maxExtent\": 45, \"minExtent\": 45, \"titleAlign\": \"left\", \"titleAngle\": 0, \"titleX\": -45, \"titleY\": -11, \"domainOpacity\": 0, \"gridWidth\": 0.6, \"gridColor\": \"#dddddd\", \"offset\": 6, \"tickSize\": 0, \"titleColor\": \"#767676\"}, \"legend\": {\"titleFont\": \"Roboto\", \"titleFontSize\": 15, \"titleFontWeight\": \"normal\", \"symbolType\": \"square\", \"labelFont\": \"Roboto, sans\", \"labelFontSize\": 13}, \"range\": {\"category\": [\"#005f66\", \"#e37e2d\", \"#d64a3b\", \"#76b0ef\", \"#c1bc40\"], \"diverging\": [\"#e68a4f\", \"#f4bb6a\", \"#f9e39c\", \"#dadfe2\", \"#a6b7c6\", \"#849eae\"], \"heatmap\": [\"#7ff6f6\", \"#00eeef\", \"#00d4d8\", \"#00abb2\", \"#00848b\", \"#fbf2c7\", \"#00363d\"], \"ordinal\": [\"#7ff6f6\", \"#00eeef\", \"#00d4d8\", \"#00abb2\", \"#00848b\", \"#fbf2c7\", \"#00363d\"], \"ramp\": [\"#7ff6f6\", \"#00eeef\", \"#00d4d8\", \"#00abb2\", \"#00848b\", \"#fbf2c7\", \"#00363d\"]}}, \"data\": {\"name\": \"data-d35f89f4c1aa5da0f5eeacbd212b9b35\"}, \"mark\": \"rect\", \"encoding\": {\"color\": {\"field\": \"z\", \"legend\": {\"title\": \"PM2.5 particles\"}, \"scale\": {\"reverse\": true, \"scheme\": \"spectral\"}, \"type\": \"quantitative\"}, \"x\": {\"axis\": {\"title\": \"\"}, \"field\": \"x\", \"type\": \"nominal\"}, \"y\": {\"axis\": {\"title\": \"\"}, \"field\": \"y\", \"type\": \"nominal\"}}, \"height\": 220, \"width\": 360, \"$schema\": \"https://vega.github.io/schema/vega-lite/v4.17.0.json\", \"datasets\": {\"data-d35f89f4c1aa5da0f5eeacbd212b9b35\": [{\"x\": \"last_hour\", \"y\": \"Canada\", \"z\": 4.2}, {\"x\": \"last_hour\", \"y\": \"Argentina\", \"z\": 6.4}, {\"x\": \"last_hour\", \"y\": \"Spain\", \"z\": 5.8}, {\"x\": \"last_hour\", \"y\": \"France\", \"z\": 5.5}, {\"x\": \"last_hour\", \"y\": \"United States\", \"z\": 7.3}, {\"x\": \"last_hour\", \"y\": \"Sweden\", \"z\": 6.3}, {\"x\": \"last_hour\", \"y\": \"Chile\", \"z\": 7.0}, {\"x\": \"last_hour\", \"y\": \"Switzerland\", \"z\": 6.7}, {\"x\": \"last_hour\", \"y\": \"Colombia\", \"z\": 12.3}, {\"x\": \"last_hour\", \"y\": \"Qatar\", \"z\": 29.3}, {\"x\": \"last_hour\", \"y\": \"Italy\", \"z\": 5.8}, {\"x\": \"last_hour\", \"y\": \"Germany\", \"z\": 8.1}, {\"x\": \"last_hour\", \"y\": \"Mexico\", \"z\": 7.5}, {\"x\": \"last_day\", \"y\": \"Canada\", \"z\": 4.7}, {\"x\": \"last_day\", \"y\": \"Argentina\", \"z\": 5.6}, {\"x\": \"last_day\", \"y\": \"Spain\", \"z\": 6.0}, {\"x\": \"last_day\", \"y\": \"France\", \"z\": 5.8}, {\"x\": \"last_day\", \"y\": \"United States\", \"z\": 7.2}, {\"x\": \"last_day\", \"y\": \"Sweden\", \"z\": 5.7}, {\"x\": \"last_day\", \"y\": \"Chile\", \"z\": 6.6}, {\"x\": \"last_day\", \"y\": \"Switzerland\", \"z\": 10.7}, {\"x\": \"last_day\", \"y\": \"Colombia\", \"z\": 6.1}, {\"x\": \"last_day\", \"y\": \"Qatar\", \"z\": 22.3}, {\"x\": \"last_day\", \"y\": \"Italy\", \"z\": 8.4}, {\"x\": \"last_day\", \"y\": \"Germany\", \"z\": 10.1}, {\"x\": \"last_day\", \"y\": \"Mexico\", \"z\": 8.0}, {\"x\": \"last_week\", \"y\": \"Canada\", \"z\": 5.8}, {\"x\": \"last_week\", \"y\": \"Argentina\", \"z\": 5.3}, {\"x\": \"last_week\", \"y\": \"Spain\", \"z\": 7.9}, {\"x\": \"last_week\", \"y\": \"France\", \"z\": 8.2}, {\"x\": \"last_week\", \"y\": \"United States\", \"z\": 6.5}, {\"x\": \"last_week\", \"y\": \"Sweden\", \"z\": 5.0}, {\"x\": \"last_week\", \"y\": \"Chile\", \"z\": 6.2}, {\"x\": \"last_week\", \"y\": \"Switzerland\", \"z\": 10.0}, {\"x\": \"last_week\", \"y\": \"Colombia\", \"z\": 7.4}, {\"x\": \"last_week\", \"y\": \"Qatar\", \"z\": 22.5}, {\"x\": \"last_week\", \"y\": \"Italy\", \"z\": 7.7}, {\"x\": \"last_week\", \"y\": \"Germany\", \"z\": 10.0}, {\"x\": \"last_week\", \"y\": \"Mexico\", \"z\": 8.6}, {\"x\": \"last_month\", \"y\": \"Canada\", \"z\": 5.2}, {\"x\": \"last_month\", \"y\": \"Argentina\", \"z\": 6.6}, {\"x\": \"last_month\", \"y\": \"Spain\", \"z\": 9.6}, {\"x\": \"last_month\", \"y\": \"France\", \"z\": 7.7}, {\"x\": \"last_month\", \"y\": \"United States\", \"z\": 6.8}, {\"x\": \"last_month\", \"y\": \"Sweden\", \"z\": 4.7}, {\"x\": \"last_month\", \"y\": \"Chile\", \"z\": 7.8}, {\"x\": \"last_month\", \"y\": \"Switzerland\", \"z\": 9.7}, {\"x\": \"last_month\", \"y\": \"Colombia\", \"z\": 7.2}, {\"x\": \"last_month\", \"y\": \"Qatar\", \"z\": 27.6}, {\"x\": \"last_month\", \"y\": \"Italy\", \"z\": 9.6}, {\"x\": \"last_month\", \"y\": \"Germany\", \"z\": 9.2}, {\"x\": \"last_month\", \"y\": \"Mexico\", \"z\": 8.7}, {\"x\": \"last_year\", \"y\": \"Canada\", \"z\": 4.8}, {\"x\": \"last_year\", \"y\": \"Argentina\", \"z\": 11.7}, {\"x\": \"last_year\", \"y\": \"Spain\", \"z\": 8.9}, {\"x\": \"last_year\", \"y\": \"France\", \"z\": 8.2}, {\"x\": \"last_year\", \"y\": \"United States\", \"z\": 6.8}, {\"x\": \"last_year\", \"y\": \"Sweden\", \"z\": 4.7}, {\"x\": \"last_year\", \"y\": \"Chile\", \"z\": 14.6}, {\"x\": \"last_year\", \"y\": \"Switzerland\", \"z\": 9.7}, {\"x\": \"last_year\", \"y\": \"Colombia\", \"z\": 7.9}, {\"x\": \"last_year\", \"y\": \"Qatar\", \"z\": 49.7}, {\"x\": \"last_year\", \"y\": \"Italy\", \"z\": 8.6}, {\"x\": \"last_year\", \"y\": \"Germany\", \"z\": 8.3}, {\"x\": \"last_year\", \"y\": \"Mexico\", \"z\": 9.8}]}}, {\"mode\": \"vega-lite\"});\n",
       "</script>"
      ],
      "text/plain": [
       "alt.Chart(...)"
      ]
     },
     "execution_count": 63,
     "metadata": {},
     "output_type": "execute_result"
    }
   ],
   "source": [
    "alt.Chart(aq_heatmap).mark_rect().encode(\n",
    "    x=alt.X(\"x\", axis=alt.Axis(title=\"\")),\n",
    "    y=alt.Y(\"y\", axis=alt.Axis(title=\"\")),\n",
    "    color=alt.Color(\n",
    "        \"z:Q\",\n",
    "        legend=alt.Legend(title=\"PM2.5 particles\"),\n",
    "        scale=alt.Scale(scheme=\"spectral\", reverse=True),\n",
    "    ),\n",
    ").properties(width=360, height=220)"
   ]
  },
  {
   "cell_type": "markdown",
   "id": "b7da27ad-530e-49c9-956c-abd520e52058",
   "metadata": {
    "tags": []
   },
   "source": [
    "### Qatar hourly data"
   ]
  },
  {
   "cell_type": "code",
   "execution_count": 21,
   "id": "a078355c-fad9-4673-a853-0e62b6316bc6",
   "metadata": {},
   "outputs": [],
   "source": [
    "qatar_aq = (\n",
    "    pd.read_csv(\n",
    "        \"http://berkeleyearth.lbl.gov/air-quality/maps/cities/Qatar/Qatar.txt\",\n",
    "        skiprows=7,\n",
    "        sep=\"\\t\",\n",
    "    )\n",
    "    .assign(country=\"Qatar\")\n",
    "    .reset_index()\n",
    ")"
   ]
  },
  {
   "cell_type": "raw",
   "id": "f138c8bb-ea9f-4813-9127-55e71084ba5b",
   "metadata": {},
   "source": [
    "### what I was previously doing to get columns nams\n",
    "### when you assign country to a column, there's one more column than there previously was, so just make a column list\n",
    "qatar_aq.columns = (\n",
    "    pd.read_csv(\n",
    "        \"http://berkeleyearth.lbl.gov/air-quality/maps/cities/Qatar/Qatar.txt\",\n",
    "        skiprows=7,\n",
    "    )\n",
    "    .columns.str.lower()\n",
    "    .str.replace(\"% \", \"\")\n",
    "    .str.replace(\" \", \"_\")\n",
    ")"
   ]
  },
  {
   "cell_type": "code",
   "execution_count": 22,
   "id": "98cba543-5f52-4760-9f7f-df927cd9e09d",
   "metadata": {},
   "outputs": [],
   "source": [
    "qatar_aq.columns = [\n",
    "    \"year\",\n",
    "    \"month\",\n",
    "    \"day\",\n",
    "    \"utc_hour\",\n",
    "    \"pm2.5\",\n",
    "    \"pm10_mask\",\n",
    "    \"retrospective\",\n",
    "    \"country\",\n",
    "]"
   ]
  },
  {
   "cell_type": "code",
   "execution_count": 23,
   "id": "529c6efb-edf3-482d-93e5-efcc202ed260",
   "metadata": {},
   "outputs": [],
   "source": [
    "qatar_aq[\"date\"] = pd.to_datetime(\n",
    "    qatar_aq[\"year\"].astype(str)\n",
    "    + \"-\"\n",
    "    + qatar_aq[\"month\"].astype(str)\n",
    "    + \"-\"\n",
    "    + qatar_aq[\"day\"].astype(str)\n",
    ")"
   ]
  },
  {
   "cell_type": "code",
   "execution_count": 24,
   "id": "8d2ab4ab-cb1b-4f12-83fa-fec02de97eb3",
   "metadata": {},
   "outputs": [],
   "source": [
    "qatar_daily_aq = qatar_aq.groupby([\"month\", \"day\"])[\"pm2.5\"].mean().reset_index().copy()"
   ]
  },
  {
   "cell_type": "markdown",
   "id": "fcdefe41-90e4-4167-a744-6ae008fed7f1",
   "metadata": {},
   "source": [
    "#### heatmap of qatar air quality"
   ]
  },
  {
   "cell_type": "code",
   "execution_count": 25,
   "id": "49254321-ad96-49af-b162-73fb4bec1aea",
   "metadata": {},
   "outputs": [],
   "source": [
    "qatar_src = pd.DataFrame(\n",
    "    {\n",
    "        \"x\": qatar_daily_aq[\"month\"].ravel(),\n",
    "        \"y\": qatar_daily_aq[\"day\"].ravel(),\n",
    "        \"z\": qatar_daily_aq[\"pm2.5\"].ravel(),\n",
    "    }\n",
    ")"
   ]
  },
  {
   "cell_type": "code",
   "execution_count": 26,
   "id": "c17ff560-35de-488a-9b04-48d47c9ed74d",
   "metadata": {},
   "outputs": [
    {
     "name": "stderr",
     "output_type": "stream",
     "text": [
      "/Users/amatthews/.local/share/virtualenvs/notebooks-tkHVtsX-/lib/python3.9/site-packages/altair/utils/core.py:317: FutureWarning: iteritems is deprecated and will be removed in a future version. Use .items instead.\n",
      "  for col_name, dtype in df.dtypes.iteritems():\n"
     ]
    },
    {
     "data": {
      "text/html": [
       "\n",
       "<div id=\"altair-viz-abbe96a9593745878de1c28bb21b47db\"></div>\n",
       "<script type=\"text/javascript\">\n",
       "  var VEGA_DEBUG = (typeof VEGA_DEBUG == \"undefined\") ? {} : VEGA_DEBUG;\n",
       "  (function(spec, embedOpt){\n",
       "    let outputDiv = document.currentScript.previousElementSibling;\n",
       "    if (outputDiv.id !== \"altair-viz-abbe96a9593745878de1c28bb21b47db\") {\n",
       "      outputDiv = document.getElementById(\"altair-viz-abbe96a9593745878de1c28bb21b47db\");\n",
       "    }\n",
       "    const paths = {\n",
       "      \"vega\": \"https://cdn.jsdelivr.net/npm//vega@5?noext\",\n",
       "      \"vega-lib\": \"https://cdn.jsdelivr.net/npm//vega-lib?noext\",\n",
       "      \"vega-lite\": \"https://cdn.jsdelivr.net/npm//vega-lite@4.17.0?noext\",\n",
       "      \"vega-embed\": \"https://cdn.jsdelivr.net/npm//vega-embed@6?noext\",\n",
       "    };\n",
       "\n",
       "    function maybeLoadScript(lib, version) {\n",
       "      var key = `${lib.replace(\"-\", \"\")}_version`;\n",
       "      return (VEGA_DEBUG[key] == version) ?\n",
       "        Promise.resolve(paths[lib]) :\n",
       "        new Promise(function(resolve, reject) {\n",
       "          var s = document.createElement('script');\n",
       "          document.getElementsByTagName(\"head\")[0].appendChild(s);\n",
       "          s.async = true;\n",
       "          s.onload = () => {\n",
       "            VEGA_DEBUG[key] = version;\n",
       "            return resolve(paths[lib]);\n",
       "          };\n",
       "          s.onerror = () => reject(`Error loading script: ${paths[lib]}`);\n",
       "          s.src = paths[lib];\n",
       "        });\n",
       "    }\n",
       "\n",
       "    function showError(err) {\n",
       "      outputDiv.innerHTML = `<div class=\"error\" style=\"color:red;\">${err}</div>`;\n",
       "      throw err;\n",
       "    }\n",
       "\n",
       "    function displayChart(vegaEmbed) {\n",
       "      vegaEmbed(outputDiv, spec, embedOpt)\n",
       "        .catch(err => showError(`Javascript Error: ${err.message}<br>This usually means there's a typo in your chart specification. See the javascript console for the full traceback.`));\n",
       "    }\n",
       "\n",
       "    if(typeof define === \"function\" && define.amd) {\n",
       "      requirejs.config({paths});\n",
       "      require([\"vega-embed\"], displayChart, err => showError(`Error loading script: ${err.message}`));\n",
       "    } else {\n",
       "      maybeLoadScript(\"vega\", \"5\")\n",
       "        .then(() => maybeLoadScript(\"vega-lite\", \"4.17.0\"))\n",
       "        .then(() => maybeLoadScript(\"vega-embed\", \"6\"))\n",
       "        .catch(showError)\n",
       "        .then(() => displayChart(vegaEmbed));\n",
       "    }\n",
       "  })({\"config\": {\"view\": {\"width\": 800, \"height\": 450, \"strokeOpacity\": 0}, \"background\": \"#ffffff\", \"title\": {\"anchor\": \"start\", \"font\": \"Summit Sans\", \"fontColor\": \"palette[\\\"black\\\"]\", \"fontSize\": 18, \"fontWeight\": \"normal\"}, \"arc\": {\"fill\": \"#00d4d8\"}, \"area\": {\"fill\": \"#00d4d8\"}, \"line\": {\"stroke\": \"#00d4d8\", \"strokeWidth\": 3}, \"path\": {\"stroke\": \"#00d4d8\"}, \"rect\": {\"fill\": \"#00d4d8\"}, \"shape\": {\"stroke\": \"#00d4d8\"}, \"bar\": {\"fill\": \"#00d4d8\"}, \"point\": {\"stroke\": \"#00d4d8\"}, \"symbol\": {\"fill\": \"#00d4d8\", \"size\": 30}, \"axis\": {\"titleFont\": \"Roboto\", \"titleFontSize\": 15, \"titleFontWeight\": \"normal\", \"labelFont\": \"Roboto, sans\", \"labelFontSize\": 13, \"labelFontWeight\": \"normal\"}, \"axisX\": {\"labelAngle\": 0, \"labelPadding\": 6, \"tickSize\": 3, \"grid\": false}, \"axisY\": {\"labelBaseline\": \"middle\", \"maxExtent\": 45, \"minExtent\": 45, \"titleAlign\": \"left\", \"titleAngle\": 0, \"titleX\": -45, \"titleY\": -11, \"domainOpacity\": 0, \"gridWidth\": 0.6, \"gridColor\": \"#dddddd\", \"offset\": 6, \"tickSize\": 0, \"titleColor\": \"#767676\"}, \"legend\": {\"titleFont\": \"Roboto\", \"titleFontSize\": 15, \"titleFontWeight\": \"normal\", \"symbolType\": \"square\", \"labelFont\": \"Roboto, sans\", \"labelFontSize\": 13}, \"range\": {\"category\": [\"#005f66\", \"#e37e2d\", \"#d64a3b\", \"#76b0ef\", \"#c1bc40\"], \"diverging\": [\"#e68a4f\", \"#f4bb6a\", \"#f9e39c\", \"#dadfe2\", \"#a6b7c6\", \"#849eae\"], \"heatmap\": [\"#7ff6f6\", \"#00eeef\", \"#00d4d8\", \"#00abb2\", \"#00848b\", \"#fbf2c7\", \"#00363d\"], \"ordinal\": [\"#7ff6f6\", \"#00eeef\", \"#00d4d8\", \"#00abb2\", \"#00848b\", \"#fbf2c7\", \"#00363d\"], \"ramp\": [\"#7ff6f6\", \"#00eeef\", \"#00d4d8\", \"#00abb2\", \"#00848b\", \"#fbf2c7\", \"#00363d\"]}}, \"data\": {\"name\": \"data-540aa7f41f651a2b310d293ae591fb9c\"}, \"mark\": \"rect\", \"encoding\": {\"color\": {\"field\": \"z\", \"legend\": {\"title\": \"PM2.5 particles\"}, \"scale\": {\"domain\": [0, 91], \"reverse\": true, \"scheme\": \"spectral\"}, \"type\": \"quantitative\"}, \"x\": {\"field\": \"x\", \"type\": \"ordinal\"}, \"y\": {\"field\": \"y\", \"type\": \"ordinal\"}}, \"$schema\": \"https://vega.github.io/schema/vega-lite/v4.17.0.json\", \"datasets\": {\"data-540aa7f41f651a2b310d293ae591fb9c\": [{\"x\": 1, \"y\": 1, \"z\": 32.44825}, {\"x\": 1, \"y\": 2, \"z\": 35.59908333333333}, {\"x\": 1, \"y\": 3, \"z\": 42.06266666666667}, {\"x\": 1, \"y\": 4, \"z\": 37.14266666666666}, {\"x\": 1, \"y\": 5, \"z\": 30.666999999999998}, {\"x\": 1, \"y\": 6, \"z\": 31.06991150442478}, {\"x\": 1, \"y\": 7, \"z\": 30.72305263157895}, {\"x\": 1, \"y\": 8, \"z\": 36.39851063829787}, {\"x\": 1, \"y\": 9, \"z\": 35.92712765957447}, {\"x\": 1, \"y\": 10, \"z\": 32.353854166666665}, {\"x\": 1, \"y\": 11, \"z\": 31.65449152542373}, {\"x\": 1, \"y\": 12, \"z\": 36.80324786324787}, {\"x\": 1, \"y\": 13, \"z\": 35.07838983050848}, {\"x\": 1, \"y\": 14, \"z\": 41.22541666666667}, {\"x\": 1, \"y\": 15, \"z\": 44.38941176470588}, {\"x\": 1, \"y\": 16, \"z\": 46.16307692307692}, {\"x\": 1, \"y\": 17, \"z\": 56.79474576271186}, {\"x\": 1, \"y\": 18, \"z\": 64.9915652173913}, {\"x\": 1, \"y\": 19, \"z\": 45.205378151260504}, {\"x\": 1, \"y\": 20, \"z\": 31.975344827586206}, {\"x\": 1, \"y\": 21, \"z\": 53.251083333333334}, {\"x\": 1, \"y\": 22, \"z\": 53.015897435897436}, {\"x\": 1, \"y\": 23, \"z\": 56.040588235294116}, {\"x\": 1, \"y\": 24, \"z\": 67.39672268907563}, {\"x\": 1, \"y\": 25, \"z\": 59.359249999999996}, {\"x\": 1, \"y\": 26, \"z\": 53.12591666666666}, {\"x\": 1, \"y\": 27, \"z\": 45.50491666666667}, {\"x\": 1, \"y\": 28, \"z\": 51.94889830508475}, {\"x\": 1, \"y\": 29, \"z\": 48.28719298245614}, {\"x\": 1, \"y\": 30, \"z\": 36.382666666666665}, {\"x\": 1, \"y\": 31, \"z\": 36.233879310344825}, {\"x\": 2, \"y\": 1, \"z\": 35.786974789915966}, {\"x\": 2, \"y\": 2, \"z\": 35.73218487394958}, {\"x\": 2, \"y\": 3, \"z\": 31.476499999999998}, {\"x\": 2, \"y\": 4, \"z\": 30.686610169491527}, {\"x\": 2, \"y\": 5, \"z\": 36.93941176470588}, {\"x\": 2, \"y\": 6, \"z\": 38.77075}, {\"x\": 2, \"y\": 7, \"z\": 38.94504347826087}, {\"x\": 2, \"y\": 8, \"z\": 35.48692307692308}, {\"x\": 2, \"y\": 9, \"z\": 33.690333333333335}, {\"x\": 2, \"y\": 10, \"z\": 36.60641666666667}, {\"x\": 2, \"y\": 11, \"z\": 34.39565217391304}, {\"x\": 2, \"y\": 12, \"z\": 33.34353448275862}, {\"x\": 2, \"y\": 13, \"z\": 32.576166666666666}, {\"x\": 2, \"y\": 14, \"z\": 37.39034782608696}, {\"x\": 2, \"y\": 15, \"z\": 38.752583333333334}, {\"x\": 2, \"y\": 16, \"z\": 44.71310344827587}, {\"x\": 2, \"y\": 17, \"z\": 43.04495798319328}, {\"x\": 2, \"y\": 18, \"z\": 41.82}, {\"x\": 2, \"y\": 19, \"z\": 44.24720338983051}, {\"x\": 2, \"y\": 20, \"z\": 43.48191666666666}, {\"x\": 2, \"y\": 21, \"z\": 44.40873949579832}, {\"x\": 2, \"y\": 22, \"z\": 43.24327731092437}, {\"x\": 2, \"y\": 23, \"z\": 43.150666666666666}, {\"x\": 2, \"y\": 24, \"z\": 47.229749999999996}, {\"x\": 2, \"y\": 25, \"z\": 42.59441666666667}, {\"x\": 2, \"y\": 26, \"z\": 47.29212389380531}, {\"x\": 2, \"y\": 27, \"z\": 34.94050847457627}, {\"x\": 2, \"y\": 28, \"z\": 35.38867256637168}, {\"x\": 2, \"y\": 29, \"z\": 51.62916666666666}, {\"x\": 3, \"y\": 1, \"z\": 35.14864583333333}, {\"x\": 3, \"y\": 2, \"z\": 42.8759375}, {\"x\": 3, \"y\": 3, \"z\": 30.704857142857144}, {\"x\": 3, \"y\": 4, \"z\": 35.30865546218487}, {\"x\": 3, \"y\": 5, \"z\": 46.808166666666665}, {\"x\": 3, \"y\": 6, \"z\": 41.575833333333335}, {\"x\": 3, \"y\": 7, \"z\": 42.52324786324787}, {\"x\": 3, \"y\": 8, \"z\": 57.51991525423729}, {\"x\": 3, \"y\": 9, \"z\": 50.523529411764706}, {\"x\": 3, \"y\": 10, \"z\": 42.29073394495413}, {\"x\": 3, \"y\": 11, \"z\": 54.2315}, {\"x\": 3, \"y\": 12, \"z\": 62.016949152542374}, {\"x\": 3, \"y\": 13, \"z\": 67.7583}, {\"x\": 3, \"y\": 14, \"z\": 43.108645833333334}, {\"x\": 3, \"y\": 15, \"z\": 39.526875}, {\"x\": 3, \"y\": 16, \"z\": 39.28177083333333}, {\"x\": 3, \"y\": 17, \"z\": 52.138749999999995}, {\"x\": 3, \"y\": 18, \"z\": 47.26255102040816}, {\"x\": 3, \"y\": 19, \"z\": 34.20516666666666}, {\"x\": 3, \"y\": 20, \"z\": 29.06873949579832}, {\"x\": 3, \"y\": 21, \"z\": 33.765166666666666}, {\"x\": 3, \"y\": 22, \"z\": 39.42991666666667}, {\"x\": 3, \"y\": 23, \"z\": 44.950583333333334}, {\"x\": 3, \"y\": 24, \"z\": 44.82483333333333}, {\"x\": 3, \"y\": 25, \"z\": 47.89134453781512}, {\"x\": 3, \"y\": 26, \"z\": 43.9065}, {\"x\": 3, \"y\": 27, \"z\": 36.58495726495726}, {\"x\": 3, \"y\": 28, \"z\": 40.138448275862075}, {\"x\": 3, \"y\": 29, \"z\": 44.16008333333333}, {\"x\": 3, \"y\": 30, \"z\": 39.90841666666667}, {\"x\": 3, \"y\": 31, \"z\": 38.64516666666667}, {\"x\": 4, \"y\": 1, \"z\": 46.935826086956524}, {\"x\": 4, \"y\": 2, \"z\": 38.588135593220336}, {\"x\": 4, \"y\": 3, \"z\": 37.79889830508475}, {\"x\": 4, \"y\": 4, \"z\": 34.55285714285714}, {\"x\": 4, \"y\": 5, \"z\": 41.22806722689076}, {\"x\": 4, \"y\": 6, \"z\": 40.51398305084746}, {\"x\": 4, \"y\": 7, \"z\": 42.44741666666666}, {\"x\": 4, \"y\": 8, \"z\": 49.07151515151515}, {\"x\": 4, \"y\": 9, \"z\": 65.02418181818182}, {\"x\": 4, \"y\": 10, \"z\": 65.98075}, {\"x\": 4, \"y\": 11, \"z\": 64.09633333333333}, {\"x\": 4, \"y\": 12, \"z\": 42.56050420168067}, {\"x\": 4, \"y\": 13, \"z\": 34.26384615384615}, {\"x\": 4, \"y\": 14, \"z\": 35.12966386554622}, {\"x\": 4, \"y\": 15, \"z\": 30.305210084033614}, {\"x\": 4, \"y\": 16, \"z\": 28.18669491525424}, {\"x\": 4, \"y\": 17, \"z\": 30.505499999999998}, {\"x\": 4, \"y\": 18, \"z\": 28.53258333333333}, {\"x\": 4, \"y\": 19, \"z\": 28.109666666666666}, {\"x\": 4, \"y\": 20, \"z\": 29.143583333333332}, {\"x\": 4, \"y\": 21, \"z\": 30.294500000000003}, {\"x\": 4, \"y\": 22, \"z\": 34.57566666666666}, {\"x\": 4, \"y\": 23, \"z\": 35.6271186440678}, {\"x\": 4, \"y\": 24, \"z\": 37.2708547008547}, {\"x\": 4, \"y\": 25, \"z\": 43.56895652173913}, {\"x\": 4, \"y\": 26, \"z\": 53.275312500000005}, {\"x\": 4, \"y\": 27, \"z\": 36.36020833333333}, {\"x\": 4, \"y\": 28, \"z\": 32.21697916666667}, {\"x\": 4, \"y\": 29, \"z\": 34.85777777777778}, {\"x\": 4, \"y\": 30, \"z\": 30.045729166666664}, {\"x\": 5, \"y\": 1, \"z\": 32.182016806722686}, {\"x\": 5, \"y\": 2, \"z\": 42.70579831932773}, {\"x\": 5, \"y\": 3, \"z\": 61.72837606837607}, {\"x\": 5, \"y\": 4, \"z\": 43.07008695652174}, {\"x\": 5, \"y\": 5, \"z\": 44.312844827586204}, {\"x\": 5, \"y\": 6, \"z\": 42.25269565217392}, {\"x\": 5, \"y\": 7, \"z\": 47.07408695652174}, {\"x\": 5, \"y\": 8, \"z\": 47.23681415929204}, {\"x\": 5, \"y\": 9, \"z\": 40.93}, {\"x\": 5, \"y\": 10, \"z\": 53.32512605042017}, {\"x\": 5, \"y\": 11, \"z\": 47.364576271186436}, {\"x\": 5, \"y\": 12, \"z\": 62.22128205128205}, {\"x\": 5, \"y\": 13, \"z\": 73.89345132743362}, {\"x\": 5, \"y\": 14, \"z\": 79.71}, {\"x\": 5, \"y\": 15, \"z\": 48.457478260869564}, {\"x\": 5, \"y\": 16, \"z\": 39.84398230088495}, {\"x\": 5, \"y\": 17, \"z\": 69.85973684210526}, {\"x\": 5, \"y\": 18, \"z\": 63.75763157894737}, {\"x\": 5, \"y\": 19, \"z\": 42.89398230088496}, {\"x\": 5, \"y\": 20, \"z\": 48.87474576271187}, {\"x\": 5, \"y\": 21, \"z\": 55.80793103448276}, {\"x\": 5, \"y\": 22, \"z\": 50.92008403361344}, {\"x\": 5, \"y\": 23, \"z\": 45.68669565217392}, {\"x\": 5, \"y\": 24, \"z\": 79.33666666666666}, {\"x\": 5, \"y\": 25, \"z\": 65.79358974358975}, {\"x\": 5, \"y\": 26, \"z\": 51.35307692307693}, {\"x\": 5, \"y\": 27, \"z\": 47.69201680672269}, {\"x\": 5, \"y\": 28, \"z\": 56.34353448275862}, {\"x\": 5, \"y\": 29, \"z\": 52.519}, {\"x\": 5, \"y\": 30, \"z\": 48.27008333333333}, {\"x\": 5, \"y\": 31, \"z\": 47.61958333333334}, {\"x\": 6, \"y\": 1, \"z\": 48.73125}, {\"x\": 6, \"y\": 2, \"z\": 51.87525}, {\"x\": 6, \"y\": 3, \"z\": 51.82508333333333}, {\"x\": 6, \"y\": 4, \"z\": 49.041500000000006}, {\"x\": 6, \"y\": 5, \"z\": 45.59375}, {\"x\": 6, \"y\": 6, \"z\": 43.16564102564103}, {\"x\": 6, \"y\": 7, \"z\": 43.609243697478995}, {\"x\": 6, \"y\": 8, \"z\": 44.089000000000006}, {\"x\": 6, \"y\": 9, \"z\": 42.949137931034485}, {\"x\": 6, \"y\": 10, \"z\": 50.246638655462185}, {\"x\": 6, \"y\": 11, \"z\": 63.925666666666665}, {\"x\": 6, \"y\": 12, \"z\": 53.64725}, {\"x\": 6, \"y\": 13, \"z\": 49.33635593220339}, {\"x\": 6, \"y\": 14, \"z\": 49.778898305084745}, {\"x\": 6, \"y\": 15, \"z\": 55.32923076923076}, {\"x\": 6, \"y\": 16, \"z\": 52.47113043478261}, {\"x\": 6, \"y\": 17, \"z\": 66.84466666666667}, {\"x\": 6, \"y\": 18, \"z\": 69.32474576271186}, {\"x\": 6, \"y\": 19, \"z\": 52.36162393162393}, {\"x\": 6, \"y\": 20, \"z\": 47.497}, {\"x\": 6, \"y\": 21, \"z\": 40.22134453781513}, {\"x\": 6, \"y\": 22, \"z\": 44.4275}, {\"x\": 6, \"y\": 23, \"z\": 56.29777777777778}, {\"x\": 6, \"y\": 24, \"z\": 63.987}, {\"x\": 6, \"y\": 25, \"z\": 48.11183333333334}, {\"x\": 6, \"y\": 26, \"z\": 45.64666666666667}, {\"x\": 6, \"y\": 27, \"z\": 58.47741666666666}, {\"x\": 6, \"y\": 28, \"z\": 56.132222222222225}, {\"x\": 6, \"y\": 29, \"z\": 49.52561403508772}, {\"x\": 6, \"y\": 30, \"z\": 53.010769230769235}, {\"x\": 7, \"y\": 1, \"z\": 53.993}, {\"x\": 7, \"y\": 2, \"z\": 51.98191666666666}, {\"x\": 7, \"y\": 3, \"z\": 47.38375}, {\"x\": 7, \"y\": 4, \"z\": 43.87839622641509}, {\"x\": 7, \"y\": 5, \"z\": 57.14271739130435}, {\"x\": 7, \"y\": 6, \"z\": 69.63111111111111}, {\"x\": 7, \"y\": 7, \"z\": 71.5581111111111}, {\"x\": 7, \"y\": 8, \"z\": 57.06421686746988}, {\"x\": 7, \"y\": 9, \"z\": 42.11056179775281}, {\"x\": 7, \"y\": 10, \"z\": 45.287340425531916}, {\"x\": 7, \"y\": 11, \"z\": 49.0921052631579}, {\"x\": 7, \"y\": 12, \"z\": 44.50568421052632}, {\"x\": 7, \"y\": 13, \"z\": 40.164631578947365}, {\"x\": 7, \"y\": 14, \"z\": 44.48434782608695}, {\"x\": 7, \"y\": 15, \"z\": 47.5489898989899}, {\"x\": 7, \"y\": 16, \"z\": 52.0159375}, {\"x\": 7, \"y\": 17, \"z\": 48.68705263157895}, {\"x\": 7, \"y\": 18, \"z\": 53.050200000000004}, {\"x\": 7, \"y\": 19, \"z\": 53.17731092436975}, {\"x\": 7, \"y\": 20, \"z\": 56.788000000000004}, {\"x\": 7, \"y\": 21, \"z\": 62.45364485981308}, {\"x\": 7, \"y\": 22, \"z\": 63.06448979591836}, {\"x\": 7, \"y\": 23, \"z\": 60.33833333333333}, {\"x\": 7, \"y\": 24, \"z\": 56.260961538461544}, {\"x\": 7, \"y\": 25, \"z\": 55.387830188679246}, {\"x\": 7, \"y\": 26, \"z\": 53.94197916666667}, {\"x\": 7, \"y\": 27, \"z\": 60.7109375}, {\"x\": 7, \"y\": 28, \"z\": 57.59916666666667}, {\"x\": 7, \"y\": 29, \"z\": 50.77406250000001}, {\"x\": 7, \"y\": 30, \"z\": 53.156666666666666}, {\"x\": 7, \"y\": 31, \"z\": 51.30927083333333}, {\"x\": 8, \"y\": 1, \"z\": 52.35252525252525}, {\"x\": 8, \"y\": 2, \"z\": 50.55052083333334}, {\"x\": 8, \"y\": 3, \"z\": 46.01833333333334}, {\"x\": 8, \"y\": 4, \"z\": 44.50969696969697}, {\"x\": 8, \"y\": 5, \"z\": 47.83225}, {\"x\": 8, \"y\": 6, \"z\": 46.8885}, {\"x\": 8, \"y\": 7, \"z\": 54.89666666666667}, {\"x\": 8, \"y\": 8, \"z\": 60.54591666666667}, {\"x\": 8, \"y\": 9, \"z\": 47.23008333333333}, {\"x\": 8, \"y\": 10, \"z\": 48.71908333333333}, {\"x\": 8, \"y\": 11, \"z\": 46.514}, {\"x\": 8, \"y\": 12, \"z\": 43.05793103448276}, {\"x\": 8, \"y\": 13, \"z\": 55.07366666666667}, {\"x\": 8, \"y\": 14, \"z\": 75.86033333333333}, {\"x\": 8, \"y\": 15, \"z\": 65.94703389830508}, {\"x\": 8, \"y\": 16, \"z\": 52.322583333333334}, {\"x\": 8, \"y\": 17, \"z\": 46.744166666666665}, {\"x\": 8, \"y\": 18, \"z\": 43.734500000000004}, {\"x\": 8, \"y\": 19, \"z\": 48.3075}, {\"x\": 8, \"y\": 20, \"z\": 49.72108333333333}, {\"x\": 8, \"y\": 21, \"z\": 50.96125}, {\"x\": 8, \"y\": 22, \"z\": 49.234833333333334}, {\"x\": 8, \"y\": 23, \"z\": 55.17458333333333}, {\"x\": 8, \"y\": 24, \"z\": 50.114830508474576}, {\"x\": 8, \"y\": 25, \"z\": 45.45941666666667}, {\"x\": 8, \"y\": 26, \"z\": 50.811166666666665}, {\"x\": 8, \"y\": 27, \"z\": 48.412166666666664}, {\"x\": 8, \"y\": 28, \"z\": 50.174}, {\"x\": 8, \"y\": 29, \"z\": 43.59458333333334}, {\"x\": 8, \"y\": 30, \"z\": 42.68183333333333}, {\"x\": 8, \"y\": 31, \"z\": 44.423}, {\"x\": 9, \"y\": 1, \"z\": 47.38816666666666}, {\"x\": 9, \"y\": 2, \"z\": 46.332166666666666}, {\"x\": 9, \"y\": 3, \"z\": 44.687583333333336}, {\"x\": 9, \"y\": 4, \"z\": 41.447250000000004}, {\"x\": 9, \"y\": 5, \"z\": 48.233193277310924}, {\"x\": 9, \"y\": 6, \"z\": 45.447264957264956}, {\"x\": 9, \"y\": 7, \"z\": 42.99208333333333}, {\"x\": 9, \"y\": 8, \"z\": 39.57054054054054}, {\"x\": 9, \"y\": 9, \"z\": 39.574363636363636}, {\"x\": 9, \"y\": 10, \"z\": 43.9405}, {\"x\": 9, \"y\": 11, \"z\": 46.16193277310925}, {\"x\": 9, \"y\": 12, \"z\": 42.997166666666665}, {\"x\": 9, \"y\": 13, \"z\": 44.505833333333335}, {\"x\": 9, \"y\": 14, \"z\": 46.05781512605042}, {\"x\": 9, \"y\": 15, \"z\": 45.227203389830514}, {\"x\": 9, \"y\": 16, \"z\": 44.32711538461538}, {\"x\": 9, \"y\": 17, \"z\": 50.82895833333333}, {\"x\": 9, \"y\": 18, \"z\": 51.15125}, {\"x\": 9, \"y\": 19, \"z\": 52.6115625}, {\"x\": 9, \"y\": 20, \"z\": 46.89295238095238}, {\"x\": 9, \"y\": 21, \"z\": 48.622689075630255}, {\"x\": 9, \"y\": 22, \"z\": 47.45033333333333}, {\"x\": 9, \"y\": 23, \"z\": 46.1144537815126}, {\"x\": 9, \"y\": 24, \"z\": 46.458999999999996}, {\"x\": 9, \"y\": 25, \"z\": 50.51116666666667}, {\"x\": 9, \"y\": 26, \"z\": 54.275333333333336}, {\"x\": 9, \"y\": 27, \"z\": 50.07575}, {\"x\": 9, \"y\": 28, \"z\": 41.883916666666664}, {\"x\": 9, \"y\": 29, \"z\": 42.067750000000004}, {\"x\": 9, \"y\": 30, \"z\": 42.72366666666667}, {\"x\": 10, \"y\": 1, \"z\": 42.14805309734513}, {\"x\": 10, \"y\": 2, \"z\": 44.32958333333333}, {\"x\": 10, \"y\": 3, \"z\": 45.73716666666667}, {\"x\": 10, \"y\": 4, \"z\": 49.379583333333336}, {\"x\": 10, \"y\": 5, \"z\": 46.48814159292035}, {\"x\": 10, \"y\": 6, \"z\": 42.59690909090909}, {\"x\": 10, \"y\": 7, \"z\": 51.91577981651376}, {\"x\": 10, \"y\": 8, \"z\": 37.77190909090909}, {\"x\": 10, \"y\": 9, \"z\": 35.222211538461536}, {\"x\": 10, \"y\": 10, \"z\": 39.03818965517242}, {\"x\": 10, \"y\": 11, \"z\": 37.824705882352944}, {\"x\": 10, \"y\": 12, \"z\": 40.34708333333333}, {\"x\": 10, \"y\": 13, \"z\": 41.20399999999999}, {\"x\": 10, \"y\": 14, \"z\": 35.1375}, {\"x\": 10, \"y\": 15, \"z\": 33.408833333333334}, {\"x\": 10, \"y\": 16, \"z\": 36.76899159663866}, {\"x\": 10, \"y\": 17, \"z\": 41.270833333333336}, {\"x\": 10, \"y\": 18, \"z\": 37.85783333333333}, {\"x\": 10, \"y\": 19, \"z\": 36.14125}, {\"x\": 10, \"y\": 20, \"z\": 35.827416666666664}, {\"x\": 10, \"y\": 21, \"z\": 33.47798319327731}, {\"x\": 10, \"y\": 22, \"z\": 31.916956521739127}, {\"x\": 10, \"y\": 23, \"z\": 34.01596153846154}, {\"x\": 10, \"y\": 24, \"z\": 32.59411764705882}, {\"x\": 10, \"y\": 25, \"z\": 33.95735042735043}, {\"x\": 10, \"y\": 26, \"z\": 35.703428571428574}, {\"x\": 10, \"y\": 27, \"z\": 34.9365}, {\"x\": 10, \"y\": 28, \"z\": 34.98025210084033}, {\"x\": 10, \"y\": 29, \"z\": 34.051440677966106}, {\"x\": 10, \"y\": 30, \"z\": 34.15241666666667}, {\"x\": 10, \"y\": 31, \"z\": 31.135363636363635}, {\"x\": 11, \"y\": 1, \"z\": 32.34928571428571}, {\"x\": 11, \"y\": 2, \"z\": 32.74175438596491}, {\"x\": 11, \"y\": 3, \"z\": 36.49308333333333}, {\"x\": 11, \"y\": 4, \"z\": 34.217899159663865}, {\"x\": 11, \"y\": 5, \"z\": 33.10658333333333}, {\"x\": 11, \"y\": 6, \"z\": 29.735083333333332}, {\"x\": 11, \"y\": 7, \"z\": 30.5185}, {\"x\": 11, \"y\": 8, \"z\": 31.42957627118644}, {\"x\": 11, \"y\": 9, \"z\": 30.25183333333333}, {\"x\": 11, \"y\": 10, \"z\": 29.856638655462184}, {\"x\": 11, \"y\": 11, \"z\": 27.879272727272724}, {\"x\": 11, \"y\": 12, \"z\": 28.67125}, {\"x\": 11, \"y\": 13, \"z\": 28.071016949152543}, {\"x\": 11, \"y\": 14, \"z\": 25.992268907563023}, {\"x\": 11, \"y\": 15, \"z\": 29.237881355932206}, {\"x\": 11, \"y\": 16, \"z\": 34.421578947368424}, {\"x\": 11, \"y\": 17, \"z\": 37.309583333333336}, {\"x\": 11, \"y\": 18, \"z\": 32.46642857142857}, {\"x\": 11, \"y\": 19, \"z\": 31.900937499999998}, {\"x\": 11, \"y\": 20, \"z\": 31.485833333333332}, {\"x\": 11, \"y\": 21, \"z\": 31.670744680851065}, {\"x\": 11, \"y\": 22, \"z\": 33.276630434782604}, {\"x\": 11, \"y\": 23, \"z\": 34.8215625}, {\"x\": 11, \"y\": 24, \"z\": 30.24115789473684}, {\"x\": 11, \"y\": 25, \"z\": 29.713723404255322}, {\"x\": 11, \"y\": 26, \"z\": 31.744315789473685}, {\"x\": 11, \"y\": 27, \"z\": 36.72739583333333}, {\"x\": 11, \"y\": 28, \"z\": 34.21927083333333}, {\"x\": 11, \"y\": 29, \"z\": 34.506236559139786}, {\"x\": 11, \"y\": 30, \"z\": 38.110104166666666}, {\"x\": 12, \"y\": 1, \"z\": 39.10578947368421}, {\"x\": 12, \"y\": 2, \"z\": 34.411770833333335}, {\"x\": 12, \"y\": 3, \"z\": 36.37720430107527}, {\"x\": 12, \"y\": 4, \"z\": 36.319375}, {\"x\": 12, \"y\": 5, \"z\": 33.79895833333333}, {\"x\": 12, \"y\": 6, \"z\": 33.8989010989011}, {\"x\": 12, \"y\": 7, \"z\": 31.695104166666667}, {\"x\": 12, \"y\": 8, \"z\": 29.980526315789476}, {\"x\": 12, \"y\": 9, \"z\": 27.02536842105263}, {\"x\": 12, \"y\": 10, \"z\": 29.20895833333333}, {\"x\": 12, \"y\": 11, \"z\": 29.433125}, {\"x\": 12, \"y\": 12, \"z\": 29.41315789473684}, {\"x\": 12, \"y\": 13, \"z\": 31.609684210526318}, {\"x\": 12, \"y\": 14, \"z\": 32.7528125}, {\"x\": 12, \"y\": 15, \"z\": 35.78784946236559}, {\"x\": 12, \"y\": 16, \"z\": 28.225157894736842}, {\"x\": 12, \"y\": 17, \"z\": 30.324895833333333}, {\"x\": 12, \"y\": 18, \"z\": 30.21302083333333}, {\"x\": 12, \"y\": 19, \"z\": 31.17357894736842}, {\"x\": 12, \"y\": 20, \"z\": 32.81369565217391}, {\"x\": 12, \"y\": 21, \"z\": 34.81178947368421}, {\"x\": 12, \"y\": 22, \"z\": 39.998453608247424}, {\"x\": 12, \"y\": 23, \"z\": 40.493125000000006}, {\"x\": 12, \"y\": 24, \"z\": 41.927}, {\"x\": 12, \"y\": 25, \"z\": 32.876386554621845}, {\"x\": 12, \"y\": 26, \"z\": 27.498846153846156}, {\"x\": 12, \"y\": 27, \"z\": 34.82336448598131}, {\"x\": 12, \"y\": 28, \"z\": 37.05479166666667}, {\"x\": 12, \"y\": 29, \"z\": 39.315}, {\"x\": 12, \"y\": 30, \"z\": 44.46185567010309}, {\"x\": 12, \"y\": 31, \"z\": 37.150454545454544}]}}, {\"mode\": \"vega-lite\"});\n",
       "</script>"
      ],
      "text/plain": [
       "alt.Chart(...)"
      ]
     },
     "execution_count": 26,
     "metadata": {},
     "output_type": "execute_result"
    }
   ],
   "source": [
    "alt.Chart(qatar_src).mark_rect().encode(\n",
    "    x=alt.X(\n",
    "        \"x:O\",\n",
    "    ),\n",
    "    y=alt.Y(\"y:O\"),\n",
    "    color=alt.Color(\n",
    "        \"z:Q\",\n",
    "        legend=alt.Legend(title=\"PM2.5 particles\"),\n",
    "        scale=alt.Scale(scheme=\"spectral\", reverse=True, domain=[0, 91]),\n",
    "    ),\n",
    ")"
   ]
  },
  {
   "cell_type": "markdown",
   "id": "316e79cf-0cef-4dd3-b1df-bf8bd09e2202",
   "metadata": {},
   "source": [
    "### Get hourly data for bid countries and frequent hosts"
   ]
  },
  {
   "cell_type": "code",
   "execution_count": 27,
   "id": "d138d9d0-bb56-4473-8a45-291cbe0c0905",
   "metadata": {},
   "outputs": [],
   "source": [
    "for_links = freq_hosts.str.replace(\" \", \"_\")[1:]"
   ]
  },
  {
   "cell_type": "code",
   "execution_count": 28,
   "id": "ad1a8fc9-04bc-449a-a4f0-88fdece270a6",
   "metadata": {},
   "outputs": [],
   "source": [
    "bids = [\"South_Korea\", \"Japan\", \"Australia\"]"
   ]
  },
  {
   "cell_type": "code",
   "execution_count": 29,
   "id": "87c09f95-73b2-4d41-bf2c-5470b420b94e",
   "metadata": {},
   "outputs": [],
   "source": [
    "dataframes = []\n",
    "for f in for_links:\n",
    "    dataframes.append(\n",
    "        pd.read_csv(\n",
    "            \"http://berkeleyearth.lbl.gov/air-quality/maps/cities/\"\n",
    "            + str(f)\n",
    "            + \"/\"\n",
    "            + str(f)\n",
    "            + \".txt\",\n",
    "            skiprows=7,\n",
    "            sep=\"\\t\",\n",
    "        )\n",
    "        .assign(country=f)\n",
    "        .reset_index()\n",
    "    )"
   ]
  },
  {
   "cell_type": "code",
   "execution_count": 30,
   "id": "559e7f9a-39a4-4bed-b094-6721babe6e3d",
   "metadata": {},
   "outputs": [],
   "source": [
    "for bid in bids:\n",
    "    dataframes.append(\n",
    "        pd.read_csv(\n",
    "            \"http://berkeleyearth.lbl.gov/air-quality/maps/cities/\"\n",
    "            + str(bid)\n",
    "            + \"/\"\n",
    "            + str(bid)\n",
    "            + \".txt\",\n",
    "            skiprows=7,\n",
    "            sep=\"\\t\",\n",
    "        )\n",
    "        .assign(country=bid)\n",
    "        .reset_index()\n",
    "    )"
   ]
  },
  {
   "cell_type": "code",
   "execution_count": 31,
   "id": "b6629643-5616-4543-9fca-dbe3e49d59f2",
   "metadata": {},
   "outputs": [],
   "source": [
    "for d in dataframes:\n",
    "    d.columns = [\n",
    "        \"year\",\n",
    "        \"month\",\n",
    "        \"day\",\n",
    "        \"utc_hour\",\n",
    "        \"pm2.5\",\n",
    "        \"pm10_mask\",\n",
    "        \"retrospective\",\n",
    "        \"country\",\n",
    "    ]"
   ]
  },
  {
   "cell_type": "code",
   "execution_count": 32,
   "id": "5080fcdd-26a9-479f-84c5-7ba9f3a29406",
   "metadata": {},
   "outputs": [],
   "source": [
    "for d in dataframes:\n",
    "    d[\"date\"] = pd.to_datetime(\n",
    "        d[\"year\"].astype(str)\n",
    "        + \"-\"\n",
    "        + d[\"month\"].astype(str)\n",
    "        + \"-\"\n",
    "        + d[\"day\"].astype(str)\n",
    "    )"
   ]
  },
  {
   "cell_type": "code",
   "execution_count": 33,
   "id": "62642d4b-a5ac-4ec9-a00f-6c7acc98586d",
   "metadata": {},
   "outputs": [],
   "source": [
    "france_aq = dataframes[0]\n",
    "germany_aq = dataframes[1]\n",
    "italy_aq = dataframes[2]\n",
    "mexico_aq = dataframes[3]\n",
    "us_aq = dataframes[4]\n",
    "sk_aq = dataframes[5]\n",
    "japan_aq = dataframes[6]\n",
    "aus_aq = dataframes[7]"
   ]
  },
  {
   "cell_type": "markdown",
   "id": "08789fed-23b7-4bb0-b781-6919046c9b83",
   "metadata": {},
   "source": [
    "#### Make \"[climate stripes](https://showyourstripes.info/s/southamerica/brazil/riodejaneiro)\" with hourly/daily aq data on host countries"
   ]
  },
  {
   "cell_type": "code",
   "execution_count": 34,
   "id": "256a0caf-9983-43d5-8fba-979ff038670f",
   "metadata": {},
   "outputs": [],
   "source": [
    "df = pd.concat([qatar_aq, us_aq, germany_aq, mexico_aq])[\n",
    "    [\"date\", \"utc_hour\", \"country\", \"pm2.5\"]\n",
    "]"
   ]
  },
  {
   "cell_type": "code",
   "execution_count": 35,
   "id": "ea6c6155-d551-4680-83ae-3433189a292e",
   "metadata": {},
   "outputs": [],
   "source": [
    "df_daily = df.groupby([\"date\", \"country\"])[\"pm2.5\"].mean().reset_index().copy()"
   ]
  },
  {
   "cell_type": "code",
   "execution_count": 36,
   "id": "d2682175-5184-4f99-bab3-7c82f69f7702",
   "metadata": {},
   "outputs": [],
   "source": [
    "df_daily[\"y\"] = 2"
   ]
  },
  {
   "cell_type": "code",
   "execution_count": 37,
   "id": "d404cd0f-72c5-4be1-a491-301035537529",
   "metadata": {},
   "outputs": [],
   "source": [
    "df_daily[\"country\"] = df_daily[\"country\"].str.replace(\"_\", \" \")"
   ]
  },
  {
   "cell_type": "code",
   "execution_count": 38,
   "id": "a68e65ba-db2b-4bd3-b887-a46e328189fc",
   "metadata": {},
   "outputs": [],
   "source": [
    "aq_stripes = pd.DataFrame(\n",
    "    {\n",
    "        \"x\": df_daily[\"date\"].ravel(),\n",
    "        \"y\": df_daily[\"y\"].ravel(),\n",
    "        \"z\": df_daily[\"pm2.5\"].ravel(),\n",
    "        \"country\": df_daily[\"country\"],\n",
    "    }\n",
    ")"
   ]
  },
  {
   "cell_type": "code",
   "execution_count": null,
   "id": "29cf7a9b-cf1d-4c58-84f2-459f5209a999",
   "metadata": {},
   "outputs": [],
   "source": []
  },
  {
   "cell_type": "code",
   "execution_count": 39,
   "id": "2fad6efa-4b23-4d33-9225-ad4b9017535d",
   "metadata": {},
   "outputs": [
    {
     "name": "stderr",
     "output_type": "stream",
     "text": [
      "/Users/amatthews/.local/share/virtualenvs/notebooks-tkHVtsX-/lib/python3.9/site-packages/altair/utils/core.py:317: FutureWarning: iteritems is deprecated and will be removed in a future version. Use .items instead.\n",
      "  for col_name, dtype in df.dtypes.iteritems():\n"
     ]
    },
    {
     "data": {
      "text/html": [
       "\n",
       "<div id=\"altair-viz-ac5b8a3516934defac8278ee773ab6e1\"></div>\n",
       "<script type=\"text/javascript\">\n",
       "  var VEGA_DEBUG = (typeof VEGA_DEBUG == \"undefined\") ? {} : VEGA_DEBUG;\n",
       "  (function(spec, embedOpt){\n",
       "    let outputDiv = document.currentScript.previousElementSibling;\n",
       "    if (outputDiv.id !== \"altair-viz-ac5b8a3516934defac8278ee773ab6e1\") {\n",
       "      outputDiv = document.getElementById(\"altair-viz-ac5b8a3516934defac8278ee773ab6e1\");\n",
       "    }\n",
       "    const paths = {\n",
       "      \"vega\": \"https://cdn.jsdelivr.net/npm//vega@5?noext\",\n",
       "      \"vega-lib\": \"https://cdn.jsdelivr.net/npm//vega-lib?noext\",\n",
       "      \"vega-lite\": \"https://cdn.jsdelivr.net/npm//vega-lite@4.17.0?noext\",\n",
       "      \"vega-embed\": \"https://cdn.jsdelivr.net/npm//vega-embed@6?noext\",\n",
       "    };\n",
       "\n",
       "    function maybeLoadScript(lib, version) {\n",
       "      var key = `${lib.replace(\"-\", \"\")}_version`;\n",
       "      return (VEGA_DEBUG[key] == version) ?\n",
       "        Promise.resolve(paths[lib]) :\n",
       "        new Promise(function(resolve, reject) {\n",
       "          var s = document.createElement('script');\n",
       "          document.getElementsByTagName(\"head\")[0].appendChild(s);\n",
       "          s.async = true;\n",
       "          s.onload = () => {\n",
       "            VEGA_DEBUG[key] = version;\n",
       "            return resolve(paths[lib]);\n",
       "          };\n",
       "          s.onerror = () => reject(`Error loading script: ${paths[lib]}`);\n",
       "          s.src = paths[lib];\n",
       "        });\n",
       "    }\n",
       "\n",
       "    function showError(err) {\n",
       "      outputDiv.innerHTML = `<div class=\"error\" style=\"color:red;\">${err}</div>`;\n",
       "      throw err;\n",
       "    }\n",
       "\n",
       "    function displayChart(vegaEmbed) {\n",
       "      vegaEmbed(outputDiv, spec, embedOpt)\n",
       "        .catch(err => showError(`Javascript Error: ${err.message}<br>This usually means there's a typo in your chart specification. See the javascript console for the full traceback.`));\n",
       "    }\n",
       "\n",
       "    if(typeof define === \"function\" && define.amd) {\n",
       "      requirejs.config({paths});\n",
       "      require([\"vega-embed\"], displayChart, err => showError(`Error loading script: ${err.message}`));\n",
       "    } else {\n",
       "      maybeLoadScript(\"vega\", \"5\")\n",
       "        .then(() => maybeLoadScript(\"vega-lite\", \"4.17.0\"))\n",
       "        .then(() => maybeLoadScript(\"vega-embed\", \"6\"))\n",
       "        .catch(showError)\n",
       "        .then(() => displayChart(vegaEmbed));\n",
       "    }\n",
       "  })({\"config\": {\"view\": {\"width\": 800, \"height\": 450, \"strokeOpacity\": 0}, \"background\": \"#ffffff\", \"title\": {\"anchor\": \"start\", \"font\": \"Summit Sans\", \"fontColor\": \"palette[\\\"black\\\"]\", \"fontSize\": 18, \"fontWeight\": \"normal\"}, \"arc\": {\"fill\": \"#00d4d8\"}, \"area\": {\"fill\": \"#00d4d8\"}, \"line\": {\"stroke\": \"#00d4d8\", \"strokeWidth\": 3}, \"path\": {\"stroke\": \"#00d4d8\"}, \"rect\": {\"fill\": \"#00d4d8\"}, \"shape\": {\"stroke\": \"#00d4d8\"}, \"bar\": {\"fill\": \"#00d4d8\"}, \"point\": {\"stroke\": \"#00d4d8\"}, \"symbol\": {\"fill\": \"#00d4d8\", \"size\": 30}, \"axis\": {\"titleFont\": \"Roboto\", \"titleFontSize\": 15, \"titleFontWeight\": \"normal\", \"labelFont\": \"Roboto, sans\", \"labelFontSize\": 13, \"labelFontWeight\": \"normal\"}, \"axisX\": {\"labelAngle\": 0, \"labelPadding\": 6, \"tickSize\": 3, \"grid\": false}, \"axisY\": {\"labelBaseline\": \"middle\", \"maxExtent\": 45, \"minExtent\": 45, \"titleAlign\": \"left\", \"titleAngle\": 0, \"titleX\": -45, \"titleY\": -11, \"domainOpacity\": 0, \"gridWidth\": 0.6, \"gridColor\": \"#dddddd\", \"offset\": 6, \"tickSize\": 0, \"titleColor\": \"#767676\"}, \"legend\": {\"titleFont\": \"Roboto\", \"titleFontSize\": 15, \"titleFontWeight\": \"normal\", \"symbolType\": \"square\", \"labelFont\": \"Roboto, sans\", \"labelFontSize\": 13}, \"range\": {\"category\": [\"#005f66\", \"#e37e2d\", \"#d64a3b\", \"#76b0ef\", \"#c1bc40\"], \"diverging\": [\"#e68a4f\", \"#f4bb6a\", \"#f9e39c\", \"#dadfe2\", \"#a6b7c6\", \"#849eae\"], \"heatmap\": [\"#7ff6f6\", \"#00eeef\", \"#00d4d8\", \"#00abb2\", \"#00848b\", \"#fbf2c7\", \"#00363d\"], \"ordinal\": [\"#7ff6f6\", \"#00eeef\", \"#00d4d8\", \"#00abb2\", \"#00848b\", \"#fbf2c7\", \"#00363d\"], \"ramp\": [\"#7ff6f6\", \"#00eeef\", \"#00d4d8\", \"#00abb2\", \"#00848b\", \"#fbf2c7\", \"#00363d\"]}}, \"data\": {\"name\": \"data-6aeea38b7923eb6fd985cae228dec695\"}, \"mark\": \"bar\", \"encoding\": {\"color\": {\"field\": \"z\", \"legend\": {\"title\": \"Average daily air pollution (PM2.5 particles)\"}, \"scale\": {\"domain\": [0, 200], \"reverse\": true, \"scheme\": \"spectral\"}, \"type\": \"quantitative\"}, \"facet\": {\"columns\": 1, \"field\": \"country\", \"sort\": [\"Mexico\", \"Germany\", \"United States\", \"Qatar\"], \"title\": \"\", \"type\": \"nominal\"}, \"x\": {\"axis\": {\"title\": \"\", \"values\": [\"2022-01-01T00:00:00\", \"2022-04-01T00:00:00\", \"2022-06-14T00:00:00\", \"2022-07-01T00:00:00\", \"2022-07-15T00:00:00\", \"2022-10-01T00:00:00\", \"2022-11-01T00:00:00\"]}, \"field\": \"x\", \"type\": \"ordinal\"}, \"y\": {\"axis\": {\"tickCount\": 0}, \"field\": \"y\", \"title\": \"\", \"type\": \"quantitative\"}}, \"height\": 100, \"width\": 360, \"$schema\": \"https://vega.github.io/schema/vega-lite/v4.17.0.json\", \"datasets\": {\"data-6aeea38b7923eb6fd985cae228dec695\": [{\"x\": \"2022-06-01T00:00:00\", \"y\": 2, \"z\": 5.386666666666667, \"country\": \"Germany\"}, {\"x\": \"2022-06-01T00:00:00\", \"y\": 2, \"z\": 9.62, \"country\": \"Mexico\"}, {\"x\": \"2022-06-01T00:00:00\", \"y\": 2, \"z\": 57.135, \"country\": \"Qatar\"}, {\"x\": \"2022-06-01T00:00:00\", \"y\": 2, \"z\": 5.968333333333334, \"country\": \"United States\"}, {\"x\": \"2022-06-02T00:00:00\", \"y\": 2, \"z\": 5.1812499999999995, \"country\": \"Germany\"}, {\"x\": \"2022-06-02T00:00:00\", \"y\": 2, \"z\": 7.939583333333334, \"country\": \"Mexico\"}, {\"x\": \"2022-06-02T00:00:00\", \"y\": 2, \"z\": 58.14333333333334, \"country\": \"Qatar\"}, {\"x\": \"2022-06-02T00:00:00\", \"y\": 2, \"z\": 5.4975, \"country\": \"United States\"}, {\"x\": \"2022-06-03T00:00:00\", \"y\": 2, \"z\": 6.3125, \"country\": \"Germany\"}, {\"x\": \"2022-06-03T00:00:00\", \"y\": 2, \"z\": 7.489999999999999, \"country\": \"Mexico\"}, {\"x\": \"2022-06-03T00:00:00\", \"y\": 2, \"z\": 63.32041666666667, \"country\": \"Qatar\"}, {\"x\": \"2022-06-03T00:00:00\", \"y\": 2, \"z\": 5.265, \"country\": \"United States\"}, {\"x\": \"2022-06-04T00:00:00\", \"y\": 2, \"z\": 7.4383333333333335, \"country\": \"Germany\"}, {\"x\": \"2022-06-04T00:00:00\", \"y\": 2, \"z\": 8.316666666666666, \"country\": \"Mexico\"}, {\"x\": \"2022-06-04T00:00:00\", \"y\": 2, \"z\": 50.78958333333333, \"country\": \"Qatar\"}, {\"x\": \"2022-06-04T00:00:00\", \"y\": 2, \"z\": 5.4075, \"country\": \"United States\"}, {\"x\": \"2022-06-05T00:00:00\", \"y\": 2, \"z\": 9.2425, \"country\": \"Germany\"}, {\"x\": \"2022-06-05T00:00:00\", \"y\": 2, \"z\": 8.500833333333333, \"country\": \"Mexico\"}, {\"x\": \"2022-06-05T00:00:00\", \"y\": 2, \"z\": 46.437916666666666, \"country\": \"Qatar\"}, {\"x\": \"2022-06-05T00:00:00\", \"y\": 2, \"z\": 5.547083333333333, \"country\": \"United States\"}, {\"x\": \"2022-06-06T00:00:00\", \"y\": 2, \"z\": 6.4745833333333325, \"country\": \"Germany\"}, {\"x\": \"2022-06-06T00:00:00\", \"y\": 2, \"z\": 7.682083333333334, \"country\": \"Mexico\"}, {\"x\": \"2022-06-06T00:00:00\", \"y\": 2, \"z\": 33.67208333333333, \"country\": \"Qatar\"}, {\"x\": \"2022-06-06T00:00:00\", \"y\": 2, \"z\": 5.607500000000001, \"country\": \"United States\"}, {\"x\": \"2022-06-07T00:00:00\", \"y\": 2, \"z\": 4.984166666666667, \"country\": \"Germany\"}, {\"x\": \"2022-06-07T00:00:00\", \"y\": 2, \"z\": 9.8425, \"country\": \"Mexico\"}, {\"x\": \"2022-06-07T00:00:00\", \"y\": 2, \"z\": 32.39791666666667, \"country\": \"Qatar\"}, {\"x\": \"2022-06-07T00:00:00\", \"y\": 2, \"z\": 5.767499999999999, \"country\": \"United States\"}, {\"x\": \"2022-06-08T00:00:00\", \"y\": 2, \"z\": 5.300833333333333, \"country\": \"Germany\"}, {\"x\": \"2022-06-08T00:00:00\", \"y\": 2, \"z\": 11.997083333333334, \"country\": \"Mexico\"}, {\"x\": \"2022-06-08T00:00:00\", \"y\": 2, \"z\": 35.187083333333334, \"country\": \"Qatar\"}, {\"x\": \"2022-06-08T00:00:00\", \"y\": 2, \"z\": 5.666250000000001, \"country\": \"United States\"}, {\"x\": \"2022-06-09T00:00:00\", \"y\": 2, \"z\": 5.392916666666667, \"country\": \"Germany\"}, {\"x\": \"2022-06-09T00:00:00\", \"y\": 2, \"z\": 11.793750000000001, \"country\": \"Mexico\"}, {\"x\": \"2022-06-09T00:00:00\", \"y\": 2, \"z\": 36.75833333333333, \"country\": \"Qatar\"}, {\"x\": \"2022-06-09T00:00:00\", \"y\": 2, \"z\": 5.71625, \"country\": \"United States\"}, {\"x\": \"2022-06-10T00:00:00\", \"y\": 2, \"z\": 5.959166666666667, \"country\": \"Germany\"}, {\"x\": \"2022-06-10T00:00:00\", \"y\": 2, \"z\": 8.534166666666666, \"country\": \"Mexico\"}, {\"x\": \"2022-06-10T00:00:00\", \"y\": 2, \"z\": 50.35375, \"country\": \"Qatar\"}, {\"x\": \"2022-06-10T00:00:00\", \"y\": 2, \"z\": 5.801666666666667, \"country\": \"United States\"}, {\"x\": \"2022-06-11T00:00:00\", \"y\": 2, \"z\": 6.3725, \"country\": \"Germany\"}, {\"x\": \"2022-06-11T00:00:00\", \"y\": 2, \"z\": 9.175833333333333, \"country\": \"Mexico\"}, {\"x\": \"2022-06-11T00:00:00\", \"y\": 2, \"z\": 79.15916666666666, \"country\": \"Qatar\"}, {\"x\": \"2022-06-11T00:00:00\", \"y\": 2, \"z\": 5.883333333333333, \"country\": \"United States\"}, {\"x\": \"2022-06-12T00:00:00\", \"y\": 2, \"z\": 6.482500000000001, \"country\": \"Germany\"}, {\"x\": \"2022-06-12T00:00:00\", \"y\": 2, \"z\": 9.9825, \"country\": \"Mexico\"}, {\"x\": \"2022-06-12T00:00:00\", \"y\": 2, \"z\": 56.656666666666666, \"country\": \"Qatar\"}, {\"x\": \"2022-06-12T00:00:00\", \"y\": 2, \"z\": 7.105, \"country\": \"United States\"}, {\"x\": \"2022-06-13T00:00:00\", \"y\": 2, \"z\": 5.712083333333333, \"country\": \"Germany\"}, {\"x\": \"2022-06-13T00:00:00\", \"y\": 2, \"z\": 13.775, \"country\": \"Mexico\"}, {\"x\": \"2022-06-13T00:00:00\", \"y\": 2, \"z\": 58.607499999999995, \"country\": \"Qatar\"}, {\"x\": \"2022-06-13T00:00:00\", \"y\": 2, \"z\": 12.704166666666666, \"country\": \"United States\"}, {\"x\": \"2022-06-14T00:00:00\", \"y\": 2, \"z\": 5.3475, \"country\": \"Germany\"}, {\"x\": \"2022-06-14T00:00:00\", \"y\": 2, \"z\": 13.926666666666668, \"country\": \"Mexico\"}, {\"x\": \"2022-06-14T00:00:00\", \"y\": 2, \"z\": 58.59166666666667, \"country\": \"Qatar\"}, {\"x\": \"2022-06-14T00:00:00\", \"y\": 2, \"z\": 13.094999999999999, \"country\": \"United States\"}, {\"x\": \"2022-06-15T00:00:00\", \"y\": 2, \"z\": 6.666666666666667, \"country\": \"Germany\"}, {\"x\": \"2022-06-15T00:00:00\", \"y\": 2, \"z\": 10.944583333333334, \"country\": \"Mexico\"}, {\"x\": \"2022-06-15T00:00:00\", \"y\": 2, \"z\": 79.25833333333334, \"country\": \"Qatar\"}, {\"x\": \"2022-06-15T00:00:00\", \"y\": 2, \"z\": 12.207083333333335, \"country\": \"United States\"}, {\"x\": \"2022-06-16T00:00:00\", \"y\": 2, \"z\": 7.492916666666667, \"country\": \"Germany\"}, {\"x\": \"2022-06-16T00:00:00\", \"y\": 2, \"z\": 14.292499999999999, \"country\": \"Mexico\"}, {\"x\": \"2022-06-16T00:00:00\", \"y\": 2, \"z\": 49.75958333333333, \"country\": \"Qatar\"}, {\"x\": \"2022-06-16T00:00:00\", \"y\": 2, \"z\": 11.007916666666667, \"country\": \"United States\"}, {\"x\": \"2022-06-17T00:00:00\", \"y\": 2, \"z\": 6.789166666666667, \"country\": \"Germany\"}, {\"x\": \"2022-06-17T00:00:00\", \"y\": 2, \"z\": 13.802916666666667, \"country\": \"Mexico\"}, {\"x\": \"2022-06-17T00:00:00\", \"y\": 2, \"z\": 48.211666666666666, \"country\": \"Qatar\"}, {\"x\": \"2022-06-17T00:00:00\", \"y\": 2, \"z\": 10.828333333333333, \"country\": \"United States\"}, {\"x\": \"2022-06-18T00:00:00\", \"y\": 2, \"z\": 8.00375, \"country\": \"Germany\"}, {\"x\": \"2022-06-18T00:00:00\", \"y\": 2, \"z\": 10.03375, \"country\": \"Mexico\"}, {\"x\": \"2022-06-18T00:00:00\", \"y\": 2, \"z\": 56.721666666666664, \"country\": \"Qatar\"}, {\"x\": \"2022-06-18T00:00:00\", \"y\": 2, \"z\": 9.140416666666667, \"country\": \"United States\"}, {\"x\": \"2022-06-19T00:00:00\", \"y\": 2, \"z\": 12.672916666666666, \"country\": \"Germany\"}, {\"x\": \"2022-06-19T00:00:00\", \"y\": 2, \"z\": 7.338333333333334, \"country\": \"Mexico\"}, {\"x\": \"2022-06-19T00:00:00\", \"y\": 2, \"z\": 52.58416666666667, \"country\": \"Qatar\"}, {\"x\": \"2022-06-19T00:00:00\", \"y\": 2, \"z\": 7.3075, \"country\": \"United States\"}, {\"x\": \"2022-06-20T00:00:00\", \"y\": 2, \"z\": 8.064166666666667, \"country\": \"Germany\"}, {\"x\": \"2022-06-20T00:00:00\", \"y\": 2, \"z\": 6.836666666666667, \"country\": \"Mexico\"}, {\"x\": \"2022-06-20T00:00:00\", \"y\": 2, \"z\": 72.18625, \"country\": \"Qatar\"}, {\"x\": \"2022-06-20T00:00:00\", \"y\": 2, \"z\": 6.67625, \"country\": \"United States\"}, {\"x\": \"2022-06-21T00:00:00\", \"y\": 2, \"z\": 6.083333333333333, \"country\": \"Germany\"}, {\"x\": \"2022-06-21T00:00:00\", \"y\": 2, \"z\": 7.002083333333334, \"country\": \"Mexico\"}, {\"x\": \"2022-06-21T00:00:00\", \"y\": 2, \"z\": 61.11083333333334, \"country\": \"Qatar\"}, {\"x\": \"2022-06-21T00:00:00\", \"y\": 2, \"z\": 6.836666666666667, \"country\": \"United States\"}, {\"x\": \"2022-06-22T00:00:00\", \"y\": 2, \"z\": 7.968333333333334, \"country\": \"Germany\"}, {\"x\": \"2022-06-22T00:00:00\", \"y\": 2, \"z\": 6.079583333333333, \"country\": \"Mexico\"}, {\"x\": \"2022-06-22T00:00:00\", \"y\": 2, \"z\": 59.768750000000004, \"country\": \"Qatar\"}, {\"x\": \"2022-06-22T00:00:00\", \"y\": 2, \"z\": 7.28375, \"country\": \"United States\"}, {\"x\": \"2022-06-23T00:00:00\", \"y\": 2, \"z\": 8.195833333333333, \"country\": \"Germany\"}, {\"x\": \"2022-06-23T00:00:00\", \"y\": 2, \"z\": 9.032083333333334, \"country\": \"Mexico\"}, {\"x\": \"2022-06-23T00:00:00\", \"y\": 2, \"z\": 75.88083333333334, \"country\": \"Qatar\"}, {\"x\": \"2022-06-23T00:00:00\", \"y\": 2, \"z\": 8.024166666666668, \"country\": \"United States\"}, {\"x\": \"2022-06-24T00:00:00\", \"y\": 2, \"z\": 7.55375, \"country\": \"Germany\"}, {\"x\": \"2022-06-24T00:00:00\", \"y\": 2, \"z\": 10.269166666666667, \"country\": \"Mexico\"}, {\"x\": \"2022-06-24T00:00:00\", \"y\": 2, \"z\": 87.02458333333334, \"country\": \"Qatar\"}, {\"x\": \"2022-06-24T00:00:00\", \"y\": 2, \"z\": 7.77375, \"country\": \"United States\"}, {\"x\": \"2022-06-25T00:00:00\", \"y\": 2, \"z\": 6.28875, \"country\": \"Germany\"}, {\"x\": \"2022-06-25T00:00:00\", \"y\": 2, \"z\": 9.3075, \"country\": \"Mexico\"}, {\"x\": \"2022-06-25T00:00:00\", \"y\": 2, \"z\": 65.34583333333333, \"country\": \"Qatar\"}, {\"x\": \"2022-06-25T00:00:00\", \"y\": 2, \"z\": 9.598333333333334, \"country\": \"United States\"}, {\"x\": \"2022-06-26T00:00:00\", \"y\": 2, \"z\": 6.8741666666666665, \"country\": \"Germany\"}, {\"x\": \"2022-06-26T00:00:00\", \"y\": 2, \"z\": 7.598333333333334, \"country\": \"Mexico\"}, {\"x\": \"2022-06-26T00:00:00\", \"y\": 2, \"z\": 66.25958333333334, \"country\": \"Qatar\"}, {\"x\": \"2022-06-26T00:00:00\", \"y\": 2, \"z\": 8.325416666666667, \"country\": \"United States\"}, {\"x\": \"2022-06-27T00:00:00\", \"y\": 2, \"z\": 8.147083333333333, \"country\": \"Germany\"}, {\"x\": \"2022-06-27T00:00:00\", \"y\": 2, \"z\": 7.3687499999999995, \"country\": \"Mexico\"}, {\"x\": \"2022-06-27T00:00:00\", \"y\": 2, \"z\": 110.87083333333334, \"country\": \"Qatar\"}, {\"x\": \"2022-06-27T00:00:00\", \"y\": 2, \"z\": 9.424166666666666, \"country\": \"United States\"}, {\"x\": \"2022-06-28T00:00:00\", \"y\": 2, \"z\": 5.7629166666666665, \"country\": \"Germany\"}, {\"x\": \"2022-06-28T00:00:00\", \"y\": 2, \"z\": 6.96, \"country\": \"Mexico\"}, {\"x\": \"2022-06-28T00:00:00\", \"y\": 2, \"z\": 77.48833333333333, \"country\": \"Qatar\"}, {\"x\": \"2022-06-28T00:00:00\", \"y\": 2, \"z\": 10.746666666666668, \"country\": \"United States\"}, {\"x\": \"2022-06-29T00:00:00\", \"y\": 2, \"z\": 6.823333333333333, \"country\": \"Germany\"}, {\"x\": \"2022-06-29T00:00:00\", \"y\": 2, \"z\": 6.976666666666667, \"country\": \"Mexico\"}, {\"x\": \"2022-06-29T00:00:00\", \"y\": 2, \"z\": 52.25958333333333, \"country\": \"Qatar\"}, {\"x\": \"2022-06-29T00:00:00\", \"y\": 2, \"z\": 10.582083333333333, \"country\": \"United States\"}, {\"x\": \"2022-06-30T00:00:00\", \"y\": 2, \"z\": 8.605416666666667, \"country\": \"Germany\"}, {\"x\": \"2022-06-30T00:00:00\", \"y\": 2, \"z\": 7.9695833333333335, \"country\": \"Mexico\"}, {\"x\": \"2022-06-30T00:00:00\", \"y\": 2, \"z\": 50.034166666666664, \"country\": \"Qatar\"}, {\"x\": \"2022-06-30T00:00:00\", \"y\": 2, \"z\": 9.714583333333334, \"country\": \"United States\"}, {\"x\": \"2022-07-01T00:00:00\", \"y\": 2, \"z\": 6.409583333333334, \"country\": \"Germany\"}, {\"x\": \"2022-07-01T00:00:00\", \"y\": 2, \"z\": 7.9941666666666675, \"country\": \"Mexico\"}, {\"x\": \"2022-07-01T00:00:00\", \"y\": 2, \"z\": 52.80791666666667, \"country\": \"Qatar\"}, {\"x\": \"2022-07-01T00:00:00\", \"y\": 2, \"z\": 9.108333333333333, \"country\": \"United States\"}, {\"x\": \"2022-07-02T00:00:00\", \"y\": 2, \"z\": 5.049166666666667, \"country\": \"Germany\"}, {\"x\": \"2022-07-02T00:00:00\", \"y\": 2, \"z\": 9.215, \"country\": \"Mexico\"}, {\"x\": \"2022-07-02T00:00:00\", \"y\": 2, \"z\": 79.09875, \"country\": \"Qatar\"}, {\"x\": \"2022-07-02T00:00:00\", \"y\": 2, \"z\": 8.138333333333334, \"country\": \"United States\"}, {\"x\": \"2022-07-03T00:00:00\", \"y\": 2, \"z\": 5.502083333333334, \"country\": \"Germany\"}, {\"x\": \"2022-07-03T00:00:00\", \"y\": 2, \"z\": 8.102083333333333, \"country\": \"Mexico\"}, {\"x\": \"2022-07-03T00:00:00\", \"y\": 2, \"z\": 78.57541666666667, \"country\": \"Qatar\"}, {\"x\": \"2022-07-03T00:00:00\", \"y\": 2, \"z\": 8.247083333333334, \"country\": \"United States\"}, {\"x\": \"2022-07-04T00:00:00\", \"y\": 2, \"z\": 5.045416666666667, \"country\": \"Germany\"}, {\"x\": \"2022-07-04T00:00:00\", \"y\": 2, \"z\": 7.425833333333333, \"country\": \"Mexico\"}, {\"x\": \"2022-07-04T00:00:00\", \"y\": 2, \"z\": 67.385, \"country\": \"Qatar\"}, {\"x\": \"2022-07-04T00:00:00\", \"y\": 2, \"z\": 8.77375, \"country\": \"United States\"}, {\"x\": \"2022-07-05T00:00:00\", \"y\": 2, \"z\": 5.113913043478261, \"country\": \"Germany\"}, {\"x\": \"2022-07-05T00:00:00\", \"y\": 2, \"z\": 8.433478260869565, \"country\": \"Mexico\"}, {\"x\": \"2022-07-05T00:00:00\", \"y\": 2, \"z\": 78.18086956521739, \"country\": \"Qatar\"}, {\"x\": \"2022-07-05T00:00:00\", \"y\": 2, \"z\": 11.991304347826087, \"country\": \"United States\"}, {\"x\": \"2022-07-06T00:00:00\", \"y\": 2, \"z\": 4.87, \"country\": \"Germany\"}, {\"x\": \"2022-07-06T00:00:00\", \"y\": 2, \"z\": 7.454166666666667, \"country\": \"Mexico\"}, {\"x\": \"2022-07-06T00:00:00\", \"y\": 2, \"z\": 58.7475, \"country\": \"Qatar\"}, {\"x\": \"2022-07-06T00:00:00\", \"y\": 2, \"z\": 8.728333333333333, \"country\": \"United States\"}, {\"x\": \"2022-07-07T00:00:00\", \"y\": 2, \"z\": 4.815454545454545, \"country\": \"Germany\"}, {\"x\": \"2022-07-07T00:00:00\", \"y\": 2, \"z\": 7.929090909090909, \"country\": \"Mexico\"}, {\"x\": \"2022-07-07T00:00:00\", \"y\": 2, \"z\": 58.56909090909091, \"country\": \"Qatar\"}, {\"x\": \"2022-07-07T00:00:00\", \"y\": 2, \"z\": 8.968181818181819, \"country\": \"United States\"}, {\"x\": \"2022-07-08T00:00:00\", \"y\": 2, \"z\": 4.546428571428572, \"country\": \"Germany\"}, {\"x\": \"2022-07-08T00:00:00\", \"y\": 2, \"z\": 8.111428571428572, \"country\": \"Mexico\"}, {\"x\": \"2022-07-08T00:00:00\", \"y\": 2, \"z\": 51.152142857142856, \"country\": \"Qatar\"}, {\"x\": \"2022-07-08T00:00:00\", \"y\": 2, \"z\": 6.853571428571429, \"country\": \"United States\"}, {\"x\": \"2022-07-09T00:00:00\", \"y\": 2, \"z\": 3.940555555555555, \"country\": \"Germany\"}, {\"x\": \"2022-07-09T00:00:00\", \"y\": 2, \"z\": 7.558888888888889, \"country\": \"Mexico\"}, {\"x\": \"2022-07-09T00:00:00\", \"y\": 2, \"z\": 38.25055555555556, \"country\": \"Qatar\"}, {\"x\": \"2022-07-09T00:00:00\", \"y\": 2, \"z\": 8.155, \"country\": \"United States\"}, {\"x\": \"2022-07-10T00:00:00\", \"y\": 2, \"z\": 3.7413636363636367, \"country\": \"Germany\"}, {\"x\": \"2022-07-10T00:00:00\", \"y\": 2, \"z\": 6.979090909090909, \"country\": \"Mexico\"}, {\"x\": \"2022-07-10T00:00:00\", \"y\": 2, \"z\": 47.49545454545455, \"country\": \"Qatar\"}, {\"x\": \"2022-07-10T00:00:00\", \"y\": 2, \"z\": 9.702272727272726, \"country\": \"United States\"}, {\"x\": \"2022-07-11T00:00:00\", \"y\": 2, \"z\": 3.3668181818181817, \"country\": \"Germany\"}, {\"x\": \"2022-07-11T00:00:00\", \"y\": 2, \"z\": 7.473181818181818, \"country\": \"Mexico\"}, {\"x\": \"2022-07-11T00:00:00\", \"y\": 2, \"z\": 62.75727272727273, \"country\": \"Qatar\"}, {\"x\": \"2022-07-11T00:00:00\", \"y\": 2, \"z\": 7.529545454545455, \"country\": \"United States\"}, {\"x\": \"2022-07-12T00:00:00\", \"y\": 2, \"z\": 4.086666666666667, \"country\": \"Germany\"}, {\"x\": \"2022-07-12T00:00:00\", \"y\": 2, \"z\": 8.382083333333332, \"country\": \"Mexico\"}, {\"x\": \"2022-07-12T00:00:00\", \"y\": 2, \"z\": 35.20375, \"country\": \"Qatar\"}, {\"x\": \"2022-07-12T00:00:00\", \"y\": 2, \"z\": 7.8812500000000005, \"country\": \"United States\"}, {\"x\": \"2022-07-13T00:00:00\", \"y\": 2, \"z\": 4.38304347826087, \"country\": \"Germany\"}, {\"x\": \"2022-07-13T00:00:00\", \"y\": 2, \"z\": 8.68608695652174, \"country\": \"Mexico\"}, {\"x\": \"2022-07-13T00:00:00\", \"y\": 2, \"z\": 40.26913043478261, \"country\": \"Qatar\"}, {\"x\": \"2022-07-13T00:00:00\", \"y\": 2, \"z\": 7.365652173913043, \"country\": \"United States\"}, {\"x\": \"2022-07-14T00:00:00\", \"y\": 2, \"z\": 4.62375, \"country\": \"Germany\"}, {\"x\": \"2022-07-14T00:00:00\", \"y\": 2, \"z\": 8.719166666666666, \"country\": \"Mexico\"}, {\"x\": \"2022-07-14T00:00:00\", \"y\": 2, \"z\": 71.51083333333334, \"country\": \"Qatar\"}, {\"x\": \"2022-07-14T00:00:00\", \"y\": 2, \"z\": 6.716666666666666, \"country\": \"United States\"}, {\"x\": \"2022-07-15T00:00:00\", \"y\": 2, \"z\": 4.9525, \"country\": \"Germany\"}, {\"x\": \"2022-07-15T00:00:00\", \"y\": 2, \"z\": 8.315, \"country\": \"Mexico\"}, {\"x\": \"2022-07-15T00:00:00\", \"y\": 2, \"z\": 79.17708333333333, \"country\": \"Qatar\"}, {\"x\": \"2022-07-15T00:00:00\", \"y\": 2, \"z\": 6.7575, \"country\": \"United States\"}, {\"x\": \"2022-07-16T00:00:00\", \"y\": 2, \"z\": 4.2612499999999995, \"country\": \"Germany\"}, {\"x\": \"2022-07-16T00:00:00\", \"y\": 2, \"z\": 8.340416666666666, \"country\": \"Mexico\"}, {\"x\": \"2022-07-16T00:00:00\", \"y\": 2, \"z\": 94.46875, \"country\": \"Qatar\"}, {\"x\": \"2022-07-16T00:00:00\", \"y\": 2, \"z\": 6.822916666666667, \"country\": \"United States\"}, {\"x\": \"2022-07-17T00:00:00\", \"y\": 2, \"z\": 3.8783333333333334, \"country\": \"Germany\"}, {\"x\": \"2022-07-17T00:00:00\", \"y\": 2, \"z\": 11.200416666666667, \"country\": \"Mexico\"}, {\"x\": \"2022-07-17T00:00:00\", \"y\": 2, \"z\": 84.81083333333333, \"country\": \"Qatar\"}, {\"x\": \"2022-07-17T00:00:00\", \"y\": 2, \"z\": 7.607083333333333, \"country\": \"United States\"}, {\"x\": \"2022-07-18T00:00:00\", \"y\": 2, \"z\": 4.985416666666667, \"country\": \"Germany\"}, {\"x\": \"2022-07-18T00:00:00\", \"y\": 2, \"z\": 11.765, \"country\": \"Mexico\"}, {\"x\": \"2022-07-18T00:00:00\", \"y\": 2, \"z\": 85.29125, \"country\": \"Qatar\"}, {\"x\": \"2022-07-18T00:00:00\", \"y\": 2, \"z\": 7.5633333333333335, \"country\": \"United States\"}, {\"x\": \"2022-07-19T00:00:00\", \"y\": 2, \"z\": 6.3704347826086964, \"country\": \"Germany\"}, {\"x\": \"2022-07-19T00:00:00\", \"y\": 2, \"z\": 10.05695652173913, \"country\": \"Mexico\"}, {\"x\": \"2022-07-19T00:00:00\", \"y\": 2, \"z\": 80.95391304347827, \"country\": \"Qatar\"}, {\"x\": \"2022-07-19T00:00:00\", \"y\": 2, \"z\": 7.151739130434783, \"country\": \"United States\"}, {\"x\": \"2022-07-20T00:00:00\", \"y\": 2, \"z\": 8.664166666666667, \"country\": \"Germany\"}, {\"x\": \"2022-07-20T00:00:00\", \"y\": 2, \"z\": 9.104166666666666, \"country\": \"Mexico\"}, {\"x\": \"2022-07-20T00:00:00\", \"y\": 2, \"z\": 87.06083333333333, \"country\": \"Qatar\"}, {\"x\": \"2022-07-20T00:00:00\", \"y\": 2, \"z\": 7.841666666666666, \"country\": \"United States\"}, {\"x\": \"2022-07-21T00:00:00\", \"y\": 2, \"z\": 9.680833333333334, \"country\": \"Germany\"}, {\"x\": \"2022-07-21T00:00:00\", \"y\": 2, \"z\": 9.974166666666667, \"country\": \"Mexico\"}, {\"x\": \"2022-07-21T00:00:00\", \"y\": 2, \"z\": 61.27, \"country\": \"Qatar\"}, {\"x\": \"2022-07-21T00:00:00\", \"y\": 2, \"z\": 7.889166666666667, \"country\": \"United States\"}, {\"x\": \"2022-07-22T00:00:00\", \"y\": 2, \"z\": 8.305833333333334, \"country\": \"Germany\"}, {\"x\": \"2022-07-22T00:00:00\", \"y\": 2, \"z\": 10.27875, \"country\": \"Mexico\"}, {\"x\": \"2022-07-22T00:00:00\", \"y\": 2, \"z\": 53.64125000000001, \"country\": \"Qatar\"}, {\"x\": \"2022-07-22T00:00:00\", \"y\": 2, \"z\": 7.62875, \"country\": \"United States\"}, {\"x\": \"2022-07-23T00:00:00\", \"y\": 2, \"z\": 6.720416666666666, \"country\": \"Germany\"}, {\"x\": \"2022-07-23T00:00:00\", \"y\": 2, \"z\": 9.110416666666667, \"country\": \"Mexico\"}, {\"x\": \"2022-07-23T00:00:00\", \"y\": 2, \"z\": 56.40416666666667, \"country\": \"Qatar\"}, {\"x\": \"2022-07-23T00:00:00\", \"y\": 2, \"z\": 7.328749999999999, \"country\": \"United States\"}, {\"x\": \"2022-07-24T00:00:00\", \"y\": 2, \"z\": 6.569166666666667, \"country\": \"Germany\"}, {\"x\": \"2022-07-24T00:00:00\", \"y\": 2, \"z\": 7.548749999999999, \"country\": \"Mexico\"}, {\"x\": \"2022-07-24T00:00:00\", \"y\": 2, \"z\": 42.678333333333335, \"country\": \"Qatar\"}, {\"x\": \"2022-07-24T00:00:00\", \"y\": 2, \"z\": 6.92875, \"country\": \"United States\"}, {\"x\": \"2022-07-25T00:00:00\", \"y\": 2, \"z\": 7.6625000000000005, \"country\": \"Germany\"}, {\"x\": \"2022-07-25T00:00:00\", \"y\": 2, \"z\": 6.572083333333333, \"country\": \"Mexico\"}, {\"x\": \"2022-07-25T00:00:00\", \"y\": 2, \"z\": 44.25125, \"country\": \"Qatar\"}, {\"x\": \"2022-07-25T00:00:00\", \"y\": 2, \"z\": 6.36375, \"country\": \"United States\"}, {\"x\": \"2022-07-26T00:00:00\", \"y\": 2, \"z\": 5.429166666666667, \"country\": \"Germany\"}, {\"x\": \"2022-07-26T00:00:00\", \"y\": 2, \"z\": 6.46875, \"country\": \"Mexico\"}, {\"x\": \"2022-07-26T00:00:00\", \"y\": 2, \"z\": 50.84, \"country\": \"Qatar\"}, {\"x\": \"2022-07-26T00:00:00\", \"y\": 2, \"z\": 6.0025, \"country\": \"United States\"}, {\"x\": \"2022-07-27T00:00:00\", \"y\": 2, \"z\": 4.55375, \"country\": \"Germany\"}, {\"x\": \"2022-07-27T00:00:00\", \"y\": 2, \"z\": 6.6225, \"country\": \"Mexico\"}, {\"x\": \"2022-07-27T00:00:00\", \"y\": 2, \"z\": 62.23791666666667, \"country\": \"Qatar\"}, {\"x\": \"2022-07-27T00:00:00\", \"y\": 2, \"z\": 6.150416666666666, \"country\": \"United States\"}, {\"x\": \"2022-07-28T00:00:00\", \"y\": 2, \"z\": 5.3975, \"country\": \"Germany\"}, {\"x\": \"2022-07-28T00:00:00\", \"y\": 2, \"z\": 6.927499999999999, \"country\": \"Mexico\"}, {\"x\": \"2022-07-28T00:00:00\", \"y\": 2, \"z\": 39.69041666666667, \"country\": \"Qatar\"}, {\"x\": \"2022-07-28T00:00:00\", \"y\": 2, \"z\": 5.995416666666666, \"country\": \"United States\"}, {\"x\": \"2022-07-29T00:00:00\", \"y\": 2, \"z\": 6.086666666666666, \"country\": \"Germany\"}, {\"x\": \"2022-07-29T00:00:00\", \"y\": 2, \"z\": 6.437916666666666, \"country\": \"Mexico\"}, {\"x\": \"2022-07-29T00:00:00\", \"y\": 2, \"z\": 45.14166666666667, \"country\": \"Qatar\"}, {\"x\": \"2022-07-29T00:00:00\", \"y\": 2, \"z\": 5.740833333333334, \"country\": \"United States\"}, {\"x\": \"2022-07-30T00:00:00\", \"y\": 2, \"z\": 7.2625, \"country\": \"Germany\"}, {\"x\": \"2022-07-30T00:00:00\", \"y\": 2, \"z\": 7.03125, \"country\": \"Mexico\"}, {\"x\": \"2022-07-30T00:00:00\", \"y\": 2, \"z\": 54.51916666666667, \"country\": \"Qatar\"}, {\"x\": \"2022-07-30T00:00:00\", \"y\": 2, \"z\": 5.93375, \"country\": \"United States\"}, {\"x\": \"2022-07-31T00:00:00\", \"y\": 2, \"z\": 6.94875, \"country\": \"Germany\"}, {\"x\": \"2022-07-31T00:00:00\", \"y\": 2, \"z\": 7.25125, \"country\": \"Mexico\"}, {\"x\": \"2022-07-31T00:00:00\", \"y\": 2, \"z\": 51.27125, \"country\": \"Qatar\"}, {\"x\": \"2022-07-31T00:00:00\", \"y\": 2, \"z\": 6.5616666666666665, \"country\": \"United States\"}, {\"x\": \"2022-08-01T00:00:00\", \"y\": 2, \"z\": 4.975882352941177, \"country\": \"Germany\"}, {\"x\": \"2022-08-01T00:00:00\", \"y\": 2, \"z\": 6.026470588235294, \"country\": \"Mexico\"}, {\"x\": \"2022-08-01T00:00:00\", \"y\": 2, \"z\": 56.65882352941177, \"country\": \"Qatar\"}, {\"x\": \"2022-08-01T00:00:00\", \"y\": 2, \"z\": 6.736470588235294, \"country\": \"United States\"}, {\"x\": \"2022-08-04T00:00:00\", \"y\": 2, \"z\": 6.606, \"country\": \"Germany\"}, {\"x\": \"2022-08-04T00:00:00\", \"y\": 2, \"z\": 10.554, \"country\": \"Mexico\"}, {\"x\": \"2022-08-04T00:00:00\", \"y\": 2, \"z\": 60.052, \"country\": \"Qatar\"}, {\"x\": \"2022-08-04T00:00:00\", \"y\": 2, \"z\": 7.101999999999999, \"country\": \"United States\"}, {\"x\": \"2022-08-05T00:00:00\", \"y\": 2, \"z\": 6.803333333333334, \"country\": \"Germany\"}, {\"x\": \"2022-08-05T00:00:00\", \"y\": 2, \"z\": 10.687083333333334, \"country\": \"Mexico\"}, {\"x\": \"2022-08-05T00:00:00\", \"y\": 2, \"z\": 73.085, \"country\": \"Qatar\"}, {\"x\": \"2022-08-05T00:00:00\", \"y\": 2, \"z\": 6.95, \"country\": \"United States\"}, {\"x\": \"2022-08-06T00:00:00\", \"y\": 2, \"z\": 4.12125, \"country\": \"Germany\"}, {\"x\": \"2022-08-06T00:00:00\", \"y\": 2, \"z\": 9.849166666666667, \"country\": \"Mexico\"}, {\"x\": \"2022-08-06T00:00:00\", \"y\": 2, \"z\": 83.73083333333334, \"country\": \"Qatar\"}, {\"x\": \"2022-08-06T00:00:00\", \"y\": 2, \"z\": 6.632083333333333, \"country\": \"United States\"}, {\"x\": \"2022-08-07T00:00:00\", \"y\": 2, \"z\": 3.8691666666666666, \"country\": \"Germany\"}, {\"x\": \"2022-08-07T00:00:00\", \"y\": 2, \"z\": 8.582083333333333, \"country\": \"Mexico\"}, {\"x\": \"2022-08-07T00:00:00\", \"y\": 2, \"z\": 82.65791666666667, \"country\": \"Qatar\"}, {\"x\": \"2022-08-07T00:00:00\", \"y\": 2, \"z\": 5.954166666666667, \"country\": \"United States\"}, {\"x\": \"2022-08-08T00:00:00\", \"y\": 2, \"z\": 5.212083333333333, \"country\": \"Germany\"}, {\"x\": \"2022-08-08T00:00:00\", \"y\": 2, \"z\": 6.502916666666667, \"country\": \"Mexico\"}, {\"x\": \"2022-08-08T00:00:00\", \"y\": 2, \"z\": 72.31416666666667, \"country\": \"Qatar\"}, {\"x\": \"2022-08-08T00:00:00\", \"y\": 2, \"z\": 5.437916666666666, \"country\": \"United States\"}, {\"x\": \"2022-08-09T00:00:00\", \"y\": 2, \"z\": 5.822500000000001, \"country\": \"Germany\"}, {\"x\": \"2022-08-09T00:00:00\", \"y\": 2, \"z\": 6.4875, \"country\": \"Mexico\"}, {\"x\": \"2022-08-09T00:00:00\", \"y\": 2, \"z\": 57.28125, \"country\": \"Qatar\"}, {\"x\": \"2022-08-09T00:00:00\", \"y\": 2, \"z\": 5.6312500000000005, \"country\": \"United States\"}, {\"x\": \"2022-08-10T00:00:00\", \"y\": 2, \"z\": 5.781666666666666, \"country\": \"Germany\"}, {\"x\": \"2022-08-10T00:00:00\", \"y\": 2, \"z\": 6.180833333333333, \"country\": \"Mexico\"}, {\"x\": \"2022-08-10T00:00:00\", \"y\": 2, \"z\": 53.29333333333333, \"country\": \"Qatar\"}, {\"x\": \"2022-08-10T00:00:00\", \"y\": 2, \"z\": 5.769166666666667, \"country\": \"United States\"}, {\"x\": \"2022-08-11T00:00:00\", \"y\": 2, \"z\": 5.958333333333333, \"country\": \"Germany\"}, {\"x\": \"2022-08-11T00:00:00\", \"y\": 2, \"z\": 6.475416666666667, \"country\": \"Mexico\"}, {\"x\": \"2022-08-11T00:00:00\", \"y\": 2, \"z\": 77.40833333333333, \"country\": \"Qatar\"}, {\"x\": \"2022-08-11T00:00:00\", \"y\": 2, \"z\": 5.72375, \"country\": \"United States\"}, {\"x\": \"2022-08-12T00:00:00\", \"y\": 2, \"z\": 6.5725, \"country\": \"Germany\"}, {\"x\": \"2022-08-12T00:00:00\", \"y\": 2, \"z\": 6.9215, \"country\": \"Mexico\"}, {\"x\": \"2022-08-12T00:00:00\", \"y\": 2, \"z\": 72.68100000000001, \"country\": \"Qatar\"}, {\"x\": \"2022-08-12T00:00:00\", \"y\": 2, \"z\": 5.5985, \"country\": \"United States\"}, {\"x\": \"2022-08-13T00:00:00\", \"y\": 2, \"z\": 7.177916666666667, \"country\": \"Germany\"}, {\"x\": \"2022-08-13T00:00:00\", \"y\": 2, \"z\": 7.700833333333333, \"country\": \"Mexico\"}, {\"x\": \"2022-08-13T00:00:00\", \"y\": 2, \"z\": 100.83958333333334, \"country\": \"Qatar\"}, {\"x\": \"2022-08-13T00:00:00\", \"y\": 2, \"z\": 5.78625, \"country\": \"United States\"}, {\"x\": \"2022-08-14T00:00:00\", \"y\": 2, \"z\": 7.815833333333334, \"country\": \"Germany\"}, {\"x\": \"2022-08-14T00:00:00\", \"y\": 2, \"z\": 7.060416666666666, \"country\": \"Mexico\"}, {\"x\": \"2022-08-14T00:00:00\", \"y\": 2, \"z\": 177.9729166666667, \"country\": \"Qatar\"}, {\"x\": \"2022-08-14T00:00:00\", \"y\": 2, \"z\": 5.752916666666667, \"country\": \"United States\"}, {\"x\": \"2022-08-15T00:00:00\", \"y\": 2, \"z\": 9.43, \"country\": \"Germany\"}, {\"x\": \"2022-08-15T00:00:00\", \"y\": 2, \"z\": 6.829583333333333, \"country\": \"Mexico\"}, {\"x\": \"2022-08-15T00:00:00\", \"y\": 2, \"z\": 150.01, \"country\": \"Qatar\"}, {\"x\": \"2022-08-15T00:00:00\", \"y\": 2, \"z\": 6.035, \"country\": \"United States\"}, {\"x\": \"2022-08-16T00:00:00\", \"y\": 2, \"z\": 8.752916666666666, \"country\": \"Germany\"}, {\"x\": \"2022-08-16T00:00:00\", \"y\": 2, \"z\": 6.953333333333333, \"country\": \"Mexico\"}, {\"x\": \"2022-08-16T00:00:00\", \"y\": 2, \"z\": 77.26125, \"country\": \"Qatar\"}, {\"x\": \"2022-08-16T00:00:00\", \"y\": 2, \"z\": 6.285, \"country\": \"United States\"}, {\"x\": \"2022-08-17T00:00:00\", \"y\": 2, \"z\": 10.259583333333333, \"country\": \"Germany\"}, {\"x\": \"2022-08-17T00:00:00\", \"y\": 2, \"z\": 7.1499999999999995, \"country\": \"Mexico\"}, {\"x\": \"2022-08-17T00:00:00\", \"y\": 2, \"z\": 65.88541666666667, \"country\": \"Qatar\"}, {\"x\": \"2022-08-17T00:00:00\", \"y\": 2, \"z\": 6.294583333333333, \"country\": \"United States\"}, {\"x\": \"2022-08-18T00:00:00\", \"y\": 2, \"z\": 12.515833333333333, \"country\": \"Germany\"}, {\"x\": \"2022-08-18T00:00:00\", \"y\": 2, \"z\": 7.236666666666667, \"country\": \"Mexico\"}, {\"x\": \"2022-08-18T00:00:00\", \"y\": 2, \"z\": 61.314166666666665, \"country\": \"Qatar\"}, {\"x\": \"2022-08-18T00:00:00\", \"y\": 2, \"z\": 6.3175, \"country\": \"United States\"}, {\"x\": \"2022-08-19T00:00:00\", \"y\": 2, \"z\": 9.964761904761904, \"country\": \"Germany\"}, {\"x\": \"2022-08-19T00:00:00\", \"y\": 2, \"z\": 8.227619047619047, \"country\": \"Mexico\"}, {\"x\": \"2022-08-19T00:00:00\", \"y\": 2, \"z\": 71.22, \"country\": \"Qatar\"}, {\"x\": \"2022-08-19T00:00:00\", \"y\": 2, \"z\": 6.692857142857143, \"country\": \"United States\"}, {\"x\": \"2022-08-20T00:00:00\", \"y\": 2, \"z\": 7.684166666666666, \"country\": \"Germany\"}, {\"x\": \"2022-08-20T00:00:00\", \"y\": 2, \"z\": 7.715416666666666, \"country\": \"Mexico\"}, {\"x\": \"2022-08-20T00:00:00\", \"y\": 2, \"z\": 75.015, \"country\": \"Qatar\"}, {\"x\": \"2022-08-20T00:00:00\", \"y\": 2, \"z\": 6.6308333333333325, \"country\": \"United States\"}, {\"x\": \"2022-08-21T00:00:00\", \"y\": 2, \"z\": 5.374583333333334, \"country\": \"Germany\"}, {\"x\": \"2022-08-21T00:00:00\", \"y\": 2, \"z\": 6.78625, \"country\": \"Mexico\"}, {\"x\": \"2022-08-21T00:00:00\", \"y\": 2, \"z\": 76.53333333333333, \"country\": \"Qatar\"}, {\"x\": \"2022-08-21T00:00:00\", \"y\": 2, \"z\": 5.81375, \"country\": \"United States\"}, {\"x\": \"2022-08-22T00:00:00\", \"y\": 2, \"z\": 6.214583333333334, \"country\": \"Germany\"}, {\"x\": \"2022-08-22T00:00:00\", \"y\": 2, \"z\": 7.179583333333333, \"country\": \"Mexico\"}, {\"x\": \"2022-08-22T00:00:00\", \"y\": 2, \"z\": 62.630833333333335, \"country\": \"Qatar\"}, {\"x\": \"2022-08-22T00:00:00\", \"y\": 2, \"z\": 5.608333333333333, \"country\": \"United States\"}, {\"x\": \"2022-08-23T00:00:00\", \"y\": 2, \"z\": 6.470416666666666, \"country\": \"Germany\"}, {\"x\": \"2022-08-23T00:00:00\", \"y\": 2, \"z\": 6.528333333333333, \"country\": \"Mexico\"}, {\"x\": \"2022-08-23T00:00:00\", \"y\": 2, \"z\": 52.41291666666667, \"country\": \"Qatar\"}, {\"x\": \"2022-08-23T00:00:00\", \"y\": 2, \"z\": 5.786666666666666, \"country\": \"United States\"}, {\"x\": \"2022-08-24T00:00:00\", \"y\": 2, \"z\": 7.82125, \"country\": \"Germany\"}, {\"x\": \"2022-08-24T00:00:00\", \"y\": 2, \"z\": 6.567916666666666, \"country\": \"Mexico\"}, {\"x\": \"2022-08-24T00:00:00\", \"y\": 2, \"z\": 45.63625, \"country\": \"Qatar\"}, {\"x\": \"2022-08-24T00:00:00\", \"y\": 2, \"z\": 6.227916666666666, \"country\": \"United States\"}, {\"x\": \"2022-08-25T00:00:00\", \"y\": 2, \"z\": 11.034999999999998, \"country\": \"Germany\"}, {\"x\": \"2022-08-25T00:00:00\", \"y\": 2, \"z\": 7.125416666666666, \"country\": \"Mexico\"}, {\"x\": \"2022-08-25T00:00:00\", \"y\": 2, \"z\": 43.362500000000004, \"country\": \"Qatar\"}, {\"x\": \"2022-08-25T00:00:00\", \"y\": 2, \"z\": 6.527916666666667, \"country\": \"United States\"}, {\"x\": \"2022-08-26T00:00:00\", \"y\": 2, \"z\": 15.661666666666667, \"country\": \"Germany\"}, {\"x\": \"2022-08-26T00:00:00\", \"y\": 2, \"z\": 6.865833333333334, \"country\": \"Mexico\"}, {\"x\": \"2022-08-26T00:00:00\", \"y\": 2, \"z\": 52.56166666666667, \"country\": \"Qatar\"}, {\"x\": \"2022-08-26T00:00:00\", \"y\": 2, \"z\": 6.274166666666667, \"country\": \"United States\"}, {\"x\": \"2022-08-27T00:00:00\", \"y\": 2, \"z\": 8.771666666666667, \"country\": \"Germany\"}, {\"x\": \"2022-08-27T00:00:00\", \"y\": 2, \"z\": 7.09, \"country\": \"Mexico\"}, {\"x\": \"2022-08-27T00:00:00\", \"y\": 2, \"z\": 52.44583333333333, \"country\": \"Qatar\"}, {\"x\": \"2022-08-27T00:00:00\", \"y\": 2, \"z\": 5.78125, \"country\": \"United States\"}, {\"x\": \"2022-08-28T00:00:00\", \"y\": 2, \"z\": 6.310416666666666, \"country\": \"Germany\"}, {\"x\": \"2022-08-28T00:00:00\", \"y\": 2, \"z\": 6.713333333333334, \"country\": \"Mexico\"}, {\"x\": \"2022-08-28T00:00:00\", \"y\": 2, \"z\": 47.63708333333333, \"country\": \"Qatar\"}, {\"x\": \"2022-08-28T00:00:00\", \"y\": 2, \"z\": 5.615416666666667, \"country\": \"United States\"}, {\"x\": \"2022-08-29T00:00:00\", \"y\": 2, \"z\": 6.107500000000001, \"country\": \"Germany\"}, {\"x\": \"2022-08-29T00:00:00\", \"y\": 2, \"z\": 7.015416666666667, \"country\": \"Mexico\"}, {\"x\": \"2022-08-29T00:00:00\", \"y\": 2, \"z\": 43.37875, \"country\": \"Qatar\"}, {\"x\": \"2022-08-29T00:00:00\", \"y\": 2, \"z\": 5.469166666666666, \"country\": \"United States\"}, {\"x\": \"2022-08-30T00:00:00\", \"y\": 2, \"z\": 5.4675, \"country\": \"Germany\"}, {\"x\": \"2022-08-30T00:00:00\", \"y\": 2, \"z\": 7.702083333333333, \"country\": \"Mexico\"}, {\"x\": \"2022-08-30T00:00:00\", \"y\": 2, \"z\": 51.387499999999996, \"country\": \"Qatar\"}, {\"x\": \"2022-08-30T00:00:00\", \"y\": 2, \"z\": 5.700833333333333, \"country\": \"United States\"}, {\"x\": \"2022-08-31T00:00:00\", \"y\": 2, \"z\": 5.361666666666667, \"country\": \"Germany\"}, {\"x\": \"2022-08-31T00:00:00\", \"y\": 2, \"z\": 6.232499999999999, \"country\": \"Mexico\"}, {\"x\": \"2022-08-31T00:00:00\", \"y\": 2, \"z\": 44.43, \"country\": \"Qatar\"}, {\"x\": \"2022-08-31T00:00:00\", \"y\": 2, \"z\": 5.838333333333334, \"country\": \"United States\"}, {\"x\": \"2022-09-01T00:00:00\", \"y\": 2, \"z\": 5.107083333333334, \"country\": \"Germany\"}, {\"x\": \"2022-09-01T00:00:00\", \"y\": 2, \"z\": 6.222083333333334, \"country\": \"Mexico\"}, {\"x\": \"2022-09-01T00:00:00\", \"y\": 2, \"z\": 37.17, \"country\": \"Qatar\"}, {\"x\": \"2022-09-01T00:00:00\", \"y\": 2, \"z\": 6.2725, \"country\": \"United States\"}, {\"x\": \"2022-09-02T00:00:00\", \"y\": 2, \"z\": 5.125, \"country\": \"Germany\"}, {\"x\": \"2022-09-02T00:00:00\", \"y\": 2, \"z\": 6.05375, \"country\": \"Mexico\"}, {\"x\": \"2022-09-02T00:00:00\", \"y\": 2, \"z\": 37.87375, \"country\": \"Qatar\"}, {\"x\": \"2022-09-02T00:00:00\", \"y\": 2, \"z\": 7.327916666666667, \"country\": \"United States\"}, {\"x\": \"2022-09-03T00:00:00\", \"y\": 2, \"z\": 5.05375, \"country\": \"Germany\"}, {\"x\": \"2022-09-03T00:00:00\", \"y\": 2, \"z\": 5.515833333333333, \"country\": \"Mexico\"}, {\"x\": \"2022-09-03T00:00:00\", \"y\": 2, \"z\": 40.04, \"country\": \"Qatar\"}, {\"x\": \"2022-09-03T00:00:00\", \"y\": 2, \"z\": 7.40125, \"country\": \"United States\"}, {\"x\": \"2022-09-04T00:00:00\", \"y\": 2, \"z\": 6.010833333333333, \"country\": \"Germany\"}, {\"x\": \"2022-09-04T00:00:00\", \"y\": 2, \"z\": 4.943333333333333, \"country\": \"Mexico\"}, {\"x\": \"2022-09-04T00:00:00\", \"y\": 2, \"z\": 40.94041666666667, \"country\": \"Qatar\"}, {\"x\": \"2022-09-04T00:00:00\", \"y\": 2, \"z\": 6.905, \"country\": \"United States\"}, {\"x\": \"2022-09-05T00:00:00\", \"y\": 2, \"z\": 6.7034782608695656, \"country\": \"Germany\"}, {\"x\": \"2022-09-05T00:00:00\", \"y\": 2, \"z\": 4.6665217391304346, \"country\": \"Mexico\"}, {\"x\": \"2022-09-05T00:00:00\", \"y\": 2, \"z\": 48.00565217391304, \"country\": \"Qatar\"}, {\"x\": \"2022-09-05T00:00:00\", \"y\": 2, \"z\": 7.4513043478260865, \"country\": \"United States\"}, {\"x\": \"2022-09-06T00:00:00\", \"y\": 2, \"z\": 5.806363636363636, \"country\": \"Germany\"}, {\"x\": \"2022-09-06T00:00:00\", \"y\": 2, \"z\": 5.762272727272727, \"country\": \"Mexico\"}, {\"x\": \"2022-09-06T00:00:00\", \"y\": 2, \"z\": 49.06636363636364, \"country\": \"Qatar\"}, {\"x\": \"2022-09-06T00:00:00\", \"y\": 2, \"z\": 7.748181818181819, \"country\": \"United States\"}, {\"x\": \"2022-09-07T00:00:00\", \"y\": 2, \"z\": 6.3125, \"country\": \"Germany\"}, {\"x\": \"2022-09-07T00:00:00\", \"y\": 2, \"z\": 6.405833333333334, \"country\": \"Mexico\"}, {\"x\": \"2022-09-07T00:00:00\", \"y\": 2, \"z\": 43.94125, \"country\": \"Qatar\"}, {\"x\": \"2022-09-07T00:00:00\", \"y\": 2, \"z\": 8.42125, \"country\": \"United States\"}, {\"x\": \"2022-09-08T00:00:00\", \"y\": 2, \"z\": 5.207083333333333, \"country\": \"Germany\"}, {\"x\": \"2022-09-08T00:00:00\", \"y\": 2, \"z\": 6.609166666666667, \"country\": \"Mexico\"}, {\"x\": \"2022-09-08T00:00:00\", \"y\": 2, \"z\": 38.79958333333334, \"country\": \"Qatar\"}, {\"x\": \"2022-09-08T00:00:00\", \"y\": 2, \"z\": 9.345833333333333, \"country\": \"United States\"}, {\"x\": \"2022-09-09T00:00:00\", \"y\": 2, \"z\": 5.004166666666666, \"country\": \"Germany\"}, {\"x\": \"2022-09-09T00:00:00\", \"y\": 2, \"z\": 7.263749999999999, \"country\": \"Mexico\"}, {\"x\": \"2022-09-09T00:00:00\", \"y\": 2, \"z\": 45.748333333333335, \"country\": \"Qatar\"}, {\"x\": \"2022-09-09T00:00:00\", \"y\": 2, \"z\": 9.534166666666666, \"country\": \"United States\"}, {\"x\": \"2022-09-10T00:00:00\", \"y\": 2, \"z\": 4.29, \"country\": \"Germany\"}, {\"x\": \"2022-09-10T00:00:00\", \"y\": 2, \"z\": 8.592083333333333, \"country\": \"Mexico\"}, {\"x\": \"2022-09-10T00:00:00\", \"y\": 2, \"z\": 48.40166666666667, \"country\": \"Qatar\"}, {\"x\": \"2022-09-10T00:00:00\", \"y\": 2, \"z\": 9.212916666666667, \"country\": \"United States\"}, {\"x\": \"2022-09-11T00:00:00\", \"y\": 2, \"z\": 7.254782608695653, \"country\": \"Germany\"}, {\"x\": \"2022-09-11T00:00:00\", \"y\": 2, \"z\": 8.671739130434782, \"country\": \"Mexico\"}, {\"x\": \"2022-09-11T00:00:00\", \"y\": 2, \"z\": 49.24, \"country\": \"Qatar\"}, {\"x\": \"2022-09-11T00:00:00\", \"y\": 2, \"z\": 9.685652173913043, \"country\": \"United States\"}, {\"x\": \"2022-09-12T00:00:00\", \"y\": 2, \"z\": 5.95, \"country\": \"Germany\"}, {\"x\": \"2022-09-12T00:00:00\", \"y\": 2, \"z\": 8.752916666666666, \"country\": \"Mexico\"}, {\"x\": \"2022-09-12T00:00:00\", \"y\": 2, \"z\": 48.190416666666664, \"country\": \"Qatar\"}, {\"x\": \"2022-09-12T00:00:00\", \"y\": 2, \"z\": 10.863333333333332, \"country\": \"United States\"}, {\"x\": \"2022-09-13T00:00:00\", \"y\": 2, \"z\": 6.065416666666667, \"country\": \"Germany\"}, {\"x\": \"2022-09-13T00:00:00\", \"y\": 2, \"z\": 9.365, \"country\": \"Mexico\"}, {\"x\": \"2022-09-13T00:00:00\", \"y\": 2, \"z\": 56.36166666666667, \"country\": \"Qatar\"}, {\"x\": \"2022-09-13T00:00:00\", \"y\": 2, \"z\": 10.720833333333333, \"country\": \"United States\"}, {\"x\": \"2022-09-14T00:00:00\", \"y\": 2, \"z\": 5.905, \"country\": \"Germany\"}, {\"x\": \"2022-09-14T00:00:00\", \"y\": 2, \"z\": 9.069583333333332, \"country\": \"Mexico\"}, {\"x\": \"2022-09-14T00:00:00\", \"y\": 2, \"z\": 53.3525, \"country\": \"Qatar\"}, {\"x\": \"2022-09-14T00:00:00\", \"y\": 2, \"z\": 9.27375, \"country\": \"United States\"}, {\"x\": \"2022-09-15T00:00:00\", \"y\": 2, \"z\": 5.2562500000000005, \"country\": \"Germany\"}, {\"x\": \"2022-09-15T00:00:00\", \"y\": 2, \"z\": 8.119583333333333, \"country\": \"Mexico\"}, {\"x\": \"2022-09-15T00:00:00\", \"y\": 2, \"z\": 49.662083333333335, \"country\": \"Qatar\"}, {\"x\": \"2022-09-15T00:00:00\", \"y\": 2, \"z\": 8.525833333333333, \"country\": \"United States\"}, {\"x\": \"2022-09-16T00:00:00\", \"y\": 2, \"z\": 4.5808333333333335, \"country\": \"Germany\"}, {\"x\": \"2022-09-16T00:00:00\", \"y\": 2, \"z\": 7.2558333333333325, \"country\": \"Mexico\"}, {\"x\": \"2022-09-16T00:00:00\", \"y\": 2, \"z\": 43.897083333333335, \"country\": \"Qatar\"}, {\"x\": \"2022-09-16T00:00:00\", \"y\": 2, \"z\": 8.518749999999999, \"country\": \"United States\"}, {\"x\": \"2022-09-17T00:00:00\", \"y\": 2, \"z\": 3.7583333333333333, \"country\": \"Germany\"}, {\"x\": \"2022-09-17T00:00:00\", \"y\": 2, \"z\": 5.57875, \"country\": \"Mexico\"}, {\"x\": \"2022-09-17T00:00:00\", \"y\": 2, \"z\": 54.056666666666665, \"country\": \"Qatar\"}, {\"x\": \"2022-09-17T00:00:00\", \"y\": 2, \"z\": 8.069583333333332, \"country\": \"United States\"}, {\"x\": \"2022-09-18T00:00:00\", \"y\": 2, \"z\": 3.169166666666667, \"country\": \"Germany\"}, {\"x\": \"2022-09-18T00:00:00\", \"y\": 2, \"z\": 5.3875, \"country\": \"Mexico\"}, {\"x\": \"2022-09-18T00:00:00\", \"y\": 2, \"z\": 44.201249999999995, \"country\": \"Qatar\"}, {\"x\": \"2022-09-18T00:00:00\", \"y\": 2, \"z\": 6.890416666666667, \"country\": \"United States\"}, {\"x\": \"2022-09-19T00:00:00\", \"y\": 2, \"z\": 3.5079166666666666, \"country\": \"Germany\"}, {\"x\": \"2022-09-19T00:00:00\", \"y\": 2, \"z\": 5.181666666666667, \"country\": \"Mexico\"}, {\"x\": \"2022-09-19T00:00:00\", \"y\": 2, \"z\": 43.63583333333333, \"country\": \"Qatar\"}, {\"x\": \"2022-09-19T00:00:00\", \"y\": 2, \"z\": 6.486666666666667, \"country\": \"United States\"}, {\"x\": \"2022-09-20T00:00:00\", \"y\": 2, \"z\": 4.1575, \"country\": \"Germany\"}, {\"x\": \"2022-09-20T00:00:00\", \"y\": 2, \"z\": 5.407916666666666, \"country\": \"Mexico\"}, {\"x\": \"2022-09-20T00:00:00\", \"y\": 2, \"z\": 48.34166666666667, \"country\": \"Qatar\"}, {\"x\": \"2022-09-20T00:00:00\", \"y\": 2, \"z\": 6.26125, \"country\": \"United States\"}, {\"x\": \"2022-09-21T00:00:00\", \"y\": 2, \"z\": 4.985416666666667, \"country\": \"Germany\"}, {\"x\": \"2022-09-21T00:00:00\", \"y\": 2, \"z\": 5.757083333333333, \"country\": \"Mexico\"}, {\"x\": \"2022-09-21T00:00:00\", \"y\": 2, \"z\": 67.31291666666667, \"country\": \"Qatar\"}, {\"x\": \"2022-09-21T00:00:00\", \"y\": 2, \"z\": 6.422083333333333, \"country\": \"United States\"}, {\"x\": \"2022-09-22T00:00:00\", \"y\": 2, \"z\": 6.016249999999999, \"country\": \"Germany\"}, {\"x\": \"2022-09-22T00:00:00\", \"y\": 2, \"z\": 6.473333333333334, \"country\": \"Mexico\"}, {\"x\": \"2022-09-22T00:00:00\", \"y\": 2, \"z\": 59.356249999999996, \"country\": \"Qatar\"}, {\"x\": \"2022-09-22T00:00:00\", \"y\": 2, \"z\": 5.8741666666666665, \"country\": \"United States\"}, {\"x\": \"2022-09-23T00:00:00\", \"y\": 2, \"z\": 6.982083333333333, \"country\": \"Germany\"}, {\"x\": \"2022-09-23T00:00:00\", \"y\": 2, \"z\": 6.599583333333334, \"country\": \"Mexico\"}, {\"x\": \"2022-09-23T00:00:00\", \"y\": 2, \"z\": 41.751666666666665, \"country\": \"Qatar\"}, {\"x\": \"2022-09-23T00:00:00\", \"y\": 2, \"z\": 5.175, \"country\": \"United States\"}, {\"x\": \"2022-09-24T00:00:00\", \"y\": 2, \"z\": 10.7125, \"country\": \"Germany\"}, {\"x\": \"2022-09-24T00:00:00\", \"y\": 2, \"z\": 7.73, \"country\": \"Mexico\"}, {\"x\": \"2022-09-24T00:00:00\", \"y\": 2, \"z\": 43.49666666666667, \"country\": \"Qatar\"}, {\"x\": \"2022-09-24T00:00:00\", \"y\": 2, \"z\": 5.806666666666666, \"country\": \"United States\"}, {\"x\": \"2022-09-25T00:00:00\", \"y\": 2, \"z\": 10.146666666666667, \"country\": \"Germany\"}, {\"x\": \"2022-09-25T00:00:00\", \"y\": 2, \"z\": 6.924166666666667, \"country\": \"Mexico\"}, {\"x\": \"2022-09-25T00:00:00\", \"y\": 2, \"z\": 49.12916666666666, \"country\": \"Qatar\"}, {\"x\": \"2022-09-25T00:00:00\", \"y\": 2, \"z\": 5.890416666666667, \"country\": \"United States\"}, {\"x\": \"2022-09-26T00:00:00\", \"y\": 2, \"z\": 4.622916666666667, \"country\": \"Germany\"}, {\"x\": \"2022-09-26T00:00:00\", \"y\": 2, \"z\": 6.55375, \"country\": \"Mexico\"}, {\"x\": \"2022-09-26T00:00:00\", \"y\": 2, \"z\": 46.78583333333333, \"country\": \"Qatar\"}, {\"x\": \"2022-09-26T00:00:00\", \"y\": 2, \"z\": 5.331666666666666, \"country\": \"United States\"}, {\"x\": \"2022-09-27T00:00:00\", \"y\": 2, \"z\": 2.967916666666667, \"country\": \"Germany\"}, {\"x\": \"2022-09-27T00:00:00\", \"y\": 2, \"z\": 6.179166666666667, \"country\": \"Mexico\"}, {\"x\": \"2022-09-27T00:00:00\", \"y\": 2, \"z\": 45.98, \"country\": \"Qatar\"}, {\"x\": \"2022-09-27T00:00:00\", \"y\": 2, \"z\": 5.071666666666666, \"country\": \"United States\"}, {\"x\": \"2022-09-28T00:00:00\", \"y\": 2, \"z\": 3.985, \"country\": \"Germany\"}, {\"x\": \"2022-09-28T00:00:00\", \"y\": 2, \"z\": 6.8425, \"country\": \"Mexico\"}, {\"x\": \"2022-09-28T00:00:00\", \"y\": 2, \"z\": 32.02125, \"country\": \"Qatar\"}, {\"x\": \"2022-09-28T00:00:00\", \"y\": 2, \"z\": 5.25875, \"country\": \"United States\"}, {\"x\": \"2022-09-29T00:00:00\", \"y\": 2, \"z\": 6.471666666666667, \"country\": \"Germany\"}, {\"x\": \"2022-09-29T00:00:00\", \"y\": 2, \"z\": 6.384583333333333, \"country\": \"Mexico\"}, {\"x\": \"2022-09-29T00:00:00\", \"y\": 2, \"z\": 29.014583333333334, \"country\": \"Qatar\"}, {\"x\": \"2022-09-29T00:00:00\", \"y\": 2, \"z\": 5.3379166666666675, \"country\": \"United States\"}, {\"x\": \"2022-09-30T00:00:00\", \"y\": 2, \"z\": 7.587083333333333, \"country\": \"Germany\"}, {\"x\": \"2022-09-30T00:00:00\", \"y\": 2, \"z\": 7.875416666666666, \"country\": \"Mexico\"}, {\"x\": \"2022-09-30T00:00:00\", \"y\": 2, \"z\": 30.199166666666667, \"country\": \"Qatar\"}, {\"x\": \"2022-09-30T00:00:00\", \"y\": 2, \"z\": 5.689583333333334, \"country\": \"United States\"}, {\"x\": \"2022-10-01T00:00:00\", \"y\": 2, \"z\": 6.512352941176471, \"country\": \"Germany\"}, {\"x\": \"2022-10-01T00:00:00\", \"y\": 2, \"z\": 8.692941176470589, \"country\": \"Mexico\"}, {\"x\": \"2022-10-01T00:00:00\", \"y\": 2, \"z\": 30.513529411764708, \"country\": \"Qatar\"}, {\"x\": \"2022-10-01T00:00:00\", \"y\": 2, \"z\": 6.355294117647058, \"country\": \"United States\"}, {\"x\": \"2022-10-02T00:00:00\", \"y\": 2, \"z\": 4.817083333333334, \"country\": \"Germany\"}, {\"x\": \"2022-10-02T00:00:00\", \"y\": 2, \"z\": 8.535, \"country\": \"Mexico\"}, {\"x\": \"2022-10-02T00:00:00\", \"y\": 2, \"z\": 34.89, \"country\": \"Qatar\"}, {\"x\": \"2022-10-02T00:00:00\", \"y\": 2, \"z\": 5.78625, \"country\": \"United States\"}, {\"x\": \"2022-10-03T00:00:00\", \"y\": 2, \"z\": 5.276666666666666, \"country\": \"Germany\"}, {\"x\": \"2022-10-03T00:00:00\", \"y\": 2, \"z\": 8.522916666666667, \"country\": \"Mexico\"}, {\"x\": \"2022-10-03T00:00:00\", \"y\": 2, \"z\": 36.41375, \"country\": \"Qatar\"}, {\"x\": \"2022-10-03T00:00:00\", \"y\": 2, \"z\": 5.704166666666667, \"country\": \"United States\"}, {\"x\": \"2022-10-04T00:00:00\", \"y\": 2, \"z\": 6.045833333333333, \"country\": \"Germany\"}, {\"x\": \"2022-10-04T00:00:00\", \"y\": 2, \"z\": 9.76125, \"country\": \"Mexico\"}, {\"x\": \"2022-10-04T00:00:00\", \"y\": 2, \"z\": 47.21, \"country\": \"Qatar\"}, {\"x\": \"2022-10-04T00:00:00\", \"y\": 2, \"z\": 6.5575, \"country\": \"United States\"}, {\"x\": \"2022-10-05T00:00:00\", \"y\": 2, \"z\": 7.082941176470588, \"country\": \"Germany\"}, {\"x\": \"2022-10-05T00:00:00\", \"y\": 2, \"z\": 7.773529411764706, \"country\": \"Mexico\"}, {\"x\": \"2022-10-05T00:00:00\", \"y\": 2, \"z\": 49.144705882352945, \"country\": \"Qatar\"}, {\"x\": \"2022-10-05T00:00:00\", \"y\": 2, \"z\": 6.705294117647059, \"country\": \"United States\"}, {\"x\": \"2022-10-06T00:00:00\", \"y\": 2, \"z\": 5.935714285714285, \"country\": \"Germany\"}, {\"x\": \"2022-10-06T00:00:00\", \"y\": 2, \"z\": 6.822857142857143, \"country\": \"Mexico\"}, {\"x\": \"2022-10-06T00:00:00\", \"y\": 2, \"z\": 36.35857142857143, \"country\": \"Qatar\"}, {\"x\": \"2022-10-06T00:00:00\", \"y\": 2, \"z\": 7.424285714285714, \"country\": \"United States\"}, {\"x\": \"2022-10-07T00:00:00\", \"y\": 2, \"z\": 7.537692307692307, \"country\": \"Germany\"}, {\"x\": \"2022-10-07T00:00:00\", \"y\": 2, \"z\": 5.955384615384616, \"country\": \"Mexico\"}, {\"x\": \"2022-10-07T00:00:00\", \"y\": 2, \"z\": 34.28923076923077, \"country\": \"Qatar\"}, {\"x\": \"2022-10-07T00:00:00\", \"y\": 2, \"z\": 7.563846153846153, \"country\": \"United States\"}, {\"x\": \"2022-10-08T00:00:00\", \"y\": 2, \"z\": 7.820714285714287, \"country\": \"Germany\"}, {\"x\": \"2022-10-08T00:00:00\", \"y\": 2, \"z\": 5.597142857142857, \"country\": \"Mexico\"}, {\"x\": \"2022-10-08T00:00:00\", \"y\": 2, \"z\": 40.88142857142857, \"country\": \"Qatar\"}, {\"x\": \"2022-10-08T00:00:00\", \"y\": 2, \"z\": 6.667142857142857, \"country\": \"United States\"}, {\"x\": \"2022-10-09T00:00:00\", \"y\": 2, \"z\": 5.768571428571429, \"country\": \"Germany\"}, {\"x\": \"2022-10-09T00:00:00\", \"y\": 2, \"z\": 6.032857142857144, \"country\": \"Mexico\"}, {\"x\": \"2022-10-09T00:00:00\", \"y\": 2, \"z\": 37.19142857142857, \"country\": \"Qatar\"}, {\"x\": \"2022-10-09T00:00:00\", \"y\": 2, \"z\": 7.347142857142857, \"country\": \"United States\"}, {\"x\": \"2022-10-10T00:00:00\", \"y\": 2, \"z\": 8.0265, \"country\": \"Germany\"}, {\"x\": \"2022-10-10T00:00:00\", \"y\": 2, \"z\": 5.3515, \"country\": \"Mexico\"}, {\"x\": \"2022-10-10T00:00:00\", \"y\": 2, \"z\": 29.4395, \"country\": \"Qatar\"}, {\"x\": \"2022-10-10T00:00:00\", \"y\": 2, \"z\": 7.9795, \"country\": \"United States\"}, {\"x\": \"2022-10-11T00:00:00\", \"y\": 2, \"z\": 7.54, \"country\": \"Germany\"}, {\"x\": \"2022-10-11T00:00:00\", \"y\": 2, \"z\": 6.806111111111111, \"country\": \"Mexico\"}, {\"x\": \"2022-10-11T00:00:00\", \"y\": 2, \"z\": 29.499583333333334, \"country\": \"Qatar\"}, {\"x\": \"2022-10-11T00:00:00\", \"y\": 2, \"z\": 7.776111111111111, \"country\": \"United States\"}, {\"x\": \"2022-10-12T00:00:00\", \"y\": 2, \"z\": 9.304166666666667, \"country\": \"Germany\"}, {\"x\": \"2022-10-12T00:00:00\", \"y\": 2, \"z\": 6.885000000000001, \"country\": \"Mexico\"}, {\"x\": \"2022-10-12T00:00:00\", \"y\": 2, \"z\": 33.02625, \"country\": \"Qatar\"}, {\"x\": \"2022-10-12T00:00:00\", \"y\": 2, \"z\": 7.797083333333333, \"country\": \"United States\"}, {\"x\": \"2022-10-13T00:00:00\", \"y\": 2, \"z\": 12.6425, \"country\": \"Germany\"}, {\"x\": \"2022-10-13T00:00:00\", \"y\": 2, \"z\": 6.495416666666667, \"country\": \"Mexico\"}, {\"x\": \"2022-10-13T00:00:00\", \"y\": 2, \"z\": 30.273333333333337, \"country\": \"Qatar\"}, {\"x\": \"2022-10-13T00:00:00\", \"y\": 2, \"z\": 6.366666666666667, \"country\": \"United States\"}, {\"x\": \"2022-10-14T00:00:00\", \"y\": 2, \"z\": 9.9275, \"country\": \"Germany\"}, {\"x\": \"2022-10-14T00:00:00\", \"y\": 2, \"z\": 7.059166666666666, \"country\": \"Mexico\"}, {\"x\": \"2022-10-14T00:00:00\", \"y\": 2, \"z\": 28.102083333333336, \"country\": \"Qatar\"}, {\"x\": \"2022-10-14T00:00:00\", \"y\": 2, \"z\": 6.777916666666666, \"country\": \"United States\"}, {\"x\": \"2022-10-15T00:00:00\", \"y\": 2, \"z\": 6.123333333333334, \"country\": \"Germany\"}, {\"x\": \"2022-10-15T00:00:00\", \"y\": 2, \"z\": 7.858333333333333, \"country\": \"Mexico\"}, {\"x\": \"2022-10-15T00:00:00\", \"y\": 2, \"z\": 25.99875, \"country\": \"Qatar\"}, {\"x\": \"2022-10-15T00:00:00\", \"y\": 2, \"z\": 7.21625, \"country\": \"United States\"}, {\"x\": \"2022-10-16T00:00:00\", \"y\": 2, \"z\": 4.835416666666666, \"country\": \"Germany\"}, {\"x\": \"2022-10-16T00:00:00\", \"y\": 2, \"z\": 7.831250000000001, \"country\": \"Mexico\"}, {\"x\": \"2022-10-16T00:00:00\", \"y\": 2, \"z\": 26.476250000000004, \"country\": \"Qatar\"}, {\"x\": \"2022-10-16T00:00:00\", \"y\": 2, \"z\": 6.8445833333333335, \"country\": \"United States\"}, {\"x\": \"2022-10-17T00:00:00\", \"y\": 2, \"z\": 9.152083333333334, \"country\": \"Germany\"}, {\"x\": \"2022-10-17T00:00:00\", \"y\": 2, \"z\": 7.6125, \"country\": \"Mexico\"}, {\"x\": \"2022-10-17T00:00:00\", \"y\": 2, \"z\": 33.242916666666666, \"country\": \"Qatar\"}, {\"x\": \"2022-10-17T00:00:00\", \"y\": 2, \"z\": 6.255, \"country\": \"United States\"}, {\"x\": \"2022-10-18T00:00:00\", \"y\": 2, \"z\": 8.97875, \"country\": \"Germany\"}, {\"x\": \"2022-10-18T00:00:00\", \"y\": 2, \"z\": 7.804583333333333, \"country\": \"Mexico\"}, {\"x\": \"2022-10-18T00:00:00\", \"y\": 2, \"z\": 32.185833333333335, \"country\": \"Qatar\"}, {\"x\": \"2022-10-18T00:00:00\", \"y\": 2, \"z\": 5.978333333333333, \"country\": \"United States\"}, {\"x\": \"2022-10-19T00:00:00\", \"y\": 2, \"z\": 6.845, \"country\": \"Germany\"}, {\"x\": \"2022-10-19T00:00:00\", \"y\": 2, \"z\": 5.487916666666667, \"country\": \"Mexico\"}, {\"x\": \"2022-10-19T00:00:00\", \"y\": 2, \"z\": 29.642916666666665, \"country\": \"Qatar\"}, {\"x\": \"2022-10-19T00:00:00\", \"y\": 2, \"z\": 6.6191666666666675, \"country\": \"United States\"}, {\"x\": \"2022-10-20T00:00:00\", \"y\": 2, \"z\": 8.404166666666667, \"country\": \"Germany\"}, {\"x\": \"2022-10-20T00:00:00\", \"y\": 2, \"z\": 6.619583333333334, \"country\": \"Mexico\"}, {\"x\": \"2022-10-20T00:00:00\", \"y\": 2, \"z\": 27.278333333333332, \"country\": \"Qatar\"}, {\"x\": \"2022-10-20T00:00:00\", \"y\": 2, \"z\": 8.523333333333333, \"country\": \"United States\"}, {\"x\": \"2022-10-21T00:00:00\", \"y\": 2, \"z\": 10.480416666666667, \"country\": \"Germany\"}, {\"x\": \"2022-10-21T00:00:00\", \"y\": 2, \"z\": 7.48875, \"country\": \"Mexico\"}, {\"x\": \"2022-10-21T00:00:00\", \"y\": 2, \"z\": 27.655, \"country\": \"Qatar\"}, {\"x\": \"2022-10-21T00:00:00\", \"y\": 2, \"z\": 8.835416666666667, \"country\": \"United States\"}, {\"x\": \"2022-10-22T00:00:00\", \"y\": 2, \"z\": 8.165833333333333, \"country\": \"Germany\"}, {\"x\": \"2022-10-22T00:00:00\", \"y\": 2, \"z\": 8.9425, \"country\": \"Mexico\"}, {\"x\": \"2022-10-22T00:00:00\", \"y\": 2, \"z\": 27.201666666666668, \"country\": \"Qatar\"}, {\"x\": \"2022-10-22T00:00:00\", \"y\": 2, \"z\": 8.17375, \"country\": \"United States\"}, {\"x\": \"2022-10-23T00:00:00\", \"y\": 2, \"z\": 7.445416666666667, \"country\": \"Germany\"}, {\"x\": \"2022-10-23T00:00:00\", \"y\": 2, \"z\": 7.242916666666667, \"country\": \"Mexico\"}, {\"x\": \"2022-10-23T00:00:00\", \"y\": 2, \"z\": 29.796666666666667, \"country\": \"Qatar\"}, {\"x\": \"2022-10-23T00:00:00\", \"y\": 2, \"z\": 8.219166666666666, \"country\": \"United States\"}, {\"x\": \"2022-10-24T00:00:00\", \"y\": 2, \"z\": 7.1825, \"country\": \"Germany\"}, {\"x\": \"2022-10-24T00:00:00\", \"y\": 2, \"z\": 7.745833333333334, \"country\": \"Mexico\"}, {\"x\": \"2022-10-24T00:00:00\", \"y\": 2, \"z\": 27.505, \"country\": \"Qatar\"}, {\"x\": \"2022-10-24T00:00:00\", \"y\": 2, \"z\": 6.537916666666667, \"country\": \"United States\"}, {\"x\": \"2022-10-25T00:00:00\", \"y\": 2, \"z\": 6.1825, \"country\": \"Germany\"}, {\"x\": \"2022-10-25T00:00:00\", \"y\": 2, \"z\": 7.61625, \"country\": \"Mexico\"}, {\"x\": \"2022-10-25T00:00:00\", \"y\": 2, \"z\": 24.91913043478261, \"country\": \"Qatar\"}, {\"x\": \"2022-10-25T00:00:00\", \"y\": 2, \"z\": 5.5874999999999995, \"country\": \"United States\"}, {\"x\": \"2022-10-26T00:00:00\", \"y\": 2, \"z\": 7.618333333333333, \"country\": \"Germany\"}, {\"x\": \"2022-10-26T00:00:00\", \"y\": 2, \"z\": 7.87625, \"country\": \"Mexico\"}, {\"x\": \"2022-10-26T00:00:00\", \"y\": 2, \"z\": 30.692, \"country\": \"Qatar\"}, {\"x\": \"2022-10-26T00:00:00\", \"y\": 2, \"z\": 5.162083333333333, \"country\": \"United States\"}, {\"x\": \"2022-10-27T00:00:00\", \"y\": 2, \"z\": 8.424583333333333, \"country\": \"Germany\"}, {\"x\": \"2022-10-27T00:00:00\", \"y\": 2, \"z\": 7.934583333333333, \"country\": \"Mexico\"}, {\"x\": \"2022-10-27T00:00:00\", \"y\": 2, \"z\": 32.95458333333333, \"country\": \"Qatar\"}, {\"x\": \"2022-10-27T00:00:00\", \"y\": 2, \"z\": 5.08625, \"country\": \"United States\"}, {\"x\": \"2022-10-28T00:00:00\", \"y\": 2, \"z\": 13.047916666666666, \"country\": \"Germany\"}, {\"x\": \"2022-10-28T00:00:00\", \"y\": 2, \"z\": 9.182083333333333, \"country\": \"Mexico\"}, {\"x\": \"2022-10-28T00:00:00\", \"y\": 2, \"z\": 37.259166666666665, \"country\": \"Qatar\"}, {\"x\": \"2022-10-28T00:00:00\", \"y\": 2, \"z\": 6.097083333333334, \"country\": \"United States\"}, {\"x\": \"2022-10-29T00:00:00\", \"y\": 2, \"z\": 15.659166666666666, \"country\": \"Germany\"}, {\"x\": \"2022-10-29T00:00:00\", \"y\": 2, \"z\": 8.84375, \"country\": \"Mexico\"}, {\"x\": \"2022-10-29T00:00:00\", \"y\": 2, \"z\": 34.174166666666665, \"country\": \"Qatar\"}, {\"x\": \"2022-10-29T00:00:00\", \"y\": 2, \"z\": 7.451249999999999, \"country\": \"United States\"}, {\"x\": \"2022-10-30T00:00:00\", \"y\": 2, \"z\": 15.821666666666667, \"country\": \"Germany\"}, {\"x\": \"2022-10-30T00:00:00\", \"y\": 2, \"z\": 9.732916666666666, \"country\": \"Mexico\"}, {\"x\": \"2022-10-30T00:00:00\", \"y\": 2, \"z\": 33.06583333333334, \"country\": \"Qatar\"}, {\"x\": \"2022-10-30T00:00:00\", \"y\": 2, \"z\": 8.08625, \"country\": \"United States\"}, {\"x\": \"2022-10-31T00:00:00\", \"y\": 2, \"z\": 14.995416666666666, \"country\": \"Germany\"}, {\"x\": \"2022-10-31T00:00:00\", \"y\": 2, \"z\": 8.215416666666666, \"country\": \"Mexico\"}, {\"x\": \"2022-10-31T00:00:00\", \"y\": 2, \"z\": 31.521428571428572, \"country\": \"Qatar\"}, {\"x\": \"2022-10-31T00:00:00\", \"y\": 2, \"z\": 7.5025, \"country\": \"United States\"}, {\"x\": \"2022-11-01T00:00:00\", \"y\": 2, \"z\": 10.5525, \"country\": \"Germany\"}, {\"x\": \"2022-11-01T00:00:00\", \"y\": 2, \"z\": 11.811250000000001, \"country\": \"Mexico\"}, {\"x\": \"2022-11-01T00:00:00\", \"y\": 2, \"z\": 33.823125, \"country\": \"Qatar\"}, {\"x\": \"2022-11-01T00:00:00\", \"y\": 2, \"z\": 8.013333333333334, \"country\": \"United States\"}, {\"x\": \"2022-11-02T00:00:00\", \"y\": 2, \"z\": 6.384583333333333, \"country\": \"Germany\"}, {\"x\": \"2022-11-02T00:00:00\", \"y\": 2, \"z\": 11.75875, \"country\": \"Mexico\"}, {\"x\": \"2022-11-02T00:00:00\", \"y\": 2, \"z\": 37.083333333333336, \"country\": \"Qatar\"}, {\"x\": \"2022-11-02T00:00:00\", \"y\": 2, \"z\": 8.0675, \"country\": \"United States\"}, {\"x\": \"2022-11-03T00:00:00\", \"y\": 2, \"z\": 7.103333333333333, \"country\": \"Germany\"}, {\"x\": \"2022-11-03T00:00:00\", \"y\": 2, \"z\": 11.817916666666667, \"country\": \"Mexico\"}, {\"x\": \"2022-11-03T00:00:00\", \"y\": 2, \"z\": 34.864583333333336, \"country\": \"Qatar\"}, {\"x\": \"2022-11-03T00:00:00\", \"y\": 2, \"z\": 7.9504166666666665, \"country\": \"United States\"}, {\"x\": \"2022-11-04T00:00:00\", \"y\": 2, \"z\": 7.39375, \"country\": \"Germany\"}, {\"x\": \"2022-11-04T00:00:00\", \"y\": 2, \"z\": 10.154583333333333, \"country\": \"Mexico\"}, {\"x\": \"2022-11-04T00:00:00\", \"y\": 2, \"z\": 20.001304347826085, \"country\": \"Qatar\"}, {\"x\": \"2022-11-04T00:00:00\", \"y\": 2, \"z\": 6.871666666666666, \"country\": \"United States\"}, {\"x\": \"2022-11-05T00:00:00\", \"y\": 2, \"z\": 7.392916666666667, \"country\": \"Germany\"}, {\"x\": \"2022-11-05T00:00:00\", \"y\": 2, \"z\": 8.203333333333333, \"country\": \"Mexico\"}, {\"x\": \"2022-11-05T00:00:00\", \"y\": 2, \"z\": 25.385833333333334, \"country\": \"Qatar\"}, {\"x\": \"2022-11-05T00:00:00\", \"y\": 2, \"z\": 5.030833333333333, \"country\": \"United States\"}, {\"x\": \"2022-11-06T00:00:00\", \"y\": 2, \"z\": 6.46375, \"country\": \"Germany\"}, {\"x\": \"2022-11-06T00:00:00\", \"y\": 2, \"z\": 9.198333333333332, \"country\": \"Mexico\"}, {\"x\": \"2022-11-06T00:00:00\", \"y\": 2, \"z\": 22.068749999999998, \"country\": \"Qatar\"}, {\"x\": \"2022-11-06T00:00:00\", \"y\": 2, \"z\": 5.214583333333334, \"country\": \"United States\"}, {\"x\": \"2022-11-07T00:00:00\", \"y\": 2, \"z\": 6.5441666666666665, \"country\": \"Germany\"}, {\"x\": \"2022-11-07T00:00:00\", \"y\": 2, \"z\": 10.269583333333333, \"country\": \"Mexico\"}, {\"x\": \"2022-11-07T00:00:00\", \"y\": 2, \"z\": 25.345416666666665, \"country\": \"Qatar\"}, {\"x\": \"2022-11-07T00:00:00\", \"y\": 2, \"z\": 5.833749999999999, \"country\": \"United States\"}, {\"x\": \"2022-11-08T00:00:00\", \"y\": 2, \"z\": 6.61375, \"country\": \"Germany\"}, {\"x\": \"2022-11-08T00:00:00\", \"y\": 2, \"z\": 8.088333333333333, \"country\": \"Mexico\"}, {\"x\": \"2022-11-08T00:00:00\", \"y\": 2, \"z\": 23.93958333333333, \"country\": \"Qatar\"}, {\"x\": \"2022-11-08T00:00:00\", \"y\": 2, \"z\": 5.747916666666666, \"country\": \"United States\"}, {\"x\": \"2022-11-09T00:00:00\", \"y\": 2, \"z\": 7.084583333333334, \"country\": \"Germany\"}, {\"x\": \"2022-11-09T00:00:00\", \"y\": 2, \"z\": 7.197083333333333, \"country\": \"Mexico\"}, {\"x\": \"2022-11-09T00:00:00\", \"y\": 2, \"z\": 25.201666666666668, \"country\": \"Qatar\"}, {\"x\": \"2022-11-09T00:00:00\", \"y\": 2, \"z\": 6.957916666666667, \"country\": \"United States\"}, {\"x\": \"2022-11-10T00:00:00\", \"y\": 2, \"z\": 7.90875, \"country\": \"Germany\"}, {\"x\": \"2022-11-10T00:00:00\", \"y\": 2, \"z\": 8.074583333333333, \"country\": \"Mexico\"}, {\"x\": \"2022-11-10T00:00:00\", \"y\": 2, \"z\": 27.459166666666665, \"country\": \"Qatar\"}, {\"x\": \"2022-11-10T00:00:00\", \"y\": 2, \"z\": 6.9191666666666665, \"country\": \"United States\"}, {\"x\": \"2022-11-11T00:00:00\", \"y\": 2, \"z\": 8.074166666666667, \"country\": \"Germany\"}, {\"x\": \"2022-11-11T00:00:00\", \"y\": 2, \"z\": 8.644166666666667, \"country\": \"Mexico\"}, {\"x\": \"2022-11-11T00:00:00\", \"y\": 2, \"z\": 24.260416666666668, \"country\": \"Qatar\"}, {\"x\": \"2022-11-11T00:00:00\", \"y\": 2, \"z\": 6.27625, \"country\": \"United States\"}, {\"x\": \"2022-11-12T00:00:00\", \"y\": 2, \"z\": 12.032916666666667, \"country\": \"Germany\"}, {\"x\": \"2022-11-12T00:00:00\", \"y\": 2, \"z\": 9.748333333333333, \"country\": \"Mexico\"}, {\"x\": \"2022-11-12T00:00:00\", \"y\": 2, \"z\": 21.319583333333334, \"country\": \"Qatar\"}, {\"x\": \"2022-11-12T00:00:00\", \"y\": 2, \"z\": 5.7870833333333325, \"country\": \"United States\"}, {\"x\": \"2022-11-13T00:00:00\", \"y\": 2, \"z\": 11.179583333333333, \"country\": \"Germany\"}, {\"x\": \"2022-11-13T00:00:00\", \"y\": 2, \"z\": 9.770416666666668, \"country\": \"Mexico\"}, {\"x\": \"2022-11-13T00:00:00\", \"y\": 2, \"z\": 20.689583333333335, \"country\": \"Qatar\"}, {\"x\": \"2022-11-13T00:00:00\", \"y\": 2, \"z\": 6.38375, \"country\": \"United States\"}, {\"x\": \"2022-11-14T00:00:00\", \"y\": 2, \"z\": 12.39875, \"country\": \"Germany\"}, {\"x\": \"2022-11-14T00:00:00\", \"y\": 2, \"z\": 7.631666666666667, \"country\": \"Mexico\"}, {\"x\": \"2022-11-14T00:00:00\", \"y\": 2, \"z\": 18.7525, \"country\": \"Qatar\"}, {\"x\": \"2022-11-14T00:00:00\", \"y\": 2, \"z\": 6.168333333333333, \"country\": \"United States\"}, {\"x\": \"2022-11-15T00:00:00\", \"y\": 2, \"z\": 9.590416666666666, \"country\": \"Germany\"}, {\"x\": \"2022-11-15T00:00:00\", \"y\": 2, \"z\": 8.589166666666667, \"country\": \"Mexico\"}, {\"x\": \"2022-11-15T00:00:00\", \"y\": 2, \"z\": 21.077916666666667, \"country\": \"Qatar\"}, {\"x\": \"2022-11-15T00:00:00\", \"y\": 2, \"z\": 7.07375, \"country\": \"United States\"}, {\"x\": \"2022-11-16T00:00:00\", \"y\": 2, \"z\": 9.2925, \"country\": \"Germany\"}, {\"x\": \"2022-11-16T00:00:00\", \"y\": 2, \"z\": 7.739375, \"country\": \"Mexico\"}, {\"x\": \"2022-11-16T00:00:00\", \"y\": 2, \"z\": 24.660666666666664, \"country\": \"Qatar\"}, {\"x\": \"2022-11-16T00:00:00\", \"y\": 2, \"z\": 7.400625, \"country\": \"United States\"}]}}, {\"mode\": \"vega-lite\"});\n",
       "</script>"
      ],
      "text/plain": [
       "alt.Chart(...)"
      ]
     },
     "execution_count": 39,
     "metadata": {},
     "output_type": "execute_result"
    }
   ],
   "source": [
    "alt.Chart(aq_stripes[aq_stripes[\"x\"] >= \"2022-06-01\"]).mark_bar().encode(\n",
    "    x=alt.X(\n",
    "        \"x:O\",\n",
    "        axis=alt.Axis(\n",
    "            title=\"\",\n",
    "            values=[\n",
    "                \"2022-01-01T00:00:00\",\n",
    "                \"2022-04-01T00:00:00\",\n",
    "                \"2022-06-14T00:00:00\",\n",
    "                \"2022-07-01T00:00:00\",\n",
    "                \"2022-07-15T00:00:00\",\n",
    "                \"2022-10-01T00:00:00\",\n",
    "                \"2022-11-01T00:00:00\",\n",
    "            ],\n",
    "        ),\n",
    "    ),\n",
    "    y=alt.Y(\"y\", title=\"\", axis=alt.Axis(tickCount=0)),\n",
    "    color=alt.Color(\n",
    "        \"z\",\n",
    "        scale=alt.Scale(scheme=\"spectral\", reverse=True, domain=(0, 200)),\n",
    "        legend=alt.Legend(title=\"Average daily air pollution (PM2.5 particles)\"),\n",
    "    ),\n",
    "    facet=alt.Facet(\n",
    "        \"country\",\n",
    "        columns=1,\n",
    "        title=\"\",\n",
    "        sort=[\"Mexico\", \"Germany\", \"United States\", \"Qatar\"],\n",
    "    ),\n",
    ").properties(height=100, width=360)"
   ]
  },
  {
   "cell_type": "markdown",
   "id": "e2f28cb6-44c0-43ac-8e0b-5f893b7651eb",
   "metadata": {},
   "source": [
    "### make a heatmap instead"
   ]
  },
  {
   "cell_type": "code",
   "execution_count": 40,
   "id": "418559f4-e2c8-439d-97d8-9dd3bcebcebc",
   "metadata": {},
   "outputs": [],
   "source": [
    "aq_daily_heatmap = pd.DataFrame(\n",
    "    {\n",
    "        \"x\": df_daily[\"date\"].ravel(),\n",
    "        \"y\": df_daily[\"country\"].ravel(),\n",
    "        \"z\": df_daily[\"pm2.5\"].ravel(),\n",
    "    }\n",
    ")"
   ]
  },
  {
   "cell_type": "code",
   "execution_count": 52,
   "id": "a023d619-9f87-4ebd-bb5c-3fd9f8526cc0",
   "metadata": {},
   "outputs": [
    {
     "data": {
      "text/html": [
       "\n",
       "<div id=\"altair-viz-73b6a846104e4d35894cf4dd6a5ed3a3\"></div>\n",
       "<script type=\"text/javascript\">\n",
       "  var VEGA_DEBUG = (typeof VEGA_DEBUG == \"undefined\") ? {} : VEGA_DEBUG;\n",
       "  (function(spec, embedOpt){\n",
       "    let outputDiv = document.currentScript.previousElementSibling;\n",
       "    if (outputDiv.id !== \"altair-viz-73b6a846104e4d35894cf4dd6a5ed3a3\") {\n",
       "      outputDiv = document.getElementById(\"altair-viz-73b6a846104e4d35894cf4dd6a5ed3a3\");\n",
       "    }\n",
       "    const paths = {\n",
       "      \"vega\": \"https://cdn.jsdelivr.net/npm//vega@5?noext\",\n",
       "      \"vega-lib\": \"https://cdn.jsdelivr.net/npm//vega-lib?noext\",\n",
       "      \"vega-lite\": \"https://cdn.jsdelivr.net/npm//vega-lite@4.17.0?noext\",\n",
       "      \"vega-embed\": \"https://cdn.jsdelivr.net/npm//vega-embed@6?noext\",\n",
       "    };\n",
       "\n",
       "    function maybeLoadScript(lib, version) {\n",
       "      var key = `${lib.replace(\"-\", \"\")}_version`;\n",
       "      return (VEGA_DEBUG[key] == version) ?\n",
       "        Promise.resolve(paths[lib]) :\n",
       "        new Promise(function(resolve, reject) {\n",
       "          var s = document.createElement('script');\n",
       "          document.getElementsByTagName(\"head\")[0].appendChild(s);\n",
       "          s.async = true;\n",
       "          s.onload = () => {\n",
       "            VEGA_DEBUG[key] = version;\n",
       "            return resolve(paths[lib]);\n",
       "          };\n",
       "          s.onerror = () => reject(`Error loading script: ${paths[lib]}`);\n",
       "          s.src = paths[lib];\n",
       "        });\n",
       "    }\n",
       "\n",
       "    function showError(err) {\n",
       "      outputDiv.innerHTML = `<div class=\"error\" style=\"color:red;\">${err}</div>`;\n",
       "      throw err;\n",
       "    }\n",
       "\n",
       "    function displayChart(vegaEmbed) {\n",
       "      vegaEmbed(outputDiv, spec, embedOpt)\n",
       "        .catch(err => showError(`Javascript Error: ${err.message}<br>This usually means there's a typo in your chart specification. See the javascript console for the full traceback.`));\n",
       "    }\n",
       "\n",
       "    if(typeof define === \"function\" && define.amd) {\n",
       "      requirejs.config({paths});\n",
       "      require([\"vega-embed\"], displayChart, err => showError(`Error loading script: ${err.message}`));\n",
       "    } else {\n",
       "      maybeLoadScript(\"vega\", \"5\")\n",
       "        .then(() => maybeLoadScript(\"vega-lite\", \"4.17.0\"))\n",
       "        .then(() => maybeLoadScript(\"vega-embed\", \"6\"))\n",
       "        .catch(showError)\n",
       "        .then(() => displayChart(vegaEmbed));\n",
       "    }\n",
       "  })({\"config\": {\"view\": {\"width\": 800, \"height\": 450, \"strokeOpacity\": 0}, \"background\": \"#ffffff\", \"title\": {\"anchor\": \"start\", \"font\": \"Summit Sans\", \"fontColor\": \"palette[\\\"black\\\"]\", \"fontSize\": 18, \"fontWeight\": \"normal\"}, \"arc\": {\"fill\": \"#00d4d8\"}, \"area\": {\"fill\": \"#00d4d8\"}, \"line\": {\"stroke\": \"#00d4d8\", \"strokeWidth\": 3}, \"path\": {\"stroke\": \"#00d4d8\"}, \"rect\": {\"fill\": \"#00d4d8\"}, \"shape\": {\"stroke\": \"#00d4d8\"}, \"bar\": {\"fill\": \"#00d4d8\"}, \"point\": {\"stroke\": \"#00d4d8\"}, \"symbol\": {\"fill\": \"#00d4d8\", \"size\": 30}, \"axis\": {\"titleFont\": \"Roboto\", \"titleFontSize\": 15, \"titleFontWeight\": \"normal\", \"labelFont\": \"Roboto, sans\", \"labelFontSize\": 13, \"labelFontWeight\": \"normal\"}, \"axisX\": {\"labelAngle\": 0, \"labelPadding\": 6, \"tickSize\": 3, \"grid\": false}, \"axisY\": {\"labelBaseline\": \"middle\", \"maxExtent\": 45, \"minExtent\": 45, \"titleAlign\": \"left\", \"titleAngle\": 0, \"titleX\": -45, \"titleY\": -11, \"domainOpacity\": 0, \"gridWidth\": 0.6, \"gridColor\": \"#dddddd\", \"offset\": 6, \"tickSize\": 0, \"titleColor\": \"#767676\"}, \"legend\": {\"titleFont\": \"Roboto\", \"titleFontSize\": 15, \"titleFontWeight\": \"normal\", \"symbolType\": \"square\", \"labelFont\": \"Roboto, sans\", \"labelFontSize\": 13}, \"range\": {\"category\": [\"#005f66\", \"#e37e2d\", \"#d64a3b\", \"#76b0ef\", \"#c1bc40\"], \"diverging\": [\"#e68a4f\", \"#f4bb6a\", \"#f9e39c\", \"#dadfe2\", \"#a6b7c6\", \"#849eae\"], \"heatmap\": [\"#7ff6f6\", \"#00eeef\", \"#00d4d8\", \"#00abb2\", \"#00848b\", \"#fbf2c7\", \"#00363d\"], \"ordinal\": [\"#7ff6f6\", \"#00eeef\", \"#00d4d8\", \"#00abb2\", \"#00848b\", \"#fbf2c7\", \"#00363d\"], \"ramp\": [\"#7ff6f6\", \"#00eeef\", \"#00d4d8\", \"#00abb2\", \"#00848b\", \"#fbf2c7\", \"#00363d\"]}}, \"data\": {\"name\": \"data-2d365301e957391fb22450e4e77cab55\"}, \"mark\": \"rect\", \"encoding\": {\"color\": {\"field\": \"z\", \"legend\": {\"title\": \"PM2.5 particles\"}, \"scale\": {\"reverse\": true, \"scheme\": \"spectral\"}, \"type\": \"quantitative\"}, \"x\": {\"axis\": {\"title\": \"\", \"values\": [\"2022-10-01T00:00:00\", \"2022-10-15T00:00:00\", \"2022-11-01T00:00:00\"]}, \"field\": \"x\", \"type\": \"ordinal\"}, \"y\": {\"axis\": {\"title\": \"\"}, \"field\": \"y\", \"sort\": [\"Mexico\", \"Germany\", \"United States\", \"Qatar\"], \"type\": \"ordinal\"}}, \"height\": 220, \"width\": 360, \"$schema\": \"https://vega.github.io/schema/vega-lite/v4.17.0.json\", \"datasets\": {\"data-2d365301e957391fb22450e4e77cab55\": [{\"x\": \"2022-10-01T00:00:00\", \"y\": \"Germany\", \"z\": 6.512352941176471}, {\"x\": \"2022-10-01T00:00:00\", \"y\": \"Mexico\", \"z\": 8.692941176470589}, {\"x\": \"2022-10-01T00:00:00\", \"y\": \"Qatar\", \"z\": 30.513529411764708}, {\"x\": \"2022-10-01T00:00:00\", \"y\": \"United States\", \"z\": 6.355294117647058}, {\"x\": \"2022-10-02T00:00:00\", \"y\": \"Germany\", \"z\": 4.817083333333334}, {\"x\": \"2022-10-02T00:00:00\", \"y\": \"Mexico\", \"z\": 8.535}, {\"x\": \"2022-10-02T00:00:00\", \"y\": \"Qatar\", \"z\": 34.89}, {\"x\": \"2022-10-02T00:00:00\", \"y\": \"United States\", \"z\": 5.78625}, {\"x\": \"2022-10-03T00:00:00\", \"y\": \"Germany\", \"z\": 5.276666666666666}, {\"x\": \"2022-10-03T00:00:00\", \"y\": \"Mexico\", \"z\": 8.522916666666667}, {\"x\": \"2022-10-03T00:00:00\", \"y\": \"Qatar\", \"z\": 36.41375}, {\"x\": \"2022-10-03T00:00:00\", \"y\": \"United States\", \"z\": 5.704166666666667}, {\"x\": \"2022-10-04T00:00:00\", \"y\": \"Germany\", \"z\": 6.045833333333333}, {\"x\": \"2022-10-04T00:00:00\", \"y\": \"Mexico\", \"z\": 9.76125}, {\"x\": \"2022-10-04T00:00:00\", \"y\": \"Qatar\", \"z\": 47.21}, {\"x\": \"2022-10-04T00:00:00\", \"y\": \"United States\", \"z\": 6.5575}, {\"x\": \"2022-10-05T00:00:00\", \"y\": \"Germany\", \"z\": 7.082941176470588}, {\"x\": \"2022-10-05T00:00:00\", \"y\": \"Mexico\", \"z\": 7.773529411764706}, {\"x\": \"2022-10-05T00:00:00\", \"y\": \"Qatar\", \"z\": 49.144705882352945}, {\"x\": \"2022-10-05T00:00:00\", \"y\": \"United States\", \"z\": 6.705294117647059}, {\"x\": \"2022-10-06T00:00:00\", \"y\": \"Germany\", \"z\": 5.935714285714285}, {\"x\": \"2022-10-06T00:00:00\", \"y\": \"Mexico\", \"z\": 6.822857142857143}, {\"x\": \"2022-10-06T00:00:00\", \"y\": \"Qatar\", \"z\": 36.35857142857143}, {\"x\": \"2022-10-06T00:00:00\", \"y\": \"United States\", \"z\": 7.424285714285714}, {\"x\": \"2022-10-07T00:00:00\", \"y\": \"Germany\", \"z\": 7.537692307692307}, {\"x\": \"2022-10-07T00:00:00\", \"y\": \"Mexico\", \"z\": 5.955384615384616}, {\"x\": \"2022-10-07T00:00:00\", \"y\": \"Qatar\", \"z\": 34.28923076923077}, {\"x\": \"2022-10-07T00:00:00\", \"y\": \"United States\", \"z\": 7.563846153846153}, {\"x\": \"2022-10-08T00:00:00\", \"y\": \"Germany\", \"z\": 7.820714285714287}, {\"x\": \"2022-10-08T00:00:00\", \"y\": \"Mexico\", \"z\": 5.597142857142857}, {\"x\": \"2022-10-08T00:00:00\", \"y\": \"Qatar\", \"z\": 40.88142857142857}, {\"x\": \"2022-10-08T00:00:00\", \"y\": \"United States\", \"z\": 6.667142857142857}, {\"x\": \"2022-10-09T00:00:00\", \"y\": \"Germany\", \"z\": 5.768571428571429}, {\"x\": \"2022-10-09T00:00:00\", \"y\": \"Mexico\", \"z\": 6.032857142857144}, {\"x\": \"2022-10-09T00:00:00\", \"y\": \"Qatar\", \"z\": 37.19142857142857}, {\"x\": \"2022-10-09T00:00:00\", \"y\": \"United States\", \"z\": 7.347142857142857}, {\"x\": \"2022-10-10T00:00:00\", \"y\": \"Germany\", \"z\": 8.0265}, {\"x\": \"2022-10-10T00:00:00\", \"y\": \"Mexico\", \"z\": 5.3515}, {\"x\": \"2022-10-10T00:00:00\", \"y\": \"Qatar\", \"z\": 29.4395}, {\"x\": \"2022-10-10T00:00:00\", \"y\": \"United States\", \"z\": 7.9795}, {\"x\": \"2022-10-11T00:00:00\", \"y\": \"Germany\", \"z\": 7.54}, {\"x\": \"2022-10-11T00:00:00\", \"y\": \"Mexico\", \"z\": 6.806111111111111}, {\"x\": \"2022-10-11T00:00:00\", \"y\": \"Qatar\", \"z\": 29.499583333333334}, {\"x\": \"2022-10-11T00:00:00\", \"y\": \"United States\", \"z\": 7.776111111111111}, {\"x\": \"2022-10-12T00:00:00\", \"y\": \"Germany\", \"z\": 9.304166666666667}, {\"x\": \"2022-10-12T00:00:00\", \"y\": \"Mexico\", \"z\": 6.885000000000001}, {\"x\": \"2022-10-12T00:00:00\", \"y\": \"Qatar\", \"z\": 33.02625}, {\"x\": \"2022-10-12T00:00:00\", \"y\": \"United States\", \"z\": 7.797083333333333}, {\"x\": \"2022-10-13T00:00:00\", \"y\": \"Germany\", \"z\": 12.6425}, {\"x\": \"2022-10-13T00:00:00\", \"y\": \"Mexico\", \"z\": 6.495416666666667}, {\"x\": \"2022-10-13T00:00:00\", \"y\": \"Qatar\", \"z\": 30.273333333333337}, {\"x\": \"2022-10-13T00:00:00\", \"y\": \"United States\", \"z\": 6.366666666666667}, {\"x\": \"2022-10-14T00:00:00\", \"y\": \"Germany\", \"z\": 9.9275}, {\"x\": \"2022-10-14T00:00:00\", \"y\": \"Mexico\", \"z\": 7.059166666666666}, {\"x\": \"2022-10-14T00:00:00\", \"y\": \"Qatar\", \"z\": 28.102083333333336}, {\"x\": \"2022-10-14T00:00:00\", \"y\": \"United States\", \"z\": 6.777916666666666}, {\"x\": \"2022-10-15T00:00:00\", \"y\": \"Germany\", \"z\": 6.123333333333334}, {\"x\": \"2022-10-15T00:00:00\", \"y\": \"Mexico\", \"z\": 7.858333333333333}, {\"x\": \"2022-10-15T00:00:00\", \"y\": \"Qatar\", \"z\": 25.99875}, {\"x\": \"2022-10-15T00:00:00\", \"y\": \"United States\", \"z\": 7.21625}, {\"x\": \"2022-10-16T00:00:00\", \"y\": \"Germany\", \"z\": 4.835416666666666}, {\"x\": \"2022-10-16T00:00:00\", \"y\": \"Mexico\", \"z\": 7.831250000000001}, {\"x\": \"2022-10-16T00:00:00\", \"y\": \"Qatar\", \"z\": 26.476250000000004}, {\"x\": \"2022-10-16T00:00:00\", \"y\": \"United States\", \"z\": 6.8445833333333335}, {\"x\": \"2022-10-17T00:00:00\", \"y\": \"Germany\", \"z\": 9.152083333333334}, {\"x\": \"2022-10-17T00:00:00\", \"y\": \"Mexico\", \"z\": 7.6125}, {\"x\": \"2022-10-17T00:00:00\", \"y\": \"Qatar\", \"z\": 33.242916666666666}, {\"x\": \"2022-10-17T00:00:00\", \"y\": \"United States\", \"z\": 6.255}, {\"x\": \"2022-10-18T00:00:00\", \"y\": \"Germany\", \"z\": 8.97875}, {\"x\": \"2022-10-18T00:00:00\", \"y\": \"Mexico\", \"z\": 7.804583333333333}, {\"x\": \"2022-10-18T00:00:00\", \"y\": \"Qatar\", \"z\": 32.185833333333335}, {\"x\": \"2022-10-18T00:00:00\", \"y\": \"United States\", \"z\": 5.978333333333333}, {\"x\": \"2022-10-19T00:00:00\", \"y\": \"Germany\", \"z\": 6.845}, {\"x\": \"2022-10-19T00:00:00\", \"y\": \"Mexico\", \"z\": 5.487916666666667}, {\"x\": \"2022-10-19T00:00:00\", \"y\": \"Qatar\", \"z\": 29.642916666666665}, {\"x\": \"2022-10-19T00:00:00\", \"y\": \"United States\", \"z\": 6.6191666666666675}, {\"x\": \"2022-10-20T00:00:00\", \"y\": \"Germany\", \"z\": 8.404166666666667}, {\"x\": \"2022-10-20T00:00:00\", \"y\": \"Mexico\", \"z\": 6.619583333333334}, {\"x\": \"2022-10-20T00:00:00\", \"y\": \"Qatar\", \"z\": 27.278333333333332}, {\"x\": \"2022-10-20T00:00:00\", \"y\": \"United States\", \"z\": 8.523333333333333}, {\"x\": \"2022-10-21T00:00:00\", \"y\": \"Germany\", \"z\": 10.480416666666667}, {\"x\": \"2022-10-21T00:00:00\", \"y\": \"Mexico\", \"z\": 7.48875}, {\"x\": \"2022-10-21T00:00:00\", \"y\": \"Qatar\", \"z\": 27.655}, {\"x\": \"2022-10-21T00:00:00\", \"y\": \"United States\", \"z\": 8.835416666666667}, {\"x\": \"2022-10-22T00:00:00\", \"y\": \"Germany\", \"z\": 8.165833333333333}, {\"x\": \"2022-10-22T00:00:00\", \"y\": \"Mexico\", \"z\": 8.9425}, {\"x\": \"2022-10-22T00:00:00\", \"y\": \"Qatar\", \"z\": 27.201666666666668}, {\"x\": \"2022-10-22T00:00:00\", \"y\": \"United States\", \"z\": 8.17375}, {\"x\": \"2022-10-23T00:00:00\", \"y\": \"Germany\", \"z\": 7.445416666666667}, {\"x\": \"2022-10-23T00:00:00\", \"y\": \"Mexico\", \"z\": 7.242916666666667}, {\"x\": \"2022-10-23T00:00:00\", \"y\": \"Qatar\", \"z\": 29.796666666666667}, {\"x\": \"2022-10-23T00:00:00\", \"y\": \"United States\", \"z\": 8.219166666666666}, {\"x\": \"2022-10-24T00:00:00\", \"y\": \"Germany\", \"z\": 7.1825}, {\"x\": \"2022-10-24T00:00:00\", \"y\": \"Mexico\", \"z\": 7.745833333333334}, {\"x\": \"2022-10-24T00:00:00\", \"y\": \"Qatar\", \"z\": 27.505}, {\"x\": \"2022-10-24T00:00:00\", \"y\": \"United States\", \"z\": 6.537916666666667}, {\"x\": \"2022-10-25T00:00:00\", \"y\": \"Germany\", \"z\": 6.1825}, {\"x\": \"2022-10-25T00:00:00\", \"y\": \"Mexico\", \"z\": 7.61625}, {\"x\": \"2022-10-25T00:00:00\", \"y\": \"Qatar\", \"z\": 24.91913043478261}, {\"x\": \"2022-10-25T00:00:00\", \"y\": \"United States\", \"z\": 5.5874999999999995}, {\"x\": \"2022-10-26T00:00:00\", \"y\": \"Germany\", \"z\": 7.618333333333333}, {\"x\": \"2022-10-26T00:00:00\", \"y\": \"Mexico\", \"z\": 7.87625}, {\"x\": \"2022-10-26T00:00:00\", \"y\": \"Qatar\", \"z\": 30.692}, {\"x\": \"2022-10-26T00:00:00\", \"y\": \"United States\", \"z\": 5.162083333333333}, {\"x\": \"2022-10-27T00:00:00\", \"y\": \"Germany\", \"z\": 8.424583333333333}, {\"x\": \"2022-10-27T00:00:00\", \"y\": \"Mexico\", \"z\": 7.934583333333333}, {\"x\": \"2022-10-27T00:00:00\", \"y\": \"Qatar\", \"z\": 32.95458333333333}, {\"x\": \"2022-10-27T00:00:00\", \"y\": \"United States\", \"z\": 5.08625}, {\"x\": \"2022-10-28T00:00:00\", \"y\": \"Germany\", \"z\": 13.047916666666666}, {\"x\": \"2022-10-28T00:00:00\", \"y\": \"Mexico\", \"z\": 9.182083333333333}, {\"x\": \"2022-10-28T00:00:00\", \"y\": \"Qatar\", \"z\": 37.259166666666665}, {\"x\": \"2022-10-28T00:00:00\", \"y\": \"United States\", \"z\": 6.097083333333334}, {\"x\": \"2022-10-29T00:00:00\", \"y\": \"Germany\", \"z\": 15.659166666666666}, {\"x\": \"2022-10-29T00:00:00\", \"y\": \"Mexico\", \"z\": 8.84375}, {\"x\": \"2022-10-29T00:00:00\", \"y\": \"Qatar\", \"z\": 34.174166666666665}, {\"x\": \"2022-10-29T00:00:00\", \"y\": \"United States\", \"z\": 7.451249999999999}, {\"x\": \"2022-10-30T00:00:00\", \"y\": \"Germany\", \"z\": 15.821666666666667}, {\"x\": \"2022-10-30T00:00:00\", \"y\": \"Mexico\", \"z\": 9.732916666666666}, {\"x\": \"2022-10-30T00:00:00\", \"y\": \"Qatar\", \"z\": 33.06583333333334}, {\"x\": \"2022-10-30T00:00:00\", \"y\": \"United States\", \"z\": 8.08625}, {\"x\": \"2022-10-31T00:00:00\", \"y\": \"Germany\", \"z\": 14.995416666666666}, {\"x\": \"2022-10-31T00:00:00\", \"y\": \"Mexico\", \"z\": 8.215416666666666}, {\"x\": \"2022-10-31T00:00:00\", \"y\": \"Qatar\", \"z\": 31.521428571428572}, {\"x\": \"2022-10-31T00:00:00\", \"y\": \"United States\", \"z\": 7.5025}, {\"x\": \"2022-11-01T00:00:00\", \"y\": \"Germany\", \"z\": 10.5525}, {\"x\": \"2022-11-01T00:00:00\", \"y\": \"Mexico\", \"z\": 11.811250000000001}, {\"x\": \"2022-11-01T00:00:00\", \"y\": \"Qatar\", \"z\": 33.823125}, {\"x\": \"2022-11-01T00:00:00\", \"y\": \"United States\", \"z\": 8.013333333333334}, {\"x\": \"2022-11-02T00:00:00\", \"y\": \"Germany\", \"z\": 6.384583333333333}, {\"x\": \"2022-11-02T00:00:00\", \"y\": \"Mexico\", \"z\": 11.75875}, {\"x\": \"2022-11-02T00:00:00\", \"y\": \"Qatar\", \"z\": 37.083333333333336}, {\"x\": \"2022-11-02T00:00:00\", \"y\": \"United States\", \"z\": 8.0675}, {\"x\": \"2022-11-03T00:00:00\", \"y\": \"Germany\", \"z\": 7.103333333333333}, {\"x\": \"2022-11-03T00:00:00\", \"y\": \"Mexico\", \"z\": 11.817916666666667}, {\"x\": \"2022-11-03T00:00:00\", \"y\": \"Qatar\", \"z\": 34.864583333333336}, {\"x\": \"2022-11-03T00:00:00\", \"y\": \"United States\", \"z\": 7.9504166666666665}, {\"x\": \"2022-11-04T00:00:00\", \"y\": \"Germany\", \"z\": 7.39375}, {\"x\": \"2022-11-04T00:00:00\", \"y\": \"Mexico\", \"z\": 10.154583333333333}, {\"x\": \"2022-11-04T00:00:00\", \"y\": \"Qatar\", \"z\": 20.001304347826085}, {\"x\": \"2022-11-04T00:00:00\", \"y\": \"United States\", \"z\": 6.871666666666666}, {\"x\": \"2022-11-05T00:00:00\", \"y\": \"Germany\", \"z\": 7.392916666666667}, {\"x\": \"2022-11-05T00:00:00\", \"y\": \"Mexico\", \"z\": 8.203333333333333}, {\"x\": \"2022-11-05T00:00:00\", \"y\": \"Qatar\", \"z\": 25.385833333333334}, {\"x\": \"2022-11-05T00:00:00\", \"y\": \"United States\", \"z\": 5.030833333333333}, {\"x\": \"2022-11-06T00:00:00\", \"y\": \"Germany\", \"z\": 6.46375}, {\"x\": \"2022-11-06T00:00:00\", \"y\": \"Mexico\", \"z\": 9.198333333333332}, {\"x\": \"2022-11-06T00:00:00\", \"y\": \"Qatar\", \"z\": 22.068749999999998}, {\"x\": \"2022-11-06T00:00:00\", \"y\": \"United States\", \"z\": 5.214583333333334}, {\"x\": \"2022-11-07T00:00:00\", \"y\": \"Germany\", \"z\": 6.5441666666666665}, {\"x\": \"2022-11-07T00:00:00\", \"y\": \"Mexico\", \"z\": 10.269583333333333}, {\"x\": \"2022-11-07T00:00:00\", \"y\": \"Qatar\", \"z\": 25.345416666666665}, {\"x\": \"2022-11-07T00:00:00\", \"y\": \"United States\", \"z\": 5.833749999999999}, {\"x\": \"2022-11-08T00:00:00\", \"y\": \"Germany\", \"z\": 6.61375}, {\"x\": \"2022-11-08T00:00:00\", \"y\": \"Mexico\", \"z\": 8.088333333333333}, {\"x\": \"2022-11-08T00:00:00\", \"y\": \"Qatar\", \"z\": 23.93958333333333}, {\"x\": \"2022-11-08T00:00:00\", \"y\": \"United States\", \"z\": 5.747916666666666}, {\"x\": \"2022-11-09T00:00:00\", \"y\": \"Germany\", \"z\": 7.084583333333334}, {\"x\": \"2022-11-09T00:00:00\", \"y\": \"Mexico\", \"z\": 7.197083333333333}, {\"x\": \"2022-11-09T00:00:00\", \"y\": \"Qatar\", \"z\": 25.201666666666668}, {\"x\": \"2022-11-09T00:00:00\", \"y\": \"United States\", \"z\": 6.957916666666667}, {\"x\": \"2022-11-10T00:00:00\", \"y\": \"Germany\", \"z\": 7.90875}, {\"x\": \"2022-11-10T00:00:00\", \"y\": \"Mexico\", \"z\": 8.074583333333333}, {\"x\": \"2022-11-10T00:00:00\", \"y\": \"Qatar\", \"z\": 27.459166666666665}, {\"x\": \"2022-11-10T00:00:00\", \"y\": \"United States\", \"z\": 6.9191666666666665}, {\"x\": \"2022-11-11T00:00:00\", \"y\": \"Germany\", \"z\": 8.074166666666667}, {\"x\": \"2022-11-11T00:00:00\", \"y\": \"Mexico\", \"z\": 8.644166666666667}, {\"x\": \"2022-11-11T00:00:00\", \"y\": \"Qatar\", \"z\": 24.260416666666668}, {\"x\": \"2022-11-11T00:00:00\", \"y\": \"United States\", \"z\": 6.27625}, {\"x\": \"2022-11-12T00:00:00\", \"y\": \"Germany\", \"z\": 12.032916666666667}, {\"x\": \"2022-11-12T00:00:00\", \"y\": \"Mexico\", \"z\": 9.748333333333333}, {\"x\": \"2022-11-12T00:00:00\", \"y\": \"Qatar\", \"z\": 21.319583333333334}, {\"x\": \"2022-11-12T00:00:00\", \"y\": \"United States\", \"z\": 5.7870833333333325}, {\"x\": \"2022-11-13T00:00:00\", \"y\": \"Germany\", \"z\": 11.179583333333333}, {\"x\": \"2022-11-13T00:00:00\", \"y\": \"Mexico\", \"z\": 9.770416666666668}, {\"x\": \"2022-11-13T00:00:00\", \"y\": \"Qatar\", \"z\": 20.689583333333335}, {\"x\": \"2022-11-13T00:00:00\", \"y\": \"United States\", \"z\": 6.38375}, {\"x\": \"2022-11-14T00:00:00\", \"y\": \"Germany\", \"z\": 12.39875}, {\"x\": \"2022-11-14T00:00:00\", \"y\": \"Mexico\", \"z\": 7.631666666666667}, {\"x\": \"2022-11-14T00:00:00\", \"y\": \"Qatar\", \"z\": 18.7525}, {\"x\": \"2022-11-14T00:00:00\", \"y\": \"United States\", \"z\": 6.168333333333333}, {\"x\": \"2022-11-15T00:00:00\", \"y\": \"Germany\", \"z\": 9.590416666666666}, {\"x\": \"2022-11-15T00:00:00\", \"y\": \"Mexico\", \"z\": 8.589166666666667}, {\"x\": \"2022-11-15T00:00:00\", \"y\": \"Qatar\", \"z\": 21.077916666666667}, {\"x\": \"2022-11-15T00:00:00\", \"y\": \"United States\", \"z\": 7.07375}, {\"x\": \"2022-11-16T00:00:00\", \"y\": \"Germany\", \"z\": 9.2925}, {\"x\": \"2022-11-16T00:00:00\", \"y\": \"Mexico\", \"z\": 7.739375}, {\"x\": \"2022-11-16T00:00:00\", \"y\": \"Qatar\", \"z\": 24.660666666666664}, {\"x\": \"2022-11-16T00:00:00\", \"y\": \"United States\", \"z\": 7.400625}]}}, {\"mode\": \"vega-lite\"});\n",
       "</script>"
      ],
      "text/plain": [
       "alt.Chart(...)"
      ]
     },
     "execution_count": 52,
     "metadata": {},
     "output_type": "execute_result"
    }
   ],
   "source": [
    "alt.Chart(aq_daily_heatmap[aq_daily_heatmap[\"x\"] >= \"2022-10-01\"]).mark_rect().encode(\n",
    "    x=alt.X(\n",
    "        \"x:O\",\n",
    "        axis=alt.Axis(\n",
    "            title=\"\",\n",
    "            values=[\n",
    "                \"2022-10-01T00:00:00\",\n",
    "                \"2022-10-15T00:00:00\",\n",
    "                \"2022-11-01T00:00:00\",\n",
    "            ],\n",
    "        ),\n",
    "    ),\n",
    "    y=alt.Y(\n",
    "        \"y:O\",\n",
    "        sort=[\"Mexico\", \"Germany\", \"United States\", \"Qatar\"],\n",
    "        axis=alt.Axis(title=\"\"),\n",
    "    ),\n",
    "    color=alt.Color(\n",
    "        \"z:Q\",\n",
    "        legend=alt.Legend(title=\"PM2.5 particles\"),\n",
    "        scale=alt.Scale(scheme=\"spectral\", reverse=True),\n",
    "    ),\n",
    ").properties(width=360, height=220)"
   ]
  },
  {
   "cell_type": "markdown",
   "id": "083d70f6-9a94-4047-ba1a-cb4dcb5d22b7",
   "metadata": {},
   "source": [
    "### the colors aren't working because the scale is so different--trying a different approach"
   ]
  },
  {
   "cell_type": "code",
   "execution_count": 53,
   "id": "b0b5e331-bca8-4161-ba14-91cc7fe49a88",
   "metadata": {},
   "outputs": [
    {
     "data": {
      "text/html": [
       "<div>\n",
       "<style scoped>\n",
       "    .dataframe tbody tr th:only-of-type {\n",
       "        vertical-align: middle;\n",
       "    }\n",
       "\n",
       "    .dataframe tbody tr th {\n",
       "        vertical-align: top;\n",
       "    }\n",
       "\n",
       "    .dataframe thead th {\n",
       "        text-align: right;\n",
       "    }\n",
       "</style>\n",
       "<table border=\"1\" class=\"dataframe\">\n",
       "  <thead>\n",
       "    <tr style=\"text-align: right;\">\n",
       "      <th></th>\n",
       "      <th>date</th>\n",
       "      <th>country</th>\n",
       "      <th>pm2.5</th>\n",
       "      <th>y</th>\n",
       "    </tr>\n",
       "  </thead>\n",
       "  <tbody>\n",
       "    <tr>\n",
       "      <th>0</th>\n",
       "      <td>2004-01-01</td>\n",
       "      <td>United States</td>\n",
       "      <td>10.068421</td>\n",
       "      <td>2</td>\n",
       "    </tr>\n",
       "    <tr>\n",
       "      <th>1</th>\n",
       "      <td>2004-01-02</td>\n",
       "      <td>United States</td>\n",
       "      <td>9.346250</td>\n",
       "      <td>2</td>\n",
       "    </tr>\n",
       "    <tr>\n",
       "      <th>2</th>\n",
       "      <td>2004-01-03</td>\n",
       "      <td>United States</td>\n",
       "      <td>8.789167</td>\n",
       "      <td>2</td>\n",
       "    </tr>\n",
       "    <tr>\n",
       "      <th>3</th>\n",
       "      <td>2004-01-04</td>\n",
       "      <td>United States</td>\n",
       "      <td>7.270417</td>\n",
       "      <td>2</td>\n",
       "    </tr>\n",
       "    <tr>\n",
       "      <th>4</th>\n",
       "      <td>2004-01-05</td>\n",
       "      <td>United States</td>\n",
       "      <td>6.922917</td>\n",
       "      <td>2</td>\n",
       "    </tr>\n",
       "  </tbody>\n",
       "</table>\n",
       "</div>"
      ],
      "text/plain": [
       "        date        country      pm2.5  y\n",
       "0 2004-01-01  United States  10.068421  2\n",
       "1 2004-01-02  United States   9.346250  2\n",
       "2 2004-01-03  United States   8.789167  2\n",
       "3 2004-01-04  United States   7.270417  2\n",
       "4 2004-01-05  United States   6.922917  2"
      ]
     },
     "execution_count": 53,
     "metadata": {},
     "output_type": "execute_result"
    }
   ],
   "source": [
    "df_daily.head()"
   ]
  },
  {
   "cell_type": "code",
   "execution_count": 62,
   "id": "3b8652d5-56e4-48a5-b16c-700bd81c5a4b",
   "metadata": {},
   "outputs": [
    {
     "data": {
      "text/html": [
       "\n",
       "<div id=\"altair-viz-56cab80c1cfc46f8811950ecf13aad17\"></div>\n",
       "<script type=\"text/javascript\">\n",
       "  var VEGA_DEBUG = (typeof VEGA_DEBUG == \"undefined\") ? {} : VEGA_DEBUG;\n",
       "  (function(spec, embedOpt){\n",
       "    let outputDiv = document.currentScript.previousElementSibling;\n",
       "    if (outputDiv.id !== \"altair-viz-56cab80c1cfc46f8811950ecf13aad17\") {\n",
       "      outputDiv = document.getElementById(\"altair-viz-56cab80c1cfc46f8811950ecf13aad17\");\n",
       "    }\n",
       "    const paths = {\n",
       "      \"vega\": \"https://cdn.jsdelivr.net/npm//vega@5?noext\",\n",
       "      \"vega-lib\": \"https://cdn.jsdelivr.net/npm//vega-lib?noext\",\n",
       "      \"vega-lite\": \"https://cdn.jsdelivr.net/npm//vega-lite@4.17.0?noext\",\n",
       "      \"vega-embed\": \"https://cdn.jsdelivr.net/npm//vega-embed@6?noext\",\n",
       "    };\n",
       "\n",
       "    function maybeLoadScript(lib, version) {\n",
       "      var key = `${lib.replace(\"-\", \"\")}_version`;\n",
       "      return (VEGA_DEBUG[key] == version) ?\n",
       "        Promise.resolve(paths[lib]) :\n",
       "        new Promise(function(resolve, reject) {\n",
       "          var s = document.createElement('script');\n",
       "          document.getElementsByTagName(\"head\")[0].appendChild(s);\n",
       "          s.async = true;\n",
       "          s.onload = () => {\n",
       "            VEGA_DEBUG[key] = version;\n",
       "            return resolve(paths[lib]);\n",
       "          };\n",
       "          s.onerror = () => reject(`Error loading script: ${paths[lib]}`);\n",
       "          s.src = paths[lib];\n",
       "        });\n",
       "    }\n",
       "\n",
       "    function showError(err) {\n",
       "      outputDiv.innerHTML = `<div class=\"error\" style=\"color:red;\">${err}</div>`;\n",
       "      throw err;\n",
       "    }\n",
       "\n",
       "    function displayChart(vegaEmbed) {\n",
       "      vegaEmbed(outputDiv, spec, embedOpt)\n",
       "        .catch(err => showError(`Javascript Error: ${err.message}<br>This usually means there's a typo in your chart specification. See the javascript console for the full traceback.`));\n",
       "    }\n",
       "\n",
       "    if(typeof define === \"function\" && define.amd) {\n",
       "      requirejs.config({paths});\n",
       "      require([\"vega-embed\"], displayChart, err => showError(`Error loading script: ${err.message}`));\n",
       "    } else {\n",
       "      maybeLoadScript(\"vega\", \"5\")\n",
       "        .then(() => maybeLoadScript(\"vega-lite\", \"4.17.0\"))\n",
       "        .then(() => maybeLoadScript(\"vega-embed\", \"6\"))\n",
       "        .catch(showError)\n",
       "        .then(() => displayChart(vegaEmbed));\n",
       "    }\n",
       "  })({\"config\": {\"view\": {\"width\": 800, \"height\": 450, \"strokeOpacity\": 0, \"stroke\": null}, \"background\": \"#ffffff\", \"title\": {\"anchor\": \"end\", \"font\": \"Summit Sans\", \"fontColor\": \"palette[\\\"black\\\"]\", \"fontSize\": 18, \"fontWeight\": \"normal\"}, \"arc\": {\"fill\": \"#00d4d8\"}, \"area\": {\"fill\": \"#00d4d8\"}, \"line\": {\"stroke\": \"#00d4d8\", \"strokeWidth\": 3}, \"path\": {\"stroke\": \"#00d4d8\"}, \"rect\": {\"fill\": \"#00d4d8\"}, \"shape\": {\"stroke\": \"#00d4d8\"}, \"bar\": {\"fill\": \"#00d4d8\"}, \"point\": {\"stroke\": \"#00d4d8\"}, \"symbol\": {\"fill\": \"#00d4d8\", \"size\": 30}, \"axis\": {\"titleFont\": \"Roboto\", \"titleFontSize\": 15, \"titleFontWeight\": \"normal\", \"labelFont\": \"Roboto, sans\", \"labelFontSize\": 13, \"labelFontWeight\": \"normal\"}, \"axisX\": {\"labelAngle\": 0, \"labelPadding\": 6, \"tickSize\": 3, \"grid\": false}, \"axisY\": {\"labelBaseline\": \"middle\", \"maxExtent\": 45, \"minExtent\": 45, \"titleAlign\": \"left\", \"titleAngle\": 0, \"titleX\": -45, \"titleY\": -11, \"domainOpacity\": 0, \"gridWidth\": 0.6, \"gridColor\": \"#dddddd\", \"offset\": 6, \"tickSize\": 0, \"titleColor\": \"#767676\"}, \"legend\": {\"titleFont\": \"Roboto\", \"titleFontSize\": 15, \"titleFontWeight\": \"normal\", \"symbolType\": \"square\", \"labelFont\": \"Roboto, sans\", \"labelFontSize\": 13}, \"range\": {\"category\": [\"#005f66\", \"#e37e2d\", \"#d64a3b\", \"#76b0ef\", \"#c1bc40\"], \"diverging\": [\"#e68a4f\", \"#f4bb6a\", \"#f9e39c\", \"#dadfe2\", \"#a6b7c6\", \"#849eae\"], \"heatmap\": [\"#7ff6f6\", \"#00eeef\", \"#00d4d8\", \"#00abb2\", \"#00848b\", \"#fbf2c7\", \"#00363d\"], \"ordinal\": [\"#7ff6f6\", \"#00eeef\", \"#00d4d8\", \"#00abb2\", \"#00848b\", \"#fbf2c7\", \"#00363d\"], \"ramp\": [\"#7ff6f6\", \"#00eeef\", \"#00d4d8\", \"#00abb2\", \"#00848b\", \"#fbf2c7\", \"#00363d\"]}, \"facet\": {\"spacing\": 0}}, \"data\": {\"name\": \"data-c57e38a9b40f8b07d75f4694edb7195e\"}, \"facet\": {\"row\": {\"field\": \"country\", \"header\": {\"labelAlign\": \"right\", \"labelAngle\": 0}, \"title\": null, \"type\": \"nominal\"}}, \"spec\": {\"mark\": {\"type\": \"area\", \"fillOpacity\": 0.8, \"interpolate\": \"monotone\", \"stroke\": \"lightgray\", \"strokeWidth\": 0.5}, \"encoding\": {\"fill\": {\"field\": \"pm2.5\", \"legend\": null, \"scale\": {\"reverse\": true, \"scheme\": \"spectral\"}, \"type\": \"quantitative\"}, \"x\": {\"field\": \"date\", \"type\": \"temporal\"}, \"y\": {\"axis\": null, \"field\": \"pm2.5\", \"scale\": {}, \"type\": \"quantitative\"}}, \"height\": 20}, \"bounds\": \"flush\", \"$schema\": \"https://vega.github.io/schema/vega-lite/v4.17.0.json\", \"datasets\": {\"data-c57e38a9b40f8b07d75f4694edb7195e\": [{\"date\": \"2022-10-01T00:00:00\", \"country\": \"Germany\", \"pm2.5\": 6.512352941176471, \"y\": 2}, {\"date\": \"2022-10-01T00:00:00\", \"country\": \"Mexico\", \"pm2.5\": 8.692941176470589, \"y\": 2}, {\"date\": \"2022-10-01T00:00:00\", \"country\": \"Qatar\", \"pm2.5\": 30.513529411764708, \"y\": 2}, {\"date\": \"2022-10-01T00:00:00\", \"country\": \"United States\", \"pm2.5\": 6.355294117647058, \"y\": 2}, {\"date\": \"2022-10-02T00:00:00\", \"country\": \"Germany\", \"pm2.5\": 4.817083333333334, \"y\": 2}, {\"date\": \"2022-10-02T00:00:00\", \"country\": \"Mexico\", \"pm2.5\": 8.535, \"y\": 2}, {\"date\": \"2022-10-02T00:00:00\", \"country\": \"Qatar\", \"pm2.5\": 34.89, \"y\": 2}, {\"date\": \"2022-10-02T00:00:00\", \"country\": \"United States\", \"pm2.5\": 5.78625, \"y\": 2}, {\"date\": \"2022-10-03T00:00:00\", \"country\": \"Germany\", \"pm2.5\": 5.276666666666666, \"y\": 2}, {\"date\": \"2022-10-03T00:00:00\", \"country\": \"Mexico\", \"pm2.5\": 8.522916666666667, \"y\": 2}, {\"date\": \"2022-10-03T00:00:00\", \"country\": \"Qatar\", \"pm2.5\": 36.41375, \"y\": 2}, {\"date\": \"2022-10-03T00:00:00\", \"country\": \"United States\", \"pm2.5\": 5.704166666666667, \"y\": 2}, {\"date\": \"2022-10-04T00:00:00\", \"country\": \"Germany\", \"pm2.5\": 6.045833333333333, \"y\": 2}, {\"date\": \"2022-10-04T00:00:00\", \"country\": \"Mexico\", \"pm2.5\": 9.76125, \"y\": 2}, {\"date\": \"2022-10-04T00:00:00\", \"country\": \"Qatar\", \"pm2.5\": 47.21, \"y\": 2}, {\"date\": \"2022-10-04T00:00:00\", \"country\": \"United States\", \"pm2.5\": 6.5575, \"y\": 2}, {\"date\": \"2022-10-05T00:00:00\", \"country\": \"Germany\", \"pm2.5\": 7.082941176470588, \"y\": 2}, {\"date\": \"2022-10-05T00:00:00\", \"country\": \"Mexico\", \"pm2.5\": 7.773529411764706, \"y\": 2}, {\"date\": \"2022-10-05T00:00:00\", \"country\": \"Qatar\", \"pm2.5\": 49.144705882352945, \"y\": 2}, {\"date\": \"2022-10-05T00:00:00\", \"country\": \"United States\", \"pm2.5\": 6.705294117647059, \"y\": 2}, {\"date\": \"2022-10-06T00:00:00\", \"country\": \"Germany\", \"pm2.5\": 5.935714285714285, \"y\": 2}, {\"date\": \"2022-10-06T00:00:00\", \"country\": \"Mexico\", \"pm2.5\": 6.822857142857143, \"y\": 2}, {\"date\": \"2022-10-06T00:00:00\", \"country\": \"Qatar\", \"pm2.5\": 36.35857142857143, \"y\": 2}, {\"date\": \"2022-10-06T00:00:00\", \"country\": \"United States\", \"pm2.5\": 7.424285714285714, \"y\": 2}, {\"date\": \"2022-10-07T00:00:00\", \"country\": \"Germany\", \"pm2.5\": 7.537692307692307, \"y\": 2}, {\"date\": \"2022-10-07T00:00:00\", \"country\": \"Mexico\", \"pm2.5\": 5.955384615384616, \"y\": 2}, {\"date\": \"2022-10-07T00:00:00\", \"country\": \"Qatar\", \"pm2.5\": 34.28923076923077, \"y\": 2}, {\"date\": \"2022-10-07T00:00:00\", \"country\": \"United States\", \"pm2.5\": 7.563846153846153, \"y\": 2}, {\"date\": \"2022-10-08T00:00:00\", \"country\": \"Germany\", \"pm2.5\": 7.820714285714287, \"y\": 2}, {\"date\": \"2022-10-08T00:00:00\", \"country\": \"Mexico\", \"pm2.5\": 5.597142857142857, \"y\": 2}, {\"date\": \"2022-10-08T00:00:00\", \"country\": \"Qatar\", \"pm2.5\": 40.88142857142857, \"y\": 2}, {\"date\": \"2022-10-08T00:00:00\", \"country\": \"United States\", \"pm2.5\": 6.667142857142857, \"y\": 2}, {\"date\": \"2022-10-09T00:00:00\", \"country\": \"Germany\", \"pm2.5\": 5.768571428571429, \"y\": 2}, {\"date\": \"2022-10-09T00:00:00\", \"country\": \"Mexico\", \"pm2.5\": 6.032857142857144, \"y\": 2}, {\"date\": \"2022-10-09T00:00:00\", \"country\": \"Qatar\", \"pm2.5\": 37.19142857142857, \"y\": 2}, {\"date\": \"2022-10-09T00:00:00\", \"country\": \"United States\", \"pm2.5\": 7.347142857142857, \"y\": 2}, {\"date\": \"2022-10-10T00:00:00\", \"country\": \"Germany\", \"pm2.5\": 8.0265, \"y\": 2}, {\"date\": \"2022-10-10T00:00:00\", \"country\": \"Mexico\", \"pm2.5\": 5.3515, \"y\": 2}, {\"date\": \"2022-10-10T00:00:00\", \"country\": \"Qatar\", \"pm2.5\": 29.4395, \"y\": 2}, {\"date\": \"2022-10-10T00:00:00\", \"country\": \"United States\", \"pm2.5\": 7.9795, \"y\": 2}, {\"date\": \"2022-10-11T00:00:00\", \"country\": \"Germany\", \"pm2.5\": 7.54, \"y\": 2}, {\"date\": \"2022-10-11T00:00:00\", \"country\": \"Mexico\", \"pm2.5\": 6.806111111111111, \"y\": 2}, {\"date\": \"2022-10-11T00:00:00\", \"country\": \"Qatar\", \"pm2.5\": 29.499583333333334, \"y\": 2}, {\"date\": \"2022-10-11T00:00:00\", \"country\": \"United States\", \"pm2.5\": 7.776111111111111, \"y\": 2}, {\"date\": \"2022-10-12T00:00:00\", \"country\": \"Germany\", \"pm2.5\": 9.304166666666667, \"y\": 2}, {\"date\": \"2022-10-12T00:00:00\", \"country\": \"Mexico\", \"pm2.5\": 6.885000000000001, \"y\": 2}, {\"date\": \"2022-10-12T00:00:00\", \"country\": \"Qatar\", \"pm2.5\": 33.02625, \"y\": 2}, {\"date\": \"2022-10-12T00:00:00\", \"country\": \"United States\", \"pm2.5\": 7.797083333333333, \"y\": 2}, {\"date\": \"2022-10-13T00:00:00\", \"country\": \"Germany\", \"pm2.5\": 12.6425, \"y\": 2}, {\"date\": \"2022-10-13T00:00:00\", \"country\": \"Mexico\", \"pm2.5\": 6.495416666666667, \"y\": 2}, {\"date\": \"2022-10-13T00:00:00\", \"country\": \"Qatar\", \"pm2.5\": 30.273333333333337, \"y\": 2}, {\"date\": \"2022-10-13T00:00:00\", \"country\": \"United States\", \"pm2.5\": 6.366666666666667, \"y\": 2}, {\"date\": \"2022-10-14T00:00:00\", \"country\": \"Germany\", \"pm2.5\": 9.9275, \"y\": 2}, {\"date\": \"2022-10-14T00:00:00\", \"country\": \"Mexico\", \"pm2.5\": 7.059166666666666, \"y\": 2}, {\"date\": \"2022-10-14T00:00:00\", \"country\": \"Qatar\", \"pm2.5\": 28.102083333333336, \"y\": 2}, {\"date\": \"2022-10-14T00:00:00\", \"country\": \"United States\", \"pm2.5\": 6.777916666666666, \"y\": 2}, {\"date\": \"2022-10-15T00:00:00\", \"country\": \"Germany\", \"pm2.5\": 6.123333333333334, \"y\": 2}, {\"date\": \"2022-10-15T00:00:00\", \"country\": \"Mexico\", \"pm2.5\": 7.858333333333333, \"y\": 2}, {\"date\": \"2022-10-15T00:00:00\", \"country\": \"Qatar\", \"pm2.5\": 25.99875, \"y\": 2}, {\"date\": \"2022-10-15T00:00:00\", \"country\": \"United States\", \"pm2.5\": 7.21625, \"y\": 2}, {\"date\": \"2022-10-16T00:00:00\", \"country\": \"Germany\", \"pm2.5\": 4.835416666666666, \"y\": 2}, {\"date\": \"2022-10-16T00:00:00\", \"country\": \"Mexico\", \"pm2.5\": 7.831250000000001, \"y\": 2}, {\"date\": \"2022-10-16T00:00:00\", \"country\": \"Qatar\", \"pm2.5\": 26.476250000000004, \"y\": 2}, {\"date\": \"2022-10-16T00:00:00\", \"country\": \"United States\", \"pm2.5\": 6.8445833333333335, \"y\": 2}, {\"date\": \"2022-10-17T00:00:00\", \"country\": \"Germany\", \"pm2.5\": 9.152083333333334, \"y\": 2}, {\"date\": \"2022-10-17T00:00:00\", \"country\": \"Mexico\", \"pm2.5\": 7.6125, \"y\": 2}, {\"date\": \"2022-10-17T00:00:00\", \"country\": \"Qatar\", \"pm2.5\": 33.242916666666666, \"y\": 2}, {\"date\": \"2022-10-17T00:00:00\", \"country\": \"United States\", \"pm2.5\": 6.255, \"y\": 2}, {\"date\": \"2022-10-18T00:00:00\", \"country\": \"Germany\", \"pm2.5\": 8.97875, \"y\": 2}, {\"date\": \"2022-10-18T00:00:00\", \"country\": \"Mexico\", \"pm2.5\": 7.804583333333333, \"y\": 2}, {\"date\": \"2022-10-18T00:00:00\", \"country\": \"Qatar\", \"pm2.5\": 32.185833333333335, \"y\": 2}, {\"date\": \"2022-10-18T00:00:00\", \"country\": \"United States\", \"pm2.5\": 5.978333333333333, \"y\": 2}, {\"date\": \"2022-10-19T00:00:00\", \"country\": \"Germany\", \"pm2.5\": 6.845, \"y\": 2}, {\"date\": \"2022-10-19T00:00:00\", \"country\": \"Mexico\", \"pm2.5\": 5.487916666666667, \"y\": 2}, {\"date\": \"2022-10-19T00:00:00\", \"country\": \"Qatar\", \"pm2.5\": 29.642916666666665, \"y\": 2}, {\"date\": \"2022-10-19T00:00:00\", \"country\": \"United States\", \"pm2.5\": 6.6191666666666675, \"y\": 2}, {\"date\": \"2022-10-20T00:00:00\", \"country\": \"Germany\", \"pm2.5\": 8.404166666666667, \"y\": 2}, {\"date\": \"2022-10-20T00:00:00\", \"country\": \"Mexico\", \"pm2.5\": 6.619583333333334, \"y\": 2}, {\"date\": \"2022-10-20T00:00:00\", \"country\": \"Qatar\", \"pm2.5\": 27.278333333333332, \"y\": 2}, {\"date\": \"2022-10-20T00:00:00\", \"country\": \"United States\", \"pm2.5\": 8.523333333333333, \"y\": 2}, {\"date\": \"2022-10-21T00:00:00\", \"country\": \"Germany\", \"pm2.5\": 10.480416666666667, \"y\": 2}, {\"date\": \"2022-10-21T00:00:00\", \"country\": \"Mexico\", \"pm2.5\": 7.48875, \"y\": 2}, {\"date\": \"2022-10-21T00:00:00\", \"country\": \"Qatar\", \"pm2.5\": 27.655, \"y\": 2}, {\"date\": \"2022-10-21T00:00:00\", \"country\": \"United States\", \"pm2.5\": 8.835416666666667, \"y\": 2}, {\"date\": \"2022-10-22T00:00:00\", \"country\": \"Germany\", \"pm2.5\": 8.165833333333333, \"y\": 2}, {\"date\": \"2022-10-22T00:00:00\", \"country\": \"Mexico\", \"pm2.5\": 8.9425, \"y\": 2}, {\"date\": \"2022-10-22T00:00:00\", \"country\": \"Qatar\", \"pm2.5\": 27.201666666666668, \"y\": 2}, {\"date\": \"2022-10-22T00:00:00\", \"country\": \"United States\", \"pm2.5\": 8.17375, \"y\": 2}, {\"date\": \"2022-10-23T00:00:00\", \"country\": \"Germany\", \"pm2.5\": 7.445416666666667, \"y\": 2}, {\"date\": \"2022-10-23T00:00:00\", \"country\": \"Mexico\", \"pm2.5\": 7.242916666666667, \"y\": 2}, {\"date\": \"2022-10-23T00:00:00\", \"country\": \"Qatar\", \"pm2.5\": 29.796666666666667, \"y\": 2}, {\"date\": \"2022-10-23T00:00:00\", \"country\": \"United States\", \"pm2.5\": 8.219166666666666, \"y\": 2}, {\"date\": \"2022-10-24T00:00:00\", \"country\": \"Germany\", \"pm2.5\": 7.1825, \"y\": 2}, {\"date\": \"2022-10-24T00:00:00\", \"country\": \"Mexico\", \"pm2.5\": 7.745833333333334, \"y\": 2}, {\"date\": \"2022-10-24T00:00:00\", \"country\": \"Qatar\", \"pm2.5\": 27.505, \"y\": 2}, {\"date\": \"2022-10-24T00:00:00\", \"country\": \"United States\", \"pm2.5\": 6.537916666666667, \"y\": 2}, {\"date\": \"2022-10-25T00:00:00\", \"country\": \"Germany\", \"pm2.5\": 6.1825, \"y\": 2}, {\"date\": \"2022-10-25T00:00:00\", \"country\": \"Mexico\", \"pm2.5\": 7.61625, \"y\": 2}, {\"date\": \"2022-10-25T00:00:00\", \"country\": \"Qatar\", \"pm2.5\": 24.91913043478261, \"y\": 2}, {\"date\": \"2022-10-25T00:00:00\", \"country\": \"United States\", \"pm2.5\": 5.5874999999999995, \"y\": 2}, {\"date\": \"2022-10-26T00:00:00\", \"country\": \"Germany\", \"pm2.5\": 7.618333333333333, \"y\": 2}, {\"date\": \"2022-10-26T00:00:00\", \"country\": \"Mexico\", \"pm2.5\": 7.87625, \"y\": 2}, {\"date\": \"2022-10-26T00:00:00\", \"country\": \"Qatar\", \"pm2.5\": 30.692, \"y\": 2}, {\"date\": \"2022-10-26T00:00:00\", \"country\": \"United States\", \"pm2.5\": 5.162083333333333, \"y\": 2}, {\"date\": \"2022-10-27T00:00:00\", \"country\": \"Germany\", \"pm2.5\": 8.424583333333333, \"y\": 2}, {\"date\": \"2022-10-27T00:00:00\", \"country\": \"Mexico\", \"pm2.5\": 7.934583333333333, \"y\": 2}, {\"date\": \"2022-10-27T00:00:00\", \"country\": \"Qatar\", \"pm2.5\": 32.95458333333333, \"y\": 2}, {\"date\": \"2022-10-27T00:00:00\", \"country\": \"United States\", \"pm2.5\": 5.08625, \"y\": 2}, {\"date\": \"2022-10-28T00:00:00\", \"country\": \"Germany\", \"pm2.5\": 13.047916666666666, \"y\": 2}, {\"date\": \"2022-10-28T00:00:00\", \"country\": \"Mexico\", \"pm2.5\": 9.182083333333333, \"y\": 2}, {\"date\": \"2022-10-28T00:00:00\", \"country\": \"Qatar\", \"pm2.5\": 37.259166666666665, \"y\": 2}, {\"date\": \"2022-10-28T00:00:00\", \"country\": \"United States\", \"pm2.5\": 6.097083333333334, \"y\": 2}, {\"date\": \"2022-10-29T00:00:00\", \"country\": \"Germany\", \"pm2.5\": 15.659166666666666, \"y\": 2}, {\"date\": \"2022-10-29T00:00:00\", \"country\": \"Mexico\", \"pm2.5\": 8.84375, \"y\": 2}, {\"date\": \"2022-10-29T00:00:00\", \"country\": \"Qatar\", \"pm2.5\": 34.174166666666665, \"y\": 2}, {\"date\": \"2022-10-29T00:00:00\", \"country\": \"United States\", \"pm2.5\": 7.451249999999999, \"y\": 2}, {\"date\": \"2022-10-30T00:00:00\", \"country\": \"Germany\", \"pm2.5\": 15.821666666666667, \"y\": 2}, {\"date\": \"2022-10-30T00:00:00\", \"country\": \"Mexico\", \"pm2.5\": 9.732916666666666, \"y\": 2}, {\"date\": \"2022-10-30T00:00:00\", \"country\": \"Qatar\", \"pm2.5\": 33.06583333333334, \"y\": 2}, {\"date\": \"2022-10-30T00:00:00\", \"country\": \"United States\", \"pm2.5\": 8.08625, \"y\": 2}, {\"date\": \"2022-10-31T00:00:00\", \"country\": \"Germany\", \"pm2.5\": 14.995416666666666, \"y\": 2}, {\"date\": \"2022-10-31T00:00:00\", \"country\": \"Mexico\", \"pm2.5\": 8.215416666666666, \"y\": 2}, {\"date\": \"2022-10-31T00:00:00\", \"country\": \"Qatar\", \"pm2.5\": 31.521428571428572, \"y\": 2}, {\"date\": \"2022-10-31T00:00:00\", \"country\": \"United States\", \"pm2.5\": 7.5025, \"y\": 2}, {\"date\": \"2022-11-01T00:00:00\", \"country\": \"Germany\", \"pm2.5\": 10.5525, \"y\": 2}, {\"date\": \"2022-11-01T00:00:00\", \"country\": \"Mexico\", \"pm2.5\": 11.811250000000001, \"y\": 2}, {\"date\": \"2022-11-01T00:00:00\", \"country\": \"Qatar\", \"pm2.5\": 33.823125, \"y\": 2}, {\"date\": \"2022-11-01T00:00:00\", \"country\": \"United States\", \"pm2.5\": 8.013333333333334, \"y\": 2}, {\"date\": \"2022-11-02T00:00:00\", \"country\": \"Germany\", \"pm2.5\": 6.384583333333333, \"y\": 2}, {\"date\": \"2022-11-02T00:00:00\", \"country\": \"Mexico\", \"pm2.5\": 11.75875, \"y\": 2}, {\"date\": \"2022-11-02T00:00:00\", \"country\": \"Qatar\", \"pm2.5\": 37.083333333333336, \"y\": 2}, {\"date\": \"2022-11-02T00:00:00\", \"country\": \"United States\", \"pm2.5\": 8.0675, \"y\": 2}, {\"date\": \"2022-11-03T00:00:00\", \"country\": \"Germany\", \"pm2.5\": 7.103333333333333, \"y\": 2}, {\"date\": \"2022-11-03T00:00:00\", \"country\": \"Mexico\", \"pm2.5\": 11.817916666666667, \"y\": 2}, {\"date\": \"2022-11-03T00:00:00\", \"country\": \"Qatar\", \"pm2.5\": 34.864583333333336, \"y\": 2}, {\"date\": \"2022-11-03T00:00:00\", \"country\": \"United States\", \"pm2.5\": 7.9504166666666665, \"y\": 2}, {\"date\": \"2022-11-04T00:00:00\", \"country\": \"Germany\", \"pm2.5\": 7.39375, \"y\": 2}, {\"date\": \"2022-11-04T00:00:00\", \"country\": \"Mexico\", \"pm2.5\": 10.154583333333333, \"y\": 2}, {\"date\": \"2022-11-04T00:00:00\", \"country\": \"Qatar\", \"pm2.5\": 20.001304347826085, \"y\": 2}, {\"date\": \"2022-11-04T00:00:00\", \"country\": \"United States\", \"pm2.5\": 6.871666666666666, \"y\": 2}, {\"date\": \"2022-11-05T00:00:00\", \"country\": \"Germany\", \"pm2.5\": 7.392916666666667, \"y\": 2}, {\"date\": \"2022-11-05T00:00:00\", \"country\": \"Mexico\", \"pm2.5\": 8.203333333333333, \"y\": 2}, {\"date\": \"2022-11-05T00:00:00\", \"country\": \"Qatar\", \"pm2.5\": 25.385833333333334, \"y\": 2}, {\"date\": \"2022-11-05T00:00:00\", \"country\": \"United States\", \"pm2.5\": 5.030833333333333, \"y\": 2}, {\"date\": \"2022-11-06T00:00:00\", \"country\": \"Germany\", \"pm2.5\": 6.46375, \"y\": 2}, {\"date\": \"2022-11-06T00:00:00\", \"country\": \"Mexico\", \"pm2.5\": 9.198333333333332, \"y\": 2}, {\"date\": \"2022-11-06T00:00:00\", \"country\": \"Qatar\", \"pm2.5\": 22.068749999999998, \"y\": 2}, {\"date\": \"2022-11-06T00:00:00\", \"country\": \"United States\", \"pm2.5\": 5.214583333333334, \"y\": 2}, {\"date\": \"2022-11-07T00:00:00\", \"country\": \"Germany\", \"pm2.5\": 6.5441666666666665, \"y\": 2}, {\"date\": \"2022-11-07T00:00:00\", \"country\": \"Mexico\", \"pm2.5\": 10.269583333333333, \"y\": 2}, {\"date\": \"2022-11-07T00:00:00\", \"country\": \"Qatar\", \"pm2.5\": 25.345416666666665, \"y\": 2}, {\"date\": \"2022-11-07T00:00:00\", \"country\": \"United States\", \"pm2.5\": 5.833749999999999, \"y\": 2}, {\"date\": \"2022-11-08T00:00:00\", \"country\": \"Germany\", \"pm2.5\": 6.61375, \"y\": 2}, {\"date\": \"2022-11-08T00:00:00\", \"country\": \"Mexico\", \"pm2.5\": 8.088333333333333, \"y\": 2}, {\"date\": \"2022-11-08T00:00:00\", \"country\": \"Qatar\", \"pm2.5\": 23.93958333333333, \"y\": 2}, {\"date\": \"2022-11-08T00:00:00\", \"country\": \"United States\", \"pm2.5\": 5.747916666666666, \"y\": 2}, {\"date\": \"2022-11-09T00:00:00\", \"country\": \"Germany\", \"pm2.5\": 7.084583333333334, \"y\": 2}, {\"date\": \"2022-11-09T00:00:00\", \"country\": \"Mexico\", \"pm2.5\": 7.197083333333333, \"y\": 2}, {\"date\": \"2022-11-09T00:00:00\", \"country\": \"Qatar\", \"pm2.5\": 25.201666666666668, \"y\": 2}, {\"date\": \"2022-11-09T00:00:00\", \"country\": \"United States\", \"pm2.5\": 6.957916666666667, \"y\": 2}, {\"date\": \"2022-11-10T00:00:00\", \"country\": \"Germany\", \"pm2.5\": 7.90875, \"y\": 2}, {\"date\": \"2022-11-10T00:00:00\", \"country\": \"Mexico\", \"pm2.5\": 8.074583333333333, \"y\": 2}, {\"date\": \"2022-11-10T00:00:00\", \"country\": \"Qatar\", \"pm2.5\": 27.459166666666665, \"y\": 2}, {\"date\": \"2022-11-10T00:00:00\", \"country\": \"United States\", \"pm2.5\": 6.9191666666666665, \"y\": 2}, {\"date\": \"2022-11-11T00:00:00\", \"country\": \"Germany\", \"pm2.5\": 8.074166666666667, \"y\": 2}, {\"date\": \"2022-11-11T00:00:00\", \"country\": \"Mexico\", \"pm2.5\": 8.644166666666667, \"y\": 2}, {\"date\": \"2022-11-11T00:00:00\", \"country\": \"Qatar\", \"pm2.5\": 24.260416666666668, \"y\": 2}, {\"date\": \"2022-11-11T00:00:00\", \"country\": \"United States\", \"pm2.5\": 6.27625, \"y\": 2}, {\"date\": \"2022-11-12T00:00:00\", \"country\": \"Germany\", \"pm2.5\": 12.032916666666667, \"y\": 2}, {\"date\": \"2022-11-12T00:00:00\", \"country\": \"Mexico\", \"pm2.5\": 9.748333333333333, \"y\": 2}, {\"date\": \"2022-11-12T00:00:00\", \"country\": \"Qatar\", \"pm2.5\": 21.319583333333334, \"y\": 2}, {\"date\": \"2022-11-12T00:00:00\", \"country\": \"United States\", \"pm2.5\": 5.7870833333333325, \"y\": 2}, {\"date\": \"2022-11-13T00:00:00\", \"country\": \"Germany\", \"pm2.5\": 11.179583333333333, \"y\": 2}, {\"date\": \"2022-11-13T00:00:00\", \"country\": \"Mexico\", \"pm2.5\": 9.770416666666668, \"y\": 2}, {\"date\": \"2022-11-13T00:00:00\", \"country\": \"Qatar\", \"pm2.5\": 20.689583333333335, \"y\": 2}, {\"date\": \"2022-11-13T00:00:00\", \"country\": \"United States\", \"pm2.5\": 6.38375, \"y\": 2}, {\"date\": \"2022-11-14T00:00:00\", \"country\": \"Germany\", \"pm2.5\": 12.39875, \"y\": 2}, {\"date\": \"2022-11-14T00:00:00\", \"country\": \"Mexico\", \"pm2.5\": 7.631666666666667, \"y\": 2}, {\"date\": \"2022-11-14T00:00:00\", \"country\": \"Qatar\", \"pm2.5\": 18.7525, \"y\": 2}, {\"date\": \"2022-11-14T00:00:00\", \"country\": \"United States\", \"pm2.5\": 6.168333333333333, \"y\": 2}, {\"date\": \"2022-11-15T00:00:00\", \"country\": \"Germany\", \"pm2.5\": 9.590416666666666, \"y\": 2}, {\"date\": \"2022-11-15T00:00:00\", \"country\": \"Mexico\", \"pm2.5\": 8.589166666666667, \"y\": 2}, {\"date\": \"2022-11-15T00:00:00\", \"country\": \"Qatar\", \"pm2.5\": 21.077916666666667, \"y\": 2}, {\"date\": \"2022-11-15T00:00:00\", \"country\": \"United States\", \"pm2.5\": 7.07375, \"y\": 2}, {\"date\": \"2022-11-16T00:00:00\", \"country\": \"Germany\", \"pm2.5\": 9.2925, \"y\": 2}, {\"date\": \"2022-11-16T00:00:00\", \"country\": \"Mexico\", \"pm2.5\": 7.739375, \"y\": 2}, {\"date\": \"2022-11-16T00:00:00\", \"country\": \"Qatar\", \"pm2.5\": 24.660666666666664, \"y\": 2}, {\"date\": \"2022-11-16T00:00:00\", \"country\": \"United States\", \"pm2.5\": 7.400625, \"y\": 2}]}}, {\"mode\": \"vega-lite\"});\n",
       "</script>"
      ],
      "text/plain": [
       "alt.FacetChart(...)"
      ]
     },
     "execution_count": 62,
     "metadata": {},
     "output_type": "execute_result"
    }
   ],
   "source": [
    "step = 20\n",
    "overlap = 1\n",
    "\n",
    "alt.Chart(df_daily[df_daily[\"date\"] >= \"2022-10-01\"], height=step).mark_area(\n",
    "    interpolate=\"monotone\", fillOpacity=0.8, stroke=\"lightgray\", strokeWidth=0.5\n",
    ").encode(\n",
    "    alt.X(\"date\"),\n",
    "    alt.Y(\"pm2.5\", scale=alt.Scale(), axis=None),\n",
    "    alt.Fill(\"pm2.5\", legend=None, scale=alt.Scale(scheme=\"spectral\", reverse=True)),\n",
    ").facet(\n",
    "    row=alt.Row(\n",
    "        \"country:N\", title=None, header=alt.Header(labelAngle=0, labelAlign=\"right\")\n",
    "    )\n",
    ").properties(\n",
    "    bounds=\"flush\"\n",
    ").configure_facet(\n",
    "    spacing=0\n",
    ").configure_view(\n",
    "    stroke=None\n",
    ").configure_title(\n",
    "    anchor=\"end\"\n",
    ")"
   ]
  },
  {
   "cell_type": "code",
   "execution_count": 67,
   "id": "163c5150-db97-4728-a4a2-5c294295fa04",
   "metadata": {},
   "outputs": [
    {
     "data": {
      "text/html": [
       "<div>\n",
       "<style scoped>\n",
       "    .dataframe tbody tr th:only-of-type {\n",
       "        vertical-align: middle;\n",
       "    }\n",
       "\n",
       "    .dataframe tbody tr th {\n",
       "        vertical-align: top;\n",
       "    }\n",
       "\n",
       "    .dataframe thead th {\n",
       "        text-align: right;\n",
       "    }\n",
       "</style>\n",
       "<table border=\"1\" class=\"dataframe\">\n",
       "  <thead>\n",
       "    <tr style=\"text-align: right;\">\n",
       "      <th></th>\n",
       "      <th>date</th>\n",
       "      <th>country</th>\n",
       "      <th>pm2.5</th>\n",
       "      <th>y</th>\n",
       "    </tr>\n",
       "  </thead>\n",
       "  <tbody>\n",
       "    <tr>\n",
       "      <th>12572</th>\n",
       "      <td>2022-01-01</td>\n",
       "      <td>Qatar</td>\n",
       "      <td>11.723750</td>\n",
       "      <td>2</td>\n",
       "    </tr>\n",
       "    <tr>\n",
       "      <th>12576</th>\n",
       "      <td>2022-01-02</td>\n",
       "      <td>Qatar</td>\n",
       "      <td>26.747083</td>\n",
       "      <td>2</td>\n",
       "    </tr>\n",
       "    <tr>\n",
       "      <th>12580</th>\n",
       "      <td>2022-01-03</td>\n",
       "      <td>Qatar</td>\n",
       "      <td>63.120000</td>\n",
       "      <td>2</td>\n",
       "    </tr>\n",
       "    <tr>\n",
       "      <th>12584</th>\n",
       "      <td>2022-01-04</td>\n",
       "      <td>Qatar</td>\n",
       "      <td>30.872083</td>\n",
       "      <td>2</td>\n",
       "    </tr>\n",
       "    <tr>\n",
       "      <th>12588</th>\n",
       "      <td>2022-01-05</td>\n",
       "      <td>Qatar</td>\n",
       "      <td>23.454583</td>\n",
       "      <td>2</td>\n",
       "    </tr>\n",
       "    <tr>\n",
       "      <th>...</th>\n",
       "      <td>...</td>\n",
       "      <td>...</td>\n",
       "      <td>...</td>\n",
       "      <td>...</td>\n",
       "    </tr>\n",
       "    <tr>\n",
       "      <th>13808</th>\n",
       "      <td>2022-11-12</td>\n",
       "      <td>Qatar</td>\n",
       "      <td>21.319583</td>\n",
       "      <td>2</td>\n",
       "    </tr>\n",
       "    <tr>\n",
       "      <th>13812</th>\n",
       "      <td>2022-11-13</td>\n",
       "      <td>Qatar</td>\n",
       "      <td>20.689583</td>\n",
       "      <td>2</td>\n",
       "    </tr>\n",
       "    <tr>\n",
       "      <th>13816</th>\n",
       "      <td>2022-11-14</td>\n",
       "      <td>Qatar</td>\n",
       "      <td>18.752500</td>\n",
       "      <td>2</td>\n",
       "    </tr>\n",
       "    <tr>\n",
       "      <th>13820</th>\n",
       "      <td>2022-11-15</td>\n",
       "      <td>Qatar</td>\n",
       "      <td>21.077917</td>\n",
       "      <td>2</td>\n",
       "    </tr>\n",
       "    <tr>\n",
       "      <th>13824</th>\n",
       "      <td>2022-11-16</td>\n",
       "      <td>Qatar</td>\n",
       "      <td>24.660667</td>\n",
       "      <td>2</td>\n",
       "    </tr>\n",
       "  </tbody>\n",
       "</table>\n",
       "<p>314 rows × 4 columns</p>\n",
       "</div>"
      ],
      "text/plain": [
       "            date country      pm2.5  y\n",
       "12572 2022-01-01   Qatar  11.723750  2\n",
       "12576 2022-01-02   Qatar  26.747083  2\n",
       "12580 2022-01-03   Qatar  63.120000  2\n",
       "12584 2022-01-04   Qatar  30.872083  2\n",
       "12588 2022-01-05   Qatar  23.454583  2\n",
       "...          ...     ...        ... ..\n",
       "13808 2022-11-12   Qatar  21.319583  2\n",
       "13812 2022-11-13   Qatar  20.689583  2\n",
       "13816 2022-11-14   Qatar  18.752500  2\n",
       "13820 2022-11-15   Qatar  21.077917  2\n",
       "13824 2022-11-16   Qatar  24.660667  2\n",
       "\n",
       "[314 rows x 4 columns]"
      ]
     },
     "execution_count": 67,
     "metadata": {},
     "output_type": "execute_result"
    }
   ],
   "source": [
    "df_daily[(df_daily[\"country\"] == \"Qatar\") & (df_daily[\"date\"] >= \"2022-01-01\")]"
   ]
  },
  {
   "cell_type": "code",
   "execution_count": null,
   "id": "ccdf2a38-be96-40f1-8568-08c4f6b0acbd",
   "metadata": {},
   "outputs": [],
   "source": []
  }
 ],
 "metadata": {
  "kernelspec": {
   "display_name": "Python 3 (ipykernel)",
   "language": "python",
   "name": "python3"
  },
  "language_info": {
   "codemirror_mode": {
    "name": "ipython",
    "version": 3
   },
   "file_extension": ".py",
   "mimetype": "text/x-python",
   "name": "python",
   "nbconvert_exporter": "python",
   "pygments_lexer": "ipython3",
   "version": "3.9.14"
  }
 },
 "nbformat": 4,
 "nbformat_minor": 5
}
