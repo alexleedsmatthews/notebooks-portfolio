{
 "cells": [
  {
   "cell_type": "markdown",
   "id": "600b8803-e371-4123-9152-e39ced6de936",
   "metadata": {},
   "source": [
    "## CDC Maternal Mortality data"
   ]
  },
  {
   "cell_type": "markdown",
   "id": "1d28b6e7-1be8-4813-bcda-86901a765db6",
   "metadata": {},
   "source": [
    "### load packages"
   ]
  },
  {
   "cell_type": "code",
   "execution_count": 1,
   "id": "a88282fa-919d-4b36-8486-4232e779c90d",
   "metadata": {},
   "outputs": [],
   "source": [
    "%load_ext lab_black"
   ]
  },
  {
   "cell_type": "code",
   "execution_count": 2,
   "id": "990d836d-9233-45d1-b81d-62dc6eface99",
   "metadata": {},
   "outputs": [
    {
     "data": {
      "text/plain": [
       "ThemeRegistry.enable('grid')"
      ]
     },
     "execution_count": 2,
     "metadata": {},
     "output_type": "execute_result"
    }
   ],
   "source": [
    "import numpy as np\n",
    "import pandas as pd\n",
    "import altair as alt\n",
    "import altair_grid as altgrid\n",
    "\n",
    "alt.themes.register(\"grid\", altgrid.theme)\n",
    "alt.themes.enable(\"grid\")"
   ]
  },
  {
   "cell_type": "code",
   "execution_count": 3,
   "id": "8a4717c4-3b3b-4893-b50e-184d69b6ce8f",
   "metadata": {},
   "outputs": [],
   "source": [
    "pd.options.display.max_columns = 1000\n",
    "pd.options.display.max_rows = 1000"
   ]
  },
  {
   "cell_type": "markdown",
   "id": "ab1523fa-e847-4912-8b06-1d1212658d09",
   "metadata": {},
   "source": [
    "### Maternal mortality over time with CDC-limited cause of death codes\n",
    "The CDC limits maternal mortality to surveillance to obstetric causes of death within 42 days after giving birth.<br>One thing I'm wondering about is how many maternal deaths occur in that period that the CDC doesn't include in its maternal mortality surveillance, so I've included all obstetric death causes here and am separating out the causes the CDC excludes"
   ]
  },
  {
   "cell_type": "code",
   "execution_count": 4,
   "id": "d107bfd1-ad4c-4a0d-9d9c-776c94d06ddd",
   "metadata": {},
   "outputs": [],
   "source": [
    "mm_total = pd.read_table(\n",
    "    \"data/raw/after42days.txt\", dtype={\"Year\": str, \"Year Code\": str}\n",
    ")"
   ]
  },
  {
   "cell_type": "code",
   "execution_count": 5,
   "id": "3ce3bc55-eb38-4098-a493-dca846df9efd",
   "metadata": {},
   "outputs": [],
   "source": [
    "mm_total.columns = mm_total.columns.str.lower().str.replace(\" \", \"_\")"
   ]
  },
  {
   "cell_type": "markdown",
   "id": "4ae9b42e-64dc-4018-a7d0-9ba2fc409847",
   "metadata": {},
   "source": [
    "#### Calculating what percent of obstetric deaths are excluded from the CDC count"
   ]
  },
  {
   "cell_type": "code",
   "execution_count": 6,
   "id": "49ebdfff-6212-493a-8441-35e3b696bdb2",
   "metadata": {},
   "outputs": [],
   "source": [
    "mm_pct = mm_total.dropna(subset=[\"year\"]).drop(columns=\"notes\").copy()"
   ]
  },
  {
   "cell_type": "code",
   "execution_count": 7,
   "id": "d62d3dcd-e441-48d5-8b41-0eda80b277bb",
   "metadata": {},
   "outputs": [],
   "source": [
    "mm_pct.value_counts(\"cause_of_death_code\")\n",
    "post42 = [\"O96.0\", \"O96.1\", \"O97\", \"O97.0\", \"O97.1\", \"O97.9\"]\n",
    "conditions = [\n",
    "    (mm_pct[\"cause_of_death_code\"].isin(post42)),\n",
    "    (~mm_pct[\"cause_of_death_code\"].isin(post42)),\n",
    "]\n",
    "\n",
    "values = [\"after_42_days\", \"within_42_days\"]\n",
    "\n",
    "mm_pct[\"later_death\"] = np.select(conditions, values)"
   ]
  },
  {
   "cell_type": "code",
   "execution_count": 8,
   "id": "ff424504-9632-4bce-a607-580e26518bfc",
   "metadata": {},
   "outputs": [],
   "source": [
    "mm_pct = (\n",
    "    mm_pct.groupby([\"year\", \"later_death\"])\n",
    "    .agg(sum_after42=pd.NamedAgg(column=\"deaths\", aggfunc=sum))\n",
    "    .reset_index()\n",
    "    .pivot(index=\"year\", columns=\"later_death\", values=\"sum_after42\")\n",
    "    .dropna(subset=[\"after_42_days\"])\n",
    "    .reset_index()\n",
    "    .copy()\n",
    ")"
   ]
  },
  {
   "cell_type": "code",
   "execution_count": 9,
   "id": "876df8dc-9a6d-486a-96e8-689f09987eb1",
   "metadata": {},
   "outputs": [
    {
     "data": {
      "text/html": [
       "<div>\n",
       "<style scoped>\n",
       "    .dataframe tbody tr th:only-of-type {\n",
       "        vertical-align: middle;\n",
       "    }\n",
       "\n",
       "    .dataframe tbody tr th {\n",
       "        vertical-align: top;\n",
       "    }\n",
       "\n",
       "    .dataframe thead th {\n",
       "        text-align: right;\n",
       "    }\n",
       "</style>\n",
       "<table border=\"1\" class=\"dataframe\">\n",
       "  <thead>\n",
       "    <tr style=\"text-align: right;\">\n",
       "      <th>later_death</th>\n",
       "      <th>year</th>\n",
       "      <th>after_42_days</th>\n",
       "      <th>within_42_days</th>\n",
       "    </tr>\n",
       "  </thead>\n",
       "  <tbody>\n",
       "    <tr>\n",
       "      <th>0</th>\n",
       "      <td>1999</td>\n",
       "      <td>10.0</td>\n",
       "      <td>802.0</td>\n",
       "    </tr>\n",
       "    <tr>\n",
       "      <th>1</th>\n",
       "      <td>2000</td>\n",
       "      <td>6.0</td>\n",
       "      <td>802.0</td>\n",
       "    </tr>\n",
       "    <tr>\n",
       "      <th>2</th>\n",
       "      <td>2001</td>\n",
       "      <td>8.0</td>\n",
       "      <td>824.0</td>\n",
       "    </tr>\n",
       "    <tr>\n",
       "      <th>3</th>\n",
       "      <td>2002</td>\n",
       "      <td>13.0</td>\n",
       "      <td>745.0</td>\n",
       "    </tr>\n",
       "    <tr>\n",
       "      <th>4</th>\n",
       "      <td>2003</td>\n",
       "      <td>4.0</td>\n",
       "      <td>1086.0</td>\n",
       "    </tr>\n",
       "    <tr>\n",
       "      <th>5</th>\n",
       "      <td>2004</td>\n",
       "      <td>12.0</td>\n",
       "      <td>1382.0</td>\n",
       "    </tr>\n",
       "    <tr>\n",
       "      <th>6</th>\n",
       "      <td>2005</td>\n",
       "      <td>7.0</td>\n",
       "      <td>1513.0</td>\n",
       "    </tr>\n",
       "    <tr>\n",
       "      <th>7</th>\n",
       "      <td>2006</td>\n",
       "      <td>11.0</td>\n",
       "      <td>1509.0</td>\n",
       "    </tr>\n",
       "    <tr>\n",
       "      <th>8</th>\n",
       "      <td>2007</td>\n",
       "      <td>6.0</td>\n",
       "      <td>1532.0</td>\n",
       "    </tr>\n",
       "    <tr>\n",
       "      <th>9</th>\n",
       "      <td>2008</td>\n",
       "      <td>7.0</td>\n",
       "      <td>1583.0</td>\n",
       "    </tr>\n",
       "    <tr>\n",
       "      <th>10</th>\n",
       "      <td>2009</td>\n",
       "      <td>18.0</td>\n",
       "      <td>1902.0</td>\n",
       "    </tr>\n",
       "    <tr>\n",
       "      <th>11</th>\n",
       "      <td>2010</td>\n",
       "      <td>3.0</td>\n",
       "      <td>1647.0</td>\n",
       "    </tr>\n",
       "    <tr>\n",
       "      <th>12</th>\n",
       "      <td>2011</td>\n",
       "      <td>150.0</td>\n",
       "      <td>1712.0</td>\n",
       "    </tr>\n",
       "    <tr>\n",
       "      <th>13</th>\n",
       "      <td>2012</td>\n",
       "      <td>189.0</td>\n",
       "      <td>1791.0</td>\n",
       "    </tr>\n",
       "    <tr>\n",
       "      <th>14</th>\n",
       "      <td>2013</td>\n",
       "      <td>263.0</td>\n",
       "      <td>2013.0</td>\n",
       "    </tr>\n",
       "    <tr>\n",
       "      <th>15</th>\n",
       "      <td>2014</td>\n",
       "      <td>260.0</td>\n",
       "      <td>1986.0</td>\n",
       "    </tr>\n",
       "    <tr>\n",
       "      <th>16</th>\n",
       "      <td>2015</td>\n",
       "      <td>290.0</td>\n",
       "      <td>1990.0</td>\n",
       "    </tr>\n",
       "    <tr>\n",
       "      <th>17</th>\n",
       "      <td>2016</td>\n",
       "      <td>356.0</td>\n",
       "      <td>2106.0</td>\n",
       "    </tr>\n",
       "    <tr>\n",
       "      <th>18</th>\n",
       "      <td>2017</td>\n",
       "      <td>367.0</td>\n",
       "      <td>2049.0</td>\n",
       "    </tr>\n",
       "    <tr>\n",
       "      <th>19</th>\n",
       "      <td>2018</td>\n",
       "      <td>304.0</td>\n",
       "      <td>1642.0</td>\n",
       "    </tr>\n",
       "    <tr>\n",
       "      <th>20</th>\n",
       "      <td>2019</td>\n",
       "      <td>337.0</td>\n",
       "      <td>1869.0</td>\n",
       "    </tr>\n",
       "    <tr>\n",
       "      <th>21</th>\n",
       "      <td>2020</td>\n",
       "      <td>416.0</td>\n",
       "      <td>2160.0</td>\n",
       "    </tr>\n",
       "  </tbody>\n",
       "</table>\n",
       "</div>"
      ],
      "text/plain": [
       "later_death   year  after_42_days  within_42_days\n",
       "0             1999           10.0           802.0\n",
       "1             2000            6.0           802.0\n",
       "2             2001            8.0           824.0\n",
       "3             2002           13.0           745.0\n",
       "4             2003            4.0          1086.0\n",
       "5             2004           12.0          1382.0\n",
       "6             2005            7.0          1513.0\n",
       "7             2006           11.0          1509.0\n",
       "8             2007            6.0          1532.0\n",
       "9             2008            7.0          1583.0\n",
       "10            2009           18.0          1902.0\n",
       "11            2010            3.0          1647.0\n",
       "12            2011          150.0          1712.0\n",
       "13            2012          189.0          1791.0\n",
       "14            2013          263.0          2013.0\n",
       "15            2014          260.0          1986.0\n",
       "16            2015          290.0          1990.0\n",
       "17            2016          356.0          2106.0\n",
       "18            2017          367.0          2049.0\n",
       "19            2018          304.0          1642.0\n",
       "20            2019          337.0          1869.0\n",
       "21           2020           416.0          2160.0"
      ]
     },
     "execution_count": 9,
     "metadata": {},
     "output_type": "execute_result"
    }
   ],
   "source": [
    "mm_pct"
   ]
  },
  {
   "cell_type": "code",
   "execution_count": 10,
   "id": "b8557fdb-4ad7-4853-8940-4ed78a928f11",
   "metadata": {},
   "outputs": [],
   "source": [
    "mm_pct[\"pct\"] = (mm_pct[\"after_42_days\"]) / (\n",
    "    mm_pct[\"after_42_days\"] + mm_pct[\"within_42_days\"]\n",
    ")"
   ]
  },
  {
   "cell_type": "code",
   "execution_count": 11,
   "id": "47bf6cf5-ad1b-4772-8e86-4a5fea468e98",
   "metadata": {},
   "outputs": [],
   "source": [
    "mm_pct_final = mm_pct.reset_index().copy()"
   ]
  },
  {
   "cell_type": "code",
   "execution_count": 12,
   "id": "2c29d0d9-ef51-45a5-904f-2de575e86e74",
   "metadata": {},
   "outputs": [],
   "source": [
    "mm_pct_final[\"yeardate\"] = pd.to_datetime(mm_pct_final[\"year\"])"
   ]
  },
  {
   "cell_type": "markdown",
   "id": "3359f095-6e3e-4f1a-91c4-acc5e515b297",
   "metadata": {},
   "source": [
    "#### Percent of total obstetric deaths from causes 42 days or more after birth, over time\n",
    "what is the sudden jump from? did they start tracking better?"
   ]
  },
  {
   "cell_type": "code",
   "execution_count": 13,
   "id": "9f12e3bb-8eea-4bdc-abb8-c148e995ce49",
   "metadata": {},
   "outputs": [
    {
     "data": {
      "text/html": [
       "\n",
       "<div id=\"altair-viz-a3a457619acc47de94dbfd100909b253\"></div>\n",
       "<script type=\"text/javascript\">\n",
       "  var VEGA_DEBUG = (typeof VEGA_DEBUG == \"undefined\") ? {} : VEGA_DEBUG;\n",
       "  (function(spec, embedOpt){\n",
       "    let outputDiv = document.currentScript.previousElementSibling;\n",
       "    if (outputDiv.id !== \"altair-viz-a3a457619acc47de94dbfd100909b253\") {\n",
       "      outputDiv = document.getElementById(\"altair-viz-a3a457619acc47de94dbfd100909b253\");\n",
       "    }\n",
       "    const paths = {\n",
       "      \"vega\": \"https://cdn.jsdelivr.net/npm//vega@5?noext\",\n",
       "      \"vega-lib\": \"https://cdn.jsdelivr.net/npm//vega-lib?noext\",\n",
       "      \"vega-lite\": \"https://cdn.jsdelivr.net/npm//vega-lite@4.17.0?noext\",\n",
       "      \"vega-embed\": \"https://cdn.jsdelivr.net/npm//vega-embed@6?noext\",\n",
       "    };\n",
       "\n",
       "    function maybeLoadScript(lib, version) {\n",
       "      var key = `${lib.replace(\"-\", \"\")}_version`;\n",
       "      return (VEGA_DEBUG[key] == version) ?\n",
       "        Promise.resolve(paths[lib]) :\n",
       "        new Promise(function(resolve, reject) {\n",
       "          var s = document.createElement('script');\n",
       "          document.getElementsByTagName(\"head\")[0].appendChild(s);\n",
       "          s.async = true;\n",
       "          s.onload = () => {\n",
       "            VEGA_DEBUG[key] = version;\n",
       "            return resolve(paths[lib]);\n",
       "          };\n",
       "          s.onerror = () => reject(`Error loading script: ${paths[lib]}`);\n",
       "          s.src = paths[lib];\n",
       "        });\n",
       "    }\n",
       "\n",
       "    function showError(err) {\n",
       "      outputDiv.innerHTML = `<div class=\"error\" style=\"color:red;\">${err}</div>`;\n",
       "      throw err;\n",
       "    }\n",
       "\n",
       "    function displayChart(vegaEmbed) {\n",
       "      vegaEmbed(outputDiv, spec, embedOpt)\n",
       "        .catch(err => showError(`Javascript Error: ${err.message}<br>This usually means there's a typo in your chart specification. See the javascript console for the full traceback.`));\n",
       "    }\n",
       "\n",
       "    if(typeof define === \"function\" && define.amd) {\n",
       "      requirejs.config({paths});\n",
       "      require([\"vega-embed\"], displayChart, err => showError(`Error loading script: ${err.message}`));\n",
       "    } else {\n",
       "      maybeLoadScript(\"vega\", \"5\")\n",
       "        .then(() => maybeLoadScript(\"vega-lite\", \"4.17.0\"))\n",
       "        .then(() => maybeLoadScript(\"vega-embed\", \"6\"))\n",
       "        .catch(showError)\n",
       "        .then(() => displayChart(vegaEmbed));\n",
       "    }\n",
       "  })({\"config\": {\"view\": {\"width\": 800, \"height\": 450, \"strokeOpacity\": 0}, \"background\": \"#ffffff\", \"title\": {\"anchor\": \"start\", \"font\": \"Summit Sans\", \"fontColor\": \"palette[\\\"black\\\"]\", \"fontSize\": 18, \"fontWeight\": \"normal\"}, \"arc\": {\"fill\": \"#00d4d8\"}, \"area\": {\"fill\": \"#00d4d8\"}, \"line\": {\"stroke\": \"#00d4d8\", \"strokeWidth\": 3}, \"path\": {\"stroke\": \"#00d4d8\"}, \"rect\": {\"fill\": \"#00d4d8\"}, \"shape\": {\"stroke\": \"#00d4d8\"}, \"bar\": {\"fill\": \"#00d4d8\"}, \"point\": {\"stroke\": \"#00d4d8\"}, \"symbol\": {\"fill\": \"#00d4d8\", \"size\": 30}, \"axis\": {\"titleFont\": \"Roboto\", \"titleFontSize\": 15, \"titleFontWeight\": \"normal\", \"labelFont\": \"Roboto, sans\", \"labelFontSize\": 13, \"labelFontWeight\": \"normal\"}, \"axisX\": {\"labelAngle\": 0, \"labelPadding\": 6, \"tickSize\": 3, \"grid\": false}, \"axisY\": {\"labelBaseline\": \"middle\", \"maxExtent\": 45, \"minExtent\": 45, \"titleAlign\": \"left\", \"titleAngle\": 0, \"titleX\": -45, \"titleY\": -11, \"domainOpacity\": 0, \"gridWidth\": 0.6, \"gridColor\": \"#dddddd\", \"offset\": 6, \"tickSize\": 0, \"titleColor\": \"#767676\"}, \"legend\": {\"titleFont\": \"Roboto\", \"titleFontSize\": 15, \"titleFontWeight\": \"normal\", \"symbolType\": \"square\", \"labelFont\": \"Roboto, sans\", \"labelFontSize\": 13}, \"range\": {\"category\": [\"#005f66\", \"#e37e2d\", \"#d64a3b\", \"#76b0ef\", \"#c1bc40\"], \"diverging\": [\"#e68a4f\", \"#f4bb6a\", \"#f9e39c\", \"#dadfe2\", \"#a6b7c6\", \"#849eae\"], \"heatmap\": [\"#7ff6f6\", \"#00eeef\", \"#00d4d8\", \"#00abb2\", \"#00848b\", \"#fbf2c7\", \"#00363d\"], \"ordinal\": [\"#7ff6f6\", \"#00eeef\", \"#00d4d8\", \"#00abb2\", \"#00848b\", \"#fbf2c7\", \"#00363d\"], \"ramp\": [\"#7ff6f6\", \"#00eeef\", \"#00d4d8\", \"#00abb2\", \"#00848b\", \"#fbf2c7\", \"#00363d\"]}}, \"data\": {\"name\": \"data-c7c30b699d43ba477711f6d666ec141a\"}, \"mark\": \"line\", \"encoding\": {\"x\": {\"field\": \"year\", \"type\": \"nominal\"}, \"y\": {\"axis\": {\"format\": \"%\", \"title\": \"Percent of deaths 42 days or more after birth\"}, \"field\": \"pct\", \"type\": \"quantitative\"}}, \"$schema\": \"https://vega.github.io/schema/vega-lite/v4.17.0.json\", \"datasets\": {\"data-c7c30b699d43ba477711f6d666ec141a\": [{\"index\": 0, \"year\": \"1999\", \"after_42_days\": 10.0, \"within_42_days\": 802.0, \"pct\": 0.012315270935960592, \"yeardate\": \"1999-01-01T00:00:00\"}, {\"index\": 1, \"year\": \"2000\", \"after_42_days\": 6.0, \"within_42_days\": 802.0, \"pct\": 0.007425742574257425, \"yeardate\": \"2000-01-01T00:00:00\"}, {\"index\": 2, \"year\": \"2001\", \"after_42_days\": 8.0, \"within_42_days\": 824.0, \"pct\": 0.009615384615384616, \"yeardate\": \"2001-01-01T00:00:00\"}, {\"index\": 3, \"year\": \"2002\", \"after_42_days\": 13.0, \"within_42_days\": 745.0, \"pct\": 0.017150395778364115, \"yeardate\": \"2002-01-01T00:00:00\"}, {\"index\": 4, \"year\": \"2003\", \"after_42_days\": 4.0, \"within_42_days\": 1086.0, \"pct\": 0.003669724770642202, \"yeardate\": \"2003-01-01T00:00:00\"}, {\"index\": 5, \"year\": \"2004\", \"after_42_days\": 12.0, \"within_42_days\": 1382.0, \"pct\": 0.00860832137733142, \"yeardate\": \"2004-01-01T00:00:00\"}, {\"index\": 6, \"year\": \"2005\", \"after_42_days\": 7.0, \"within_42_days\": 1513.0, \"pct\": 0.004605263157894736, \"yeardate\": \"2005-01-01T00:00:00\"}, {\"index\": 7, \"year\": \"2006\", \"after_42_days\": 11.0, \"within_42_days\": 1509.0, \"pct\": 0.007236842105263158, \"yeardate\": \"2006-01-01T00:00:00\"}, {\"index\": 8, \"year\": \"2007\", \"after_42_days\": 6.0, \"within_42_days\": 1532.0, \"pct\": 0.0039011703511053317, \"yeardate\": \"2007-01-01T00:00:00\"}, {\"index\": 9, \"year\": \"2008\", \"after_42_days\": 7.0, \"within_42_days\": 1583.0, \"pct\": 0.00440251572327044, \"yeardate\": \"2008-01-01T00:00:00\"}, {\"index\": 10, \"year\": \"2009\", \"after_42_days\": 18.0, \"within_42_days\": 1902.0, \"pct\": 0.009375, \"yeardate\": \"2009-01-01T00:00:00\"}, {\"index\": 11, \"year\": \"2010\", \"after_42_days\": 3.0, \"within_42_days\": 1647.0, \"pct\": 0.0018181818181818182, \"yeardate\": \"2010-01-01T00:00:00\"}, {\"index\": 12, \"year\": \"2011\", \"after_42_days\": 150.0, \"within_42_days\": 1712.0, \"pct\": 0.08055853920515575, \"yeardate\": \"2011-01-01T00:00:00\"}, {\"index\": 13, \"year\": \"2012\", \"after_42_days\": 189.0, \"within_42_days\": 1791.0, \"pct\": 0.09545454545454546, \"yeardate\": \"2012-01-01T00:00:00\"}, {\"index\": 14, \"year\": \"2013\", \"after_42_days\": 263.0, \"within_42_days\": 2013.0, \"pct\": 0.11555360281195079, \"yeardate\": \"2013-01-01T00:00:00\"}, {\"index\": 15, \"year\": \"2014\", \"after_42_days\": 260.0, \"within_42_days\": 1986.0, \"pct\": 0.1157613535173642, \"yeardate\": \"2014-01-01T00:00:00\"}, {\"index\": 16, \"year\": \"2015\", \"after_42_days\": 290.0, \"within_42_days\": 1990.0, \"pct\": 0.12719298245614036, \"yeardate\": \"2015-01-01T00:00:00\"}, {\"index\": 17, \"year\": \"2016\", \"after_42_days\": 356.0, \"within_42_days\": 2106.0, \"pct\": 0.1445978878960195, \"yeardate\": \"2016-01-01T00:00:00\"}, {\"index\": 18, \"year\": \"2017\", \"after_42_days\": 367.0, \"within_42_days\": 2049.0, \"pct\": 0.1519039735099338, \"yeardate\": \"2017-01-01T00:00:00\"}, {\"index\": 19, \"year\": \"2018\", \"after_42_days\": 304.0, \"within_42_days\": 1642.0, \"pct\": 0.15621788283658788, \"yeardate\": \"2018-01-01T00:00:00\"}, {\"index\": 20, \"year\": \"2019\", \"after_42_days\": 337.0, \"within_42_days\": 1869.0, \"pct\": 0.1527651858567543, \"yeardate\": \"2019-01-01T00:00:00\"}, {\"index\": 21, \"year\": \"2020 \", \"after_42_days\": 416.0, \"within_42_days\": 2160.0, \"pct\": 0.16149068322981366, \"yeardate\": \"2020-01-01T00:00:00\"}]}}, {\"mode\": \"vega-lite\"});\n",
       "</script>"
      ],
      "text/plain": [
       "alt.Chart(...)"
      ]
     },
     "execution_count": 13,
     "metadata": {},
     "output_type": "execute_result"
    }
   ],
   "source": [
    "alt.Chart(mm_pct_final).mark_line().encode(\n",
    "    x=alt.X(\"year:N\"),\n",
    "    y=(\n",
    "        alt.Y(\n",
    "            \"pct\",\n",
    "            axis=alt.Axis(\n",
    "                format=\"%\", title=\"Percent of deaths 42 days or more after birth\"\n",
    "            ),\n",
    "        )\n",
    "    ),\n",
    ")"
   ]
  },
  {
   "cell_type": "markdown",
   "id": "22b65d80-aec9-4260-b272-bdc3fbe77c8d",
   "metadata": {},
   "source": [
    "### International maternal mortality data\n",
    "Compare the U.S. to other countries with similar rates of maternal mortality"
   ]
  },
  {
   "cell_type": "code",
   "execution_count": 14,
   "id": "9c770fbc-5893-45f9-8927-08702d4e1d87",
   "metadata": {},
   "outputs": [],
   "source": [
    "international_mm = pd.read_csv(\"data/raw/mm_intl.csv\", dtype={\"Period\": str})"
   ]
  },
  {
   "cell_type": "code",
   "execution_count": 15,
   "id": "075e1f58-1f77-4c45-83a4-ca59bf7685df",
   "metadata": {},
   "outputs": [],
   "source": [
    "international_mm.columns = international_mm.columns.str.lower().str.replace(\" \", \"_\")"
   ]
  },
  {
   "cell_type": "code",
   "execution_count": 16,
   "id": "f6e81691-5bb4-4b78-8e53-5b56cfecc0ff",
   "metadata": {},
   "outputs": [],
   "source": [
    "intl_mm_rates = international_mm[\n",
    "    (\n",
    "        international_mm[\"indicator\"]\n",
    "        == \"Maternal mortality ratio (per 100 000 live births)\"\n",
    "    )\n",
    "    & (international_mm[\"period\"] == \"2017\")\n",
    "][[\"spatialdimvaluecode\", \"location\", \"period\", \"factvaluenumeric\"]].copy()"
   ]
  },
  {
   "cell_type": "code",
   "execution_count": 17,
   "id": "bd08f161-1a77-4fd1-ba71-e35160f45253",
   "metadata": {},
   "outputs": [],
   "source": [
    "countrycodes = intl_mm_rates[\n",
    "    (intl_mm_rates[\"factvaluenumeric\"] > 15) & (intl_mm_rates[\"factvaluenumeric\"] < 20)\n",
    "][\"spatialdimvaluecode\"]"
   ]
  },
  {
   "cell_type": "code",
   "execution_count": 18,
   "id": "4309fe7e-262e-43f5-85a8-c06698edd103",
   "metadata": {},
   "outputs": [],
   "source": [
    "rates_overtime = international_mm[\n",
    "    (international_mm[\"spatialdimvaluecode\"].isin(countrycodes))\n",
    "    & (\n",
    "        international_mm[\"indicator\"]\n",
    "        == \"Maternal mortality ratio (per 100 000 live births)\"\n",
    "    )\n",
    "]"
   ]
  },
  {
   "cell_type": "code",
   "execution_count": 19,
   "id": "d9054384-f42e-4550-9f6a-2993df6de5e8",
   "metadata": {},
   "outputs": [],
   "source": [
    "# narrow it down a little more for chart\n",
    "target_countries = [\n",
    "    \"United States of America\",\n",
    "    \"Russian Federation\",\n",
    "    \"Iran (Islamic Republic of)\",\n",
    "    \"Saudi Arabia\",\n",
    "    \"Uruguay\",\n",
    "]"
   ]
  },
  {
   "cell_type": "code",
   "execution_count": 20,
   "id": "dfa77aa8-452e-45b5-b7ca-74b04aae55f3",
   "metadata": {},
   "outputs": [],
   "source": [
    "rates_overtime_slim = rates_overtime[rates_overtime[\"location\"].isin(target_countries)][\n",
    "    [\"location\", \"period\", \"factvaluenumeric\"]\n",
    "].copy()"
   ]
  },
  {
   "cell_type": "markdown",
   "id": "dabf024f-83a7-4ac0-a2e3-cc5cab47f7ff",
   "metadata": {},
   "source": [
    "#### the US is rising over time, while other countries are reducing their maternal mortality"
   ]
  },
  {
   "cell_type": "code",
   "execution_count": 21,
   "id": "df474eef-9ead-40fe-a238-88877b106578",
   "metadata": {},
   "outputs": [
    {
     "data": {
      "text/html": [
       "\n",
       "<div id=\"altair-viz-ca4dbfdde31a4fa99797aa49970ae4b6\"></div>\n",
       "<script type=\"text/javascript\">\n",
       "  var VEGA_DEBUG = (typeof VEGA_DEBUG == \"undefined\") ? {} : VEGA_DEBUG;\n",
       "  (function(spec, embedOpt){\n",
       "    let outputDiv = document.currentScript.previousElementSibling;\n",
       "    if (outputDiv.id !== \"altair-viz-ca4dbfdde31a4fa99797aa49970ae4b6\") {\n",
       "      outputDiv = document.getElementById(\"altair-viz-ca4dbfdde31a4fa99797aa49970ae4b6\");\n",
       "    }\n",
       "    const paths = {\n",
       "      \"vega\": \"https://cdn.jsdelivr.net/npm//vega@5?noext\",\n",
       "      \"vega-lib\": \"https://cdn.jsdelivr.net/npm//vega-lib?noext\",\n",
       "      \"vega-lite\": \"https://cdn.jsdelivr.net/npm//vega-lite@4.17.0?noext\",\n",
       "      \"vega-embed\": \"https://cdn.jsdelivr.net/npm//vega-embed@6?noext\",\n",
       "    };\n",
       "\n",
       "    function maybeLoadScript(lib, version) {\n",
       "      var key = `${lib.replace(\"-\", \"\")}_version`;\n",
       "      return (VEGA_DEBUG[key] == version) ?\n",
       "        Promise.resolve(paths[lib]) :\n",
       "        new Promise(function(resolve, reject) {\n",
       "          var s = document.createElement('script');\n",
       "          document.getElementsByTagName(\"head\")[0].appendChild(s);\n",
       "          s.async = true;\n",
       "          s.onload = () => {\n",
       "            VEGA_DEBUG[key] = version;\n",
       "            return resolve(paths[lib]);\n",
       "          };\n",
       "          s.onerror = () => reject(`Error loading script: ${paths[lib]}`);\n",
       "          s.src = paths[lib];\n",
       "        });\n",
       "    }\n",
       "\n",
       "    function showError(err) {\n",
       "      outputDiv.innerHTML = `<div class=\"error\" style=\"color:red;\">${err}</div>`;\n",
       "      throw err;\n",
       "    }\n",
       "\n",
       "    function displayChart(vegaEmbed) {\n",
       "      vegaEmbed(outputDiv, spec, embedOpt)\n",
       "        .catch(err => showError(`Javascript Error: ${err.message}<br>This usually means there's a typo in your chart specification. See the javascript console for the full traceback.`));\n",
       "    }\n",
       "\n",
       "    if(typeof define === \"function\" && define.amd) {\n",
       "      requirejs.config({paths});\n",
       "      require([\"vega-embed\"], displayChart, err => showError(`Error loading script: ${err.message}`));\n",
       "    } else {\n",
       "      maybeLoadScript(\"vega\", \"5\")\n",
       "        .then(() => maybeLoadScript(\"vega-lite\", \"4.17.0\"))\n",
       "        .then(() => maybeLoadScript(\"vega-embed\", \"6\"))\n",
       "        .catch(showError)\n",
       "        .then(() => displayChart(vegaEmbed));\n",
       "    }\n",
       "  })({\"config\": {\"view\": {\"width\": 800, \"height\": 450, \"strokeOpacity\": 0}, \"background\": \"#ffffff\", \"title\": {\"anchor\": \"start\", \"font\": \"Summit Sans\", \"fontColor\": \"palette[\\\"black\\\"]\", \"fontSize\": 18, \"fontWeight\": \"normal\"}, \"arc\": {\"fill\": \"#00d4d8\"}, \"area\": {\"fill\": \"#00d4d8\"}, \"line\": {\"stroke\": \"#00d4d8\", \"strokeWidth\": 3}, \"path\": {\"stroke\": \"#00d4d8\"}, \"rect\": {\"fill\": \"#00d4d8\"}, \"shape\": {\"stroke\": \"#00d4d8\"}, \"bar\": {\"fill\": \"#00d4d8\"}, \"point\": {\"stroke\": \"#00d4d8\"}, \"symbol\": {\"fill\": \"#00d4d8\", \"size\": 30}, \"axis\": {\"titleFont\": \"Roboto\", \"titleFontSize\": 15, \"titleFontWeight\": \"normal\", \"labelFont\": \"Roboto, sans\", \"labelFontSize\": 13, \"labelFontWeight\": \"normal\"}, \"axisX\": {\"labelAngle\": 0, \"labelPadding\": 6, \"tickSize\": 3, \"grid\": false}, \"axisY\": {\"labelBaseline\": \"middle\", \"maxExtent\": 45, \"minExtent\": 45, \"titleAlign\": \"left\", \"titleAngle\": 0, \"titleX\": -45, \"titleY\": -11, \"domainOpacity\": 0, \"gridWidth\": 0.6, \"gridColor\": \"#dddddd\", \"offset\": 6, \"tickSize\": 0, \"titleColor\": \"#767676\"}, \"legend\": {\"titleFont\": \"Roboto\", \"titleFontSize\": 15, \"titleFontWeight\": \"normal\", \"symbolType\": \"square\", \"labelFont\": \"Roboto, sans\", \"labelFontSize\": 13}, \"range\": {\"category\": [\"#005f66\", \"#e37e2d\", \"#d64a3b\", \"#76b0ef\", \"#c1bc40\"], \"diverging\": [\"#e68a4f\", \"#f4bb6a\", \"#f9e39c\", \"#dadfe2\", \"#a6b7c6\", \"#849eae\"], \"heatmap\": [\"#7ff6f6\", \"#00eeef\", \"#00d4d8\", \"#00abb2\", \"#00848b\", \"#fbf2c7\", \"#00363d\"], \"ordinal\": [\"#7ff6f6\", \"#00eeef\", \"#00d4d8\", \"#00abb2\", \"#00848b\", \"#fbf2c7\", \"#00363d\"], \"ramp\": [\"#7ff6f6\", \"#00eeef\", \"#00d4d8\", \"#00abb2\", \"#00848b\", \"#fbf2c7\", \"#00363d\"]}}, \"data\": {\"name\": \"data-54b7a52c540547dc829e683f97d9fd57\"}, \"mark\": {\"type\": \"line\", \"point\": true}, \"encoding\": {\"color\": {\"field\": \"location\", \"type\": \"nominal\"}, \"x\": {\"axis\": {\"title\": \"Year\"}, \"field\": \"period\", \"timeUnit\": \"year\", \"type\": \"ordinal\"}, \"y\": {\"axis\": {\"title\": \"Deaths per 100K live births\"}, \"field\": \"factvaluenumeric\", \"type\": \"quantitative\"}}, \"$schema\": \"https://vega.github.io/schema/vega-lite/v4.17.0.json\", \"datasets\": {\"data-54b7a52c540547dc829e683f97d9fd57\": [{\"location\": \"Iran (Islamic Republic of)\", \"period\": \"2017\", \"factvaluenumeric\": 16}, {\"location\": \"Saudi Arabia\", \"period\": \"2017\", \"factvaluenumeric\": 17}, {\"location\": \"Russian Federation\", \"period\": \"2017\", \"factvaluenumeric\": 17}, {\"location\": \"Uruguay\", \"period\": \"2017\", \"factvaluenumeric\": 17}, {\"location\": \"United States of America\", \"period\": \"2017\", \"factvaluenumeric\": 19}, {\"location\": \"Iran (Islamic Republic of)\", \"period\": \"2016\", \"factvaluenumeric\": 16}, {\"location\": \"Saudi Arabia\", \"period\": \"2016\", \"factvaluenumeric\": 17}, {\"location\": \"Russian Federation\", \"period\": \"2016\", \"factvaluenumeric\": 18}, {\"location\": \"Uruguay\", \"period\": \"2016\", \"factvaluenumeric\": 18}, {\"location\": \"United States of America\", \"period\": \"2016\", \"factvaluenumeric\": 19}, {\"location\": \"Saudi Arabia\", \"period\": \"2015\", \"factvaluenumeric\": 17}, {\"location\": \"Iran (Islamic Republic of)\", \"period\": \"2015\", \"factvaluenumeric\": 17}, {\"location\": \"Russian Federation\", \"period\": \"2015\", \"factvaluenumeric\": 18}, {\"location\": \"United States of America\", \"period\": \"2015\", \"factvaluenumeric\": 18}, {\"location\": \"Uruguay\", \"period\": \"2015\", \"factvaluenumeric\": 18}, {\"location\": \"United States of America\", \"period\": \"2014\", \"factvaluenumeric\": 16}, {\"location\": \"Saudi Arabia\", \"period\": \"2014\", \"factvaluenumeric\": 17}, {\"location\": \"Iran (Islamic Republic of)\", \"period\": \"2014\", \"factvaluenumeric\": 17}, {\"location\": \"Uruguay\", \"period\": \"2014\", \"factvaluenumeric\": 17}, {\"location\": \"Russian Federation\", \"period\": \"2014\", \"factvaluenumeric\": 19}, {\"location\": \"United States of America\", \"period\": \"2013\", \"factvaluenumeric\": 16}, {\"location\": \"Saudi Arabia\", \"period\": \"2013\", \"factvaluenumeric\": 17}, {\"location\": \"Iran (Islamic Republic of)\", \"period\": \"2013\", \"factvaluenumeric\": 17}, {\"location\": \"Uruguay\", \"period\": \"2013\", \"factvaluenumeric\": 18}, {\"location\": \"Russian Federation\", \"period\": \"2013\", \"factvaluenumeric\": 20}, {\"location\": \"United States of America\", \"period\": \"2012\", \"factvaluenumeric\": 16}, {\"location\": \"Uruguay\", \"period\": \"2012\", \"factvaluenumeric\": 17}, {\"location\": \"Saudi Arabia\", \"period\": \"2012\", \"factvaluenumeric\": 18}, {\"location\": \"Iran (Islamic Republic of)\", \"period\": \"2012\", \"factvaluenumeric\": 18}, {\"location\": \"Russian Federation\", \"period\": \"2012\", \"factvaluenumeric\": 22}, {\"location\": \"United States of America\", \"period\": \"2011\", \"factvaluenumeric\": 15}, {\"location\": \"Uruguay\", \"period\": \"2011\", \"factvaluenumeric\": 17}, {\"location\": \"Saudi Arabia\", \"period\": \"2011\", \"factvaluenumeric\": 18}, {\"location\": \"Iran (Islamic Republic of)\", \"period\": \"2011\", \"factvaluenumeric\": 19}, {\"location\": \"Russian Federation\", \"period\": \"2011\", \"factvaluenumeric\": 23}, {\"location\": \"United States of America\", \"period\": \"2010\", \"factvaluenumeric\": 15}, {\"location\": \"Uruguay\", \"period\": \"2010\", \"factvaluenumeric\": 17}, {\"location\": \"Saudi Arabia\", \"period\": \"2010\", \"factvaluenumeric\": 19}, {\"location\": \"Iran (Islamic Republic of)\", \"period\": \"2010\", \"factvaluenumeric\": 22}, {\"location\": \"Russian Federation\", \"period\": \"2010\", \"factvaluenumeric\": 25}, {\"location\": \"United States of America\", \"period\": \"2009\", \"factvaluenumeric\": 15}, {\"location\": \"Uruguay\", \"period\": \"2009\", \"factvaluenumeric\": 19}, {\"location\": \"Saudi Arabia\", \"period\": \"2009\", \"factvaluenumeric\": 20}, {\"location\": \"Iran (Islamic Republic of)\", \"period\": \"2009\", \"factvaluenumeric\": 25}, {\"location\": \"Russian Federation\", \"period\": \"2009\", \"factvaluenumeric\": 27}, {\"location\": \"United States of America\", \"period\": \"2008\", \"factvaluenumeric\": 14}, {\"location\": \"Uruguay\", \"period\": \"2008\", \"factvaluenumeric\": 19}, {\"location\": \"Saudi Arabia\", \"period\": \"2008\", \"factvaluenumeric\": 20}, {\"location\": \"Iran (Islamic Republic of)\", \"period\": \"2008\", \"factvaluenumeric\": 28}, {\"location\": \"Russian Federation\", \"period\": \"2008\", \"factvaluenumeric\": 30}, {\"location\": \"United States of America\", \"period\": \"2007\", \"factvaluenumeric\": 14}, {\"location\": \"Uruguay\", \"period\": \"2007\", \"factvaluenumeric\": 20}, {\"location\": \"Saudi Arabia\", \"period\": \"2007\", \"factvaluenumeric\": 21}, {\"location\": \"Iran (Islamic Republic of)\", \"period\": \"2007\", \"factvaluenumeric\": 30}, {\"location\": \"Russian Federation\", \"period\": \"2007\", \"factvaluenumeric\": 32}, {\"location\": \"United States of America\", \"period\": \"2006\", \"factvaluenumeric\": 14}, {\"location\": \"Uruguay\", \"period\": \"2006\", \"factvaluenumeric\": 20}, {\"location\": \"Saudi Arabia\", \"period\": \"2006\", \"factvaluenumeric\": 21}, {\"location\": \"Iran (Islamic Republic of)\", \"period\": \"2006\", \"factvaluenumeric\": 32}, {\"location\": \"Russian Federation\", \"period\": \"2006\", \"factvaluenumeric\": 36}, {\"location\": \"United States of America\", \"period\": \"2005\", \"factvaluenumeric\": 13}, {\"location\": \"Saudi Arabia\", \"period\": \"2005\", \"factvaluenumeric\": 22}, {\"location\": \"Uruguay\", \"period\": \"2005\", \"factvaluenumeric\": 22}, {\"location\": \"Iran (Islamic Republic of)\", \"period\": \"2005\", \"factvaluenumeric\": 34}, {\"location\": \"Russian Federation\", \"period\": \"2005\", \"factvaluenumeric\": 42}, {\"location\": \"United States of America\", \"period\": \"2004\", \"factvaluenumeric\": 13}, {\"location\": \"Saudi Arabia\", \"period\": \"2004\", \"factvaluenumeric\": 22}, {\"location\": \"Uruguay\", \"period\": \"2004\", \"factvaluenumeric\": 23}, {\"location\": \"Iran (Islamic Republic of)\", \"period\": \"2004\", \"factvaluenumeric\": 36}, {\"location\": \"Russian Federation\", \"period\": \"2004\", \"factvaluenumeric\": 45}, {\"location\": \"United States of America\", \"period\": \"2003\", \"factvaluenumeric\": 13}, {\"location\": \"Saudi Arabia\", \"period\": \"2003\", \"factvaluenumeric\": 23}, {\"location\": \"Uruguay\", \"period\": \"2003\", \"factvaluenumeric\": 23}, {\"location\": \"Iran (Islamic Republic of)\", \"period\": \"2003\", \"factvaluenumeric\": 39}, {\"location\": \"Russian Federation\", \"period\": \"2003\", \"factvaluenumeric\": 49}, {\"location\": \"United States of America\", \"period\": \"2002\", \"factvaluenumeric\": 13}, {\"location\": \"Saudi Arabia\", \"period\": \"2002\", \"factvaluenumeric\": 23}, {\"location\": \"Uruguay\", \"period\": \"2002\", \"factvaluenumeric\": 25}, {\"location\": \"Iran (Islamic Republic of)\", \"period\": \"2002\", \"factvaluenumeric\": 41}, {\"location\": \"Russian Federation\", \"period\": \"2002\", \"factvaluenumeric\": 51}, {\"location\": \"United States of America\", \"period\": \"2001\", \"factvaluenumeric\": 13}, {\"location\": \"Saudi Arabia\", \"period\": \"2001\", \"factvaluenumeric\": 24}, {\"location\": \"Uruguay\", \"period\": \"2001\", \"factvaluenumeric\": 25}, {\"location\": \"Iran (Islamic Republic of)\", \"period\": \"2001\", \"factvaluenumeric\": 44}, {\"location\": \"Russian Federation\", \"period\": \"2001\", \"factvaluenumeric\": 53}, {\"location\": \"United States of America\", \"period\": \"2000\", \"factvaluenumeric\": 12}, {\"location\": \"Saudi Arabia\", \"period\": \"2000\", \"factvaluenumeric\": 24}, {\"location\": \"Uruguay\", \"period\": \"2000\", \"factvaluenumeric\": 26}, {\"location\": \"Iran (Islamic Republic of)\", \"period\": \"2000\", \"factvaluenumeric\": 48}, {\"location\": \"Russian Federation\", \"period\": \"2000\", \"factvaluenumeric\": 56}]}}, {\"mode\": \"vega-lite\"});\n",
       "</script>"
      ],
      "text/plain": [
       "alt.Chart(...)"
      ]
     },
     "execution_count": 21,
     "metadata": {},
     "output_type": "execute_result"
    }
   ],
   "source": [
    "alt.Chart(rates_overtime_slim).mark_line(point=True).encode(\n",
    "    x=alt.X(\"period:O\", timeUnit=\"year\", axis=alt.Axis(title=\"Year\")),\n",
    "    y=alt.Y(\"factvaluenumeric\", axis=alt.Axis(title=\"Deaths per 100K live births\")),\n",
    "    color=alt.Color(\"location:N\"),\n",
    ")"
   ]
  }
 ],
 "metadata": {
  "kernelspec": {
   "display_name": "Python 3 (ipykernel)",
   "language": "python",
   "name": "python3"
  },
  "language_info": {
   "codemirror_mode": {
    "name": "ipython",
    "version": 3
   },
   "file_extension": ".py",
   "mimetype": "text/x-python",
   "name": "python",
   "nbconvert_exporter": "python",
   "pygments_lexer": "ipython3",
   "version": "3.9.13"
  }
 },
 "nbformat": 4,
 "nbformat_minor": 5
}
