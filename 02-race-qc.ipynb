{
 "cells": [
  {
   "cell_type": "markdown",
   "id": "9775f045-fce9-4952-ab08-6420d7a2f91f",
   "metadata": {},
   "source": [
    "## CDC data on race and ethnicity"
   ]
  },
  {
   "cell_type": "markdown",
   "id": "001af030-484d-4583-8317-4014a36775fc",
   "metadata": {},
   "source": [
    "### load packages"
   ]
  },
  {
   "cell_type": "code",
   "execution_count": 1,
   "id": "37085fe7-c9be-4eee-b24b-0e7ff93792db",
   "metadata": {},
   "outputs": [],
   "source": [
    "%load_ext lab_black"
   ]
  },
  {
   "cell_type": "code",
   "execution_count": 2,
   "id": "d41ef437-e280-44fa-b79c-b181cbd53dca",
   "metadata": {},
   "outputs": [
    {
     "data": {
      "text/plain": [
       "ThemeRegistry.enable('grid')"
      ]
     },
     "execution_count": 2,
     "metadata": {},
     "output_type": "execute_result"
    }
   ],
   "source": [
    "import numpy as np\n",
    "import pandas as pd\n",
    "import altair as alt\n",
    "import altair_grid as altgrid\n",
    "\n",
    "alt.themes.register(\"grid\", altgrid.theme)\n",
    "alt.themes.enable(\"grid\")"
   ]
  },
  {
   "cell_type": "code",
   "execution_count": 3,
   "id": "72587c24-5373-4992-baa8-da715dff30ac",
   "metadata": {},
   "outputs": [],
   "source": [
    "pd.options.display.max_columns = 1000\n",
    "pd.options.display.max_rows = 1000"
   ]
  },
  {
   "cell_type": "markdown",
   "id": "655280a2-5183-4f7e-a33f-12f06e5837ea",
   "metadata": {},
   "source": [
    "#### read in data grouped by year and cause of death"
   ]
  },
  {
   "cell_type": "code",
   "execution_count": 4,
   "id": "5a940b48-a4f5-4b65-a2d3-bf08f2a70ddf",
   "metadata": {},
   "outputs": [],
   "source": [
    "df = pd.read_table(\"data/raw/byyear_cause_race.txt\", dtype={\"Year\": str}).drop(\n",
    "    columns=[\"Year Code\"]\n",
    ")\n",
    "df = df[~df[\"Deaths\"].isna()]\n",
    "df[\"Year\"] = df[\"Year\"].str.strip()"
   ]
  },
  {
   "cell_type": "code",
   "execution_count": 5,
   "id": "3e8f9048-fc5f-4529-bfb3-5325c00d8dfe",
   "metadata": {},
   "outputs": [],
   "source": [
    "df.columns = df.columns.str.lower().str.replace(\" \", \"_\")"
   ]
  },
  {
   "cell_type": "markdown",
   "id": "bfdc8a29-d37d-4bcf-af12-c37beea9f88f",
   "metadata": {},
   "source": [
    "#### group of causes that are 42 days or more post-birth and therefore not counted in CDC surveillance"
   ]
  },
  {
   "cell_type": "code",
   "execution_count": 6,
   "id": "d3dd33b3-3ffa-4b22-b1f1-68aa2768d688",
   "metadata": {},
   "outputs": [],
   "source": [
    "post42 = [\"O96\", \"O96.0\", \"O96.1\", \"O96.9\", \"O97\", \"O97.0\", \"O97.1\", \"O97.9\"]"
   ]
  },
  {
   "cell_type": "markdown",
   "id": "67b456ba-4462-4a34-805e-3a4e5d62001e",
   "metadata": {},
   "source": [
    "#### make combined race/hispanic origin"
   ]
  },
  {
   "cell_type": "code",
   "execution_count": 7,
   "id": "cea155f3-410f-4633-bf54-e8416dcfe8be",
   "metadata": {},
   "outputs": [],
   "source": [
    "values = [\n",
    "    ((df[\"race\"] == \"White\") & (df[\"hispanic_origin\"] == \"Not Hispanic or Latino\")),\n",
    "    (\n",
    "        (df[\"race\"] == \"Black or African American\")\n",
    "        & (df[\"hispanic_origin\"] == \"Not Hispanic or Latino\")\n",
    "    ),\n",
    "    (\n",
    "        (df[\"race\"] == \"Asian or Pacific Islander\")\n",
    "        & (df[\"hispanic_origin\"] == \"Not Hispanic or Latino\")\n",
    "    ),\n",
    "    (\n",
    "        (df[\"race\"] == \"American Indian or Alaska Native\")\n",
    "        & (df[\"hispanic_origin\"] == \"Not Hispanic or Latino\")\n",
    "    ),\n",
    "    (df[\"hispanic_origin\"] == \"Hispanic or Latino\")\n",
    "    & (df[\"notes\"] != \"Total\")\n",
    "    & ~df[\"race\"].isna(),\n",
    "    (df[\"race\"].isna()) & (df[\"hispanic_origin\"].isna()) & (df[\"notes\"] != \"Total\"),\n",
    "]\n",
    "\n",
    "conditions = [\n",
    "    \"White\",\n",
    "    \"Black\",\n",
    "    \"AAPI\",\n",
    "    \"American Indian or Alaska Native\",\n",
    "    \"Hispanic or Latino\",\n",
    "    \"Overall\",\n",
    "]\n",
    "\n",
    "df[\"race_whispanicorigin\"] = np.select(values, conditions)"
   ]
  },
  {
   "cell_type": "markdown",
   "id": "4ccc194e-5dbf-4655-9af9-2cf2c53c4129",
   "metadata": {},
   "source": [
    "#### summarize deaths by race/ethnicity to compare to 2020 [report](https://www.cdc.gov/nchs/data/hestat/maternal-mortality/2020/maternal-mortality-rates-2020.htm) and make sure your counts match"
   ]
  },
  {
   "cell_type": "code",
   "execution_count": 8,
   "id": "b734d002-d4fe-4295-8fca-57132cd39240",
   "metadata": {},
   "outputs": [
    {
     "data": {
      "text/html": [
       "<div>\n",
       "<style scoped>\n",
       "    .dataframe tbody tr th:only-of-type {\n",
       "        vertical-align: middle;\n",
       "    }\n",
       "\n",
       "    .dataframe tbody tr th {\n",
       "        vertical-align: top;\n",
       "    }\n",
       "\n",
       "    .dataframe thead th {\n",
       "        text-align: right;\n",
       "    }\n",
       "</style>\n",
       "<table border=\"1\" class=\"dataframe\">\n",
       "  <thead>\n",
       "    <tr style=\"text-align: right;\">\n",
       "      <th></th>\n",
       "      <th>race_whispanicorigin</th>\n",
       "      <th>deaths</th>\n",
       "    </tr>\n",
       "  </thead>\n",
       "  <tbody>\n",
       "    <tr>\n",
       "      <th>0</th>\n",
       "      <td>0</td>\n",
       "      <td>3.0</td>\n",
       "    </tr>\n",
       "    <tr>\n",
       "      <th>1</th>\n",
       "      <td>AAPI</td>\n",
       "      <td>39.0</td>\n",
       "    </tr>\n",
       "    <tr>\n",
       "      <th>2</th>\n",
       "      <td>American Indian or Alaska Native</td>\n",
       "      <td>15.0</td>\n",
       "    </tr>\n",
       "    <tr>\n",
       "      <th>3</th>\n",
       "      <td>Black</td>\n",
       "      <td>242.0</td>\n",
       "    </tr>\n",
       "    <tr>\n",
       "      <th>4</th>\n",
       "      <td>Hispanic or Latino</td>\n",
       "      <td>112.0</td>\n",
       "    </tr>\n",
       "    <tr>\n",
       "      <th>5</th>\n",
       "      <td>White</td>\n",
       "      <td>343.0</td>\n",
       "    </tr>\n",
       "  </tbody>\n",
       "</table>\n",
       "</div>"
      ],
      "text/plain": [
       "               race_whispanicorigin  deaths\n",
       "0                                 0     3.0\n",
       "1                              AAPI    39.0\n",
       "2  American Indian or Alaska Native    15.0\n",
       "3                             Black   242.0\n",
       "4                Hispanic or Latino   112.0\n",
       "5                             White   343.0"
      ]
     },
     "execution_count": 8,
     "metadata": {},
     "output_type": "execute_result"
    }
   ],
   "source": [
    "df[(~df[\"cause_of_death_code\"].isin(post42)) & (df[\"year\"] == \"2019\")].groupby(\n",
    "    \"race_whispanicorigin\"\n",
    ").agg(deaths=pd.NamedAgg(column=\"deaths\", aggfunc=sum)).reset_index()"
   ]
  },
  {
   "cell_type": "markdown",
   "id": "bd073714-3643-44a4-9700-6d27f89bcf2f",
   "metadata": {},
   "source": [
    "#### Numbers are not quite matching\n",
    "I'm seeing 3 extra deaths for black mothers and 6 for white mothers compared to CDC surveillance<br>\n",
    "also checked the figures for 2018 and 2019, in 2018, matching for hispanic/latino but higher by four (in my calculations) for black and white mothers. in 2019, matching for white and hispanic/latino but up by one <br>\n",
    "the CDC doesn't present numbers for AAPI or Native mothers, so I can't fact-check those numbers and am relying entirely on my own calculations and want to be confident they are correct, if I ever publish viz with this data"
   ]
  },
  {
   "cell_type": "markdown",
   "id": "4bc2723a-1df4-44cb-9077-ce69f954524e",
   "metadata": {},
   "source": [
    "#### Checking to see if I erroneously included any causes of death that weren't in the cdc list of causes"
   ]
  },
  {
   "cell_type": "code",
   "execution_count": 9,
   "id": "2e4c976c-8154-4ab1-ad87-0d8a6553c8cb",
   "metadata": {},
   "outputs": [
    {
     "data": {
      "text/html": [
       "<div>\n",
       "<style scoped>\n",
       "    .dataframe tbody tr th:only-of-type {\n",
       "        vertical-align: middle;\n",
       "    }\n",
       "\n",
       "    .dataframe tbody tr th {\n",
       "        vertical-align: top;\n",
       "    }\n",
       "\n",
       "    .dataframe thead th {\n",
       "        text-align: right;\n",
       "    }\n",
       "</style>\n",
       "<table border=\"1\" class=\"dataframe\">\n",
       "  <thead>\n",
       "    <tr style=\"text-align: right;\">\n",
       "      <th></th>\n",
       "      <th>race_whispanicorigin</th>\n",
       "      <th>cause_of_death_code</th>\n",
       "      <th>deaths</th>\n",
       "    </tr>\n",
       "  </thead>\n",
       "  <tbody>\n",
       "    <tr>\n",
       "      <th>0</th>\n",
       "      <td>Black</td>\n",
       "      <td>O88.1</td>\n",
       "      <td>3.0</td>\n",
       "    </tr>\n",
       "    <tr>\n",
       "      <th>1</th>\n",
       "      <td>Black</td>\n",
       "      <td>O75.9</td>\n",
       "      <td>3.0</td>\n",
       "    </tr>\n",
       "    <tr>\n",
       "      <th>2</th>\n",
       "      <td>Black</td>\n",
       "      <td>O14.2</td>\n",
       "      <td>3.0</td>\n",
       "    </tr>\n",
       "    <tr>\n",
       "      <th>3</th>\n",
       "      <td>Black</td>\n",
       "      <td>O15.9</td>\n",
       "      <td>3.0</td>\n",
       "    </tr>\n",
       "    <tr>\n",
       "      <th>4</th>\n",
       "      <td>Black</td>\n",
       "      <td>O75.4</td>\n",
       "      <td>3.0</td>\n",
       "    </tr>\n",
       "    <tr>\n",
       "      <th>5</th>\n",
       "      <td>Black</td>\n",
       "      <td>O22.3</td>\n",
       "      <td>3.0</td>\n",
       "    </tr>\n",
       "    <tr>\n",
       "      <th>6</th>\n",
       "      <td>Black</td>\n",
       "      <td>O00.9</td>\n",
       "      <td>3.0</td>\n",
       "    </tr>\n",
       "    <tr>\n",
       "      <th>7</th>\n",
       "      <td>Black</td>\n",
       "      <td>O00.1</td>\n",
       "      <td>2.0</td>\n",
       "    </tr>\n",
       "    <tr>\n",
       "      <th>8</th>\n",
       "      <td>Black</td>\n",
       "      <td>O24.0</td>\n",
       "      <td>2.0</td>\n",
       "    </tr>\n",
       "    <tr>\n",
       "      <th>9</th>\n",
       "      <td>Black</td>\n",
       "      <td>O98.7</td>\n",
       "      <td>2.0</td>\n",
       "    </tr>\n",
       "    <tr>\n",
       "      <th>10</th>\n",
       "      <td>Black</td>\n",
       "      <td>O88.0</td>\n",
       "      <td>2.0</td>\n",
       "    </tr>\n",
       "    <tr>\n",
       "      <th>11</th>\n",
       "      <td>Black</td>\n",
       "      <td>O72.1</td>\n",
       "      <td>2.0</td>\n",
       "    </tr>\n",
       "    <tr>\n",
       "      <th>12</th>\n",
       "      <td>Black</td>\n",
       "      <td>O45.9</td>\n",
       "      <td>2.0</td>\n",
       "    </tr>\n",
       "    <tr>\n",
       "      <th>13</th>\n",
       "      <td>Black</td>\n",
       "      <td>O99.3</td>\n",
       "      <td>2.0</td>\n",
       "    </tr>\n",
       "    <tr>\n",
       "      <th>14</th>\n",
       "      <td>Black</td>\n",
       "      <td>O23.5</td>\n",
       "      <td>2.0</td>\n",
       "    </tr>\n",
       "    <tr>\n",
       "      <th>15</th>\n",
       "      <td>Black</td>\n",
       "      <td>O03.9</td>\n",
       "      <td>2.0</td>\n",
       "    </tr>\n",
       "    <tr>\n",
       "      <th>16</th>\n",
       "      <td>Black</td>\n",
       "      <td>O22.9</td>\n",
       "      <td>2.0</td>\n",
       "    </tr>\n",
       "    <tr>\n",
       "      <th>17</th>\n",
       "      <td>Black</td>\n",
       "      <td>O11</td>\n",
       "      <td>2.0</td>\n",
       "    </tr>\n",
       "    <tr>\n",
       "      <th>18</th>\n",
       "      <td>Black</td>\n",
       "      <td>O21.1</td>\n",
       "      <td>1.0</td>\n",
       "    </tr>\n",
       "    <tr>\n",
       "      <th>19</th>\n",
       "      <td>Black</td>\n",
       "      <td>O99.2</td>\n",
       "      <td>1.0</td>\n",
       "    </tr>\n",
       "    <tr>\n",
       "      <th>20</th>\n",
       "      <td>Black</td>\n",
       "      <td>O01.9</td>\n",
       "      <td>1.0</td>\n",
       "    </tr>\n",
       "    <tr>\n",
       "      <th>21</th>\n",
       "      <td>Black</td>\n",
       "      <td>O06.5</td>\n",
       "      <td>1.0</td>\n",
       "    </tr>\n",
       "    <tr>\n",
       "      <th>22</th>\n",
       "      <td>Black</td>\n",
       "      <td>O85</td>\n",
       "      <td>1.0</td>\n",
       "    </tr>\n",
       "    <tr>\n",
       "      <th>23</th>\n",
       "      <td>Black</td>\n",
       "      <td>O74.6</td>\n",
       "      <td>1.0</td>\n",
       "    </tr>\n",
       "    <tr>\n",
       "      <th>24</th>\n",
       "      <td>Black</td>\n",
       "      <td>O25</td>\n",
       "      <td>1.0</td>\n",
       "    </tr>\n",
       "    <tr>\n",
       "      <th>25</th>\n",
       "      <td>Black</td>\n",
       "      <td>O72.3</td>\n",
       "      <td>1.0</td>\n",
       "    </tr>\n",
       "    <tr>\n",
       "      <th>26</th>\n",
       "      <td>Black</td>\n",
       "      <td>O72.0</td>\n",
       "      <td>1.0</td>\n",
       "    </tr>\n",
       "    <tr>\n",
       "      <th>27</th>\n",
       "      <td>Black</td>\n",
       "      <td>O46.9</td>\n",
       "      <td>1.0</td>\n",
       "    </tr>\n",
       "    <tr>\n",
       "      <th>28</th>\n",
       "      <td>Black</td>\n",
       "      <td>O46.0</td>\n",
       "      <td>1.0</td>\n",
       "    </tr>\n",
       "    <tr>\n",
       "      <th>29</th>\n",
       "      <td>Black</td>\n",
       "      <td>O23.0</td>\n",
       "      <td>1.0</td>\n",
       "    </tr>\n",
       "    <tr>\n",
       "      <th>30</th>\n",
       "      <td>Black</td>\n",
       "      <td>O23.4</td>\n",
       "      <td>1.0</td>\n",
       "    </tr>\n",
       "    <tr>\n",
       "      <th>31</th>\n",
       "      <td>Black</td>\n",
       "      <td>O41.1</td>\n",
       "      <td>1.0</td>\n",
       "    </tr>\n",
       "  </tbody>\n",
       "</table>\n",
       "</div>"
      ],
      "text/plain": [
       "   race_whispanicorigin cause_of_death_code  deaths\n",
       "0                 Black               O88.1     3.0\n",
       "1                 Black               O75.9     3.0\n",
       "2                 Black               O14.2     3.0\n",
       "3                 Black               O15.9     3.0\n",
       "4                 Black               O75.4     3.0\n",
       "5                 Black               O22.3     3.0\n",
       "6                 Black               O00.9     3.0\n",
       "7                 Black               O00.1     2.0\n",
       "8                 Black               O24.0     2.0\n",
       "9                 Black               O98.7     2.0\n",
       "10                Black               O88.0     2.0\n",
       "11                Black               O72.1     2.0\n",
       "12                Black               O45.9     2.0\n",
       "13                Black               O99.3     2.0\n",
       "14                Black               O23.5     2.0\n",
       "15                Black               O03.9     2.0\n",
       "16                Black               O22.9     2.0\n",
       "17                Black                 O11     2.0\n",
       "18                Black               O21.1     1.0\n",
       "19                Black               O99.2     1.0\n",
       "20                Black               O01.9     1.0\n",
       "21                Black               O06.5     1.0\n",
       "22                Black                 O85     1.0\n",
       "23                Black               O74.6     1.0\n",
       "24                Black                 O25     1.0\n",
       "25                Black               O72.3     1.0\n",
       "26                Black               O72.0     1.0\n",
       "27                Black               O46.9     1.0\n",
       "28                Black               O46.0     1.0\n",
       "29                Black               O23.0     1.0\n",
       "30                Black               O23.4     1.0\n",
       "31                Black               O41.1     1.0"
      ]
     },
     "execution_count": 9,
     "metadata": {},
     "output_type": "execute_result"
    }
   ],
   "source": [
    "(\n",
    "    df[\n",
    "        (df[\"year\"] == \"2020\")\n",
    "        & (df[\"deaths\"] <= 3)\n",
    "        & (df[\"race_whispanicorigin\"] == \"Black\")\n",
    "        & (~df[\"cause_of_death_code\"].isin(post42))\n",
    "    ][[\"race_whispanicorigin\", \"cause_of_death_code\", \"deaths\"]]\n",
    "    .sort_values(\"deaths\", ascending=False)\n",
    "    .reset_index()\n",
    "    .drop(columns={\"index\"})\n",
    ")"
   ]
  },
  {
   "cell_type": "markdown",
   "id": "26b7c1f5-2832-43ff-9586-2fd945f4ec3a",
   "metadata": {},
   "source": [
    "#### Natality data"
   ]
  },
  {
   "cell_type": "code",
   "execution_count": 10,
   "id": "81d65d54-1aa7-428d-a008-d522c9c51745",
   "metadata": {},
   "outputs": [],
   "source": [
    "natality_df = pd.read_table(\n",
    "    \"data/raw/natality_byrace_year.txt\", dtype={\"Year\": str}\n",
    ").drop(\n",
    "    columns=[\"Year Code\", \"Mother's Hispanic Origin Code\", \"Mother's Single Race Code\"]\n",
    ")"
   ]
  },
  {
   "cell_type": "code",
   "execution_count": 11,
   "id": "43bd2ee1-b4b1-4725-9bf1-724ecc4e687a",
   "metadata": {},
   "outputs": [],
   "source": [
    "natality_df = natality_df[~natality_df[\"Births\"].isna()]"
   ]
  },
  {
   "cell_type": "code",
   "execution_count": 12,
   "id": "f1c2a05e-6572-47ed-bb4c-ad0d6f5cb72a",
   "metadata": {},
   "outputs": [],
   "source": [
    "natality_df.columns = (\n",
    "    natality_df.columns.str.lower().str.replace(\" \", \"_\").str.replace(\"'\", \"\")\n",
    ")"
   ]
  },
  {
   "cell_type": "code",
   "execution_count": 13,
   "id": "7e7acbfd-a8e7-4926-aff8-bdd4b31604ca",
   "metadata": {},
   "outputs": [],
   "source": [
    "aapi = [\"Native Hawaiian or Other Pacific Islander\", \"Asian\"]\n",
    "\n",
    "birth_conditions = [\n",
    "    (\n",
    "        (natality_df[\"mothers_single_race\"] == \"White\")\n",
    "        & (natality_df[\"mothers_hispanic_origin\"] == \"Not Hispanic or Latino\")\n",
    "        & (natality_df[\"notes\"] != \"Total\")\n",
    "    ),\n",
    "    (\n",
    "        (natality_df[\"mothers_single_race\"] == \"Black or African American\")\n",
    "        & (natality_df[\"mothers_hispanic_origin\"] == \"Not Hispanic or Latino\")\n",
    "        & (natality_df[\"notes\"] != \"Total\")\n",
    "    ),\n",
    "    (\n",
    "        (natality_df[\"mothers_single_race\"].isin(aapi))\n",
    "        & (natality_df[\"mothers_hispanic_origin\"] == \"Not Hispanic or Latino\")\n",
    "        & (natality_df[\"notes\"] != \"Total\")\n",
    "    ),\n",
    "    (\n",
    "        (natality_df[\"mothers_single_race\"] == \"American Indian or Alaska Native\")\n",
    "        & (natality_df[\"mothers_hispanic_origin\"] == \"Not Hispanic or Latino\")\n",
    "        & (natality_df[\"notes\"] != \"Total\")\n",
    "    ),\n",
    "    (\n",
    "        (natality_df[\"mothers_hispanic_origin\"] == \"Hispanic or Latino\")\n",
    "        & (natality_df[\"notes\"] != \"Total\")\n",
    "    ),\n",
    "]\n",
    "\n",
    "birth_values = [\n",
    "    \"White\",\n",
    "    \"Black\",\n",
    "    \"AAPI\",\n",
    "    \"American Indian or Alaska Native\",\n",
    "    \"Hispanic or Latino\",\n",
    "]\n",
    "\n",
    "natality_df[\"race_whispanicorigin\"] = np.select(birth_conditions, birth_values)"
   ]
  },
  {
   "cell_type": "markdown",
   "id": "4a91120d-f208-4963-99c1-d3bddbc4443b",
   "metadata": {
    "tags": []
   },
   "source": [
    "#### QC against 2020 maternal mortality live birth numbers\n"
   ]
  },
  {
   "cell_type": "code",
   "execution_count": 14,
   "id": "3f828445-30e9-47b2-a0ab-7db7b01d6aca",
   "metadata": {},
   "outputs": [],
   "source": [
    "births_byyear = (\n",
    "    natality_df.groupby([\"race_whispanicorigin\", \"year\"])\n",
    "    .agg(births=pd.NamedAgg(column=\"births\", aggfunc=sum))\n",
    "    .reset_index()\n",
    ")"
   ]
  },
  {
   "cell_type": "markdown",
   "id": "69979185-91b3-45a6-882f-6ce96e913f02",
   "metadata": {},
   "source": [
    "#### The number of live births matches up, so I'm going to sketch out the maternal mortalities rates over time\n",
    "Even though there are some small discrepancies in the death counts, the graph will still give a sense of the rates over time, until I can reconcile those differences"
   ]
  },
  {
   "cell_type": "code",
   "execution_count": 15,
   "id": "6f33e16d-62bc-48c2-bc65-cfc2240863fc",
   "metadata": {},
   "outputs": [],
   "source": [
    "deaths_byyear = (\n",
    "    df[~df[\"cause_of_death_code\"].isin(post42)]\n",
    "    .groupby([\"race_whispanicorigin\", \"year\"])\n",
    "    .agg(deaths=pd.NamedAgg(column=\"deaths\", aggfunc=sum))\n",
    "    .reset_index()\n",
    ")"
   ]
  },
  {
   "cell_type": "code",
   "execution_count": 16,
   "id": "be0e34ef-aeeb-4ed0-81a5-cb4e087e3cde",
   "metadata": {},
   "outputs": [],
   "source": [
    "years = [\"2016\", \"2017\", \"2018\", \"2019\", \"2020\"]\n",
    "rates = (\n",
    "    deaths_byyear[\n",
    "        (deaths_byyear[\"race_whispanicorigin\"] != \"0\")\n",
    "        & (deaths_byyear[\"year\"].isin(years))\n",
    "    ]\n",
    "    .merge(births_byyear, on=[\"year\", \"race_whispanicorigin\"])\n",
    "    .copy()\n",
    ")"
   ]
  },
  {
   "cell_type": "code",
   "execution_count": 17,
   "id": "b2bfad04-c977-4b51-ad03-67f79043a5a2",
   "metadata": {},
   "outputs": [],
   "source": [
    "rates[\"rate\"] = 100000 * (rates[\"deaths\"] / rates[\"births\"])"
   ]
  },
  {
   "cell_type": "code",
   "execution_count": 18,
   "id": "bdba7dab-1190-41e7-851c-7c054971d4e8",
   "metadata": {},
   "outputs": [
    {
     "data": {
      "text/html": [
       "\n",
       "<div id=\"altair-viz-ff932af9a97544719dccc3ddfca5a07e\"></div>\n",
       "<script type=\"text/javascript\">\n",
       "  var VEGA_DEBUG = (typeof VEGA_DEBUG == \"undefined\") ? {} : VEGA_DEBUG;\n",
       "  (function(spec, embedOpt){\n",
       "    let outputDiv = document.currentScript.previousElementSibling;\n",
       "    if (outputDiv.id !== \"altair-viz-ff932af9a97544719dccc3ddfca5a07e\") {\n",
       "      outputDiv = document.getElementById(\"altair-viz-ff932af9a97544719dccc3ddfca5a07e\");\n",
       "    }\n",
       "    const paths = {\n",
       "      \"vega\": \"https://cdn.jsdelivr.net/npm//vega@5?noext\",\n",
       "      \"vega-lib\": \"https://cdn.jsdelivr.net/npm//vega-lib?noext\",\n",
       "      \"vega-lite\": \"https://cdn.jsdelivr.net/npm//vega-lite@4.17.0?noext\",\n",
       "      \"vega-embed\": \"https://cdn.jsdelivr.net/npm//vega-embed@6?noext\",\n",
       "    };\n",
       "\n",
       "    function maybeLoadScript(lib, version) {\n",
       "      var key = `${lib.replace(\"-\", \"\")}_version`;\n",
       "      return (VEGA_DEBUG[key] == version) ?\n",
       "        Promise.resolve(paths[lib]) :\n",
       "        new Promise(function(resolve, reject) {\n",
       "          var s = document.createElement('script');\n",
       "          document.getElementsByTagName(\"head\")[0].appendChild(s);\n",
       "          s.async = true;\n",
       "          s.onload = () => {\n",
       "            VEGA_DEBUG[key] = version;\n",
       "            return resolve(paths[lib]);\n",
       "          };\n",
       "          s.onerror = () => reject(`Error loading script: ${paths[lib]}`);\n",
       "          s.src = paths[lib];\n",
       "        });\n",
       "    }\n",
       "\n",
       "    function showError(err) {\n",
       "      outputDiv.innerHTML = `<div class=\"error\" style=\"color:red;\">${err}</div>`;\n",
       "      throw err;\n",
       "    }\n",
       "\n",
       "    function displayChart(vegaEmbed) {\n",
       "      vegaEmbed(outputDiv, spec, embedOpt)\n",
       "        .catch(err => showError(`Javascript Error: ${err.message}<br>This usually means there's a typo in your chart specification. See the javascript console for the full traceback.`));\n",
       "    }\n",
       "\n",
       "    if(typeof define === \"function\" && define.amd) {\n",
       "      requirejs.config({paths});\n",
       "      require([\"vega-embed\"], displayChart, err => showError(`Error loading script: ${err.message}`));\n",
       "    } else {\n",
       "      maybeLoadScript(\"vega\", \"5\")\n",
       "        .then(() => maybeLoadScript(\"vega-lite\", \"4.17.0\"))\n",
       "        .then(() => maybeLoadScript(\"vega-embed\", \"6\"))\n",
       "        .catch(showError)\n",
       "        .then(() => displayChart(vegaEmbed));\n",
       "    }\n",
       "  })({\"config\": {\"view\": {\"width\": 800, \"height\": 450, \"strokeOpacity\": 0}, \"background\": \"#ffffff\", \"title\": {\"anchor\": \"start\", \"font\": \"Summit Sans\", \"fontColor\": \"palette[\\\"black\\\"]\", \"fontSize\": 18, \"fontWeight\": \"normal\"}, \"arc\": {\"fill\": \"#00d4d8\"}, \"area\": {\"fill\": \"#00d4d8\"}, \"line\": {\"stroke\": \"#00d4d8\", \"strokeWidth\": 3}, \"path\": {\"stroke\": \"#00d4d8\"}, \"rect\": {\"fill\": \"#00d4d8\"}, \"shape\": {\"stroke\": \"#00d4d8\"}, \"bar\": {\"fill\": \"#00d4d8\"}, \"point\": {\"stroke\": \"#00d4d8\"}, \"symbol\": {\"fill\": \"#00d4d8\", \"size\": 30}, \"axis\": {\"titleFont\": \"Roboto\", \"titleFontSize\": 15, \"titleFontWeight\": \"normal\", \"labelFont\": \"Roboto, sans\", \"labelFontSize\": 13, \"labelFontWeight\": \"normal\"}, \"axisX\": {\"labelAngle\": 0, \"labelPadding\": 6, \"tickSize\": 3, \"grid\": false}, \"axisY\": {\"labelBaseline\": \"middle\", \"maxExtent\": 45, \"minExtent\": 45, \"titleAlign\": \"left\", \"titleAngle\": 0, \"titleX\": -45, \"titleY\": -11, \"domainOpacity\": 0, \"gridWidth\": 0.6, \"gridColor\": \"#dddddd\", \"offset\": 6, \"tickSize\": 0, \"titleColor\": \"#767676\"}, \"legend\": {\"titleFont\": \"Roboto\", \"titleFontSize\": 15, \"titleFontWeight\": \"normal\", \"symbolType\": \"square\", \"labelFont\": \"Roboto, sans\", \"labelFontSize\": 13}, \"range\": {\"category\": [\"#005f66\", \"#e37e2d\", \"#d64a3b\", \"#76b0ef\", \"#c1bc40\"], \"diverging\": [\"#e68a4f\", \"#f4bb6a\", \"#f9e39c\", \"#dadfe2\", \"#a6b7c6\", \"#849eae\"], \"heatmap\": [\"#7ff6f6\", \"#00eeef\", \"#00d4d8\", \"#00abb2\", \"#00848b\", \"#fbf2c7\", \"#00363d\"], \"ordinal\": [\"#7ff6f6\", \"#00eeef\", \"#00d4d8\", \"#00abb2\", \"#00848b\", \"#fbf2c7\", \"#00363d\"], \"ramp\": [\"#7ff6f6\", \"#00eeef\", \"#00d4d8\", \"#00abb2\", \"#00848b\", \"#fbf2c7\", \"#00363d\"]}}, \"data\": {\"name\": \"data-0e90e089991735df5f24442da7b914a6\"}, \"mark\": \"line\", \"encoding\": {\"color\": {\"field\": \"race_whispanicorigin\", \"type\": \"nominal\"}, \"x\": {\"field\": \"year\", \"type\": \"ordinal\"}, \"y\": {\"field\": \"rate\", \"type\": \"quantitative\"}}, \"$schema\": \"https://vega.github.io/schema/vega-lite/v4.17.0.json\", \"datasets\": {\"data-0e90e089991735df5f24442da7b914a6\": [{\"race_whispanicorigin\": \"AAPI\", \"year\": \"2016\", \"deaths\": 32.0, \"births\": 263813.0, \"rate\": 12.1298040657587}, {\"race_whispanicorigin\": \"AAPI\", \"year\": \"2017\", \"deaths\": 31.0, \"births\": 258676.0, \"rate\": 11.984103666362554}, {\"race_whispanicorigin\": \"AAPI\", \"year\": \"2018\", \"deaths\": 37.0, \"births\": 250274.0, \"rate\": 14.783796958533447}, {\"race_whispanicorigin\": \"AAPI\", \"year\": \"2019\", \"deaths\": 39.0, \"births\": 248539.0, \"rate\": 15.691702308289646}, {\"race_whispanicorigin\": \"AAPI\", \"year\": \"2020\", \"deaths\": 36.0, \"births\": 228694.0, \"rate\": 15.741558589206539}, {\"race_whispanicorigin\": \"American Indian or Alaska Native\", \"year\": \"2016\", \"deaths\": 6.0, \"births\": 31452.0, \"rate\": 19.07668828691339}, {\"race_whispanicorigin\": \"American Indian or Alaska Native\", \"year\": \"2017\", \"deaths\": 14.0, \"births\": 29957.0, \"rate\": 46.73365156724639}, {\"race_whispanicorigin\": \"American Indian or Alaska Native\", \"year\": \"2018\", \"deaths\": 10.0, \"births\": 29092.0, \"rate\": 34.37371098583803}, {\"race_whispanicorigin\": \"American Indian or Alaska Native\", \"year\": \"2019\", \"deaths\": 15.0, \"births\": 28450.0, \"rate\": 52.72407732864675}, {\"race_whispanicorigin\": \"American Indian or Alaska Native\", \"year\": \"2020\", \"deaths\": 13.0, \"births\": 26813.0, \"rate\": 48.48394435535002}, {\"race_whispanicorigin\": \"Black\", \"year\": \"2016\", \"deaths\": 284.0, \"births\": 558622.0, \"rate\": 50.8393869199566}, {\"race_whispanicorigin\": \"Black\", \"year\": \"2017\", \"deaths\": 269.0, \"births\": 560715.0, \"rate\": 47.97446117903035}, {\"race_whispanicorigin\": \"Black\", \"year\": \"2018\", \"deaths\": 210.0, \"births\": 552029.0, \"rate\": 38.041479704870575}, {\"race_whispanicorigin\": \"Black\", \"year\": \"2019\", \"deaths\": 242.0, \"births\": 548075.0, \"rate\": 44.15454089312594}, {\"race_whispanicorigin\": \"Black\", \"year\": \"2020\", \"deaths\": 296.0, \"births\": 529811.0, \"rate\": 55.86897969275836}, {\"race_whispanicorigin\": \"Hispanic or Latino\", \"year\": \"2016\", \"deaths\": 131.0, \"births\": 918447.0, \"rate\": 14.263207348927049}, {\"race_whispanicorigin\": \"Hispanic or Latino\", \"year\": \"2017\", \"deaths\": 134.0, \"births\": 898764.0, \"rate\": 14.909364416020223}, {\"race_whispanicorigin\": \"Hispanic or Latino\", \"year\": \"2018\", \"deaths\": 105.0, \"births\": 886210.0, \"rate\": 11.848207535459993}, {\"race_whispanicorigin\": \"Hispanic or Latino\", \"year\": \"2019\", \"deaths\": 112.0, \"births\": 886467.0, \"rate\": 12.634424067675392}, {\"race_whispanicorigin\": \"Hispanic or Latino\", \"year\": \"2020\", \"deaths\": 158.0, \"births\": 866713.0, \"rate\": 18.22979463790205}, {\"race_whispanicorigin\": \"White\", \"year\": \"2016\", \"deaths\": 407.0, \"births\": 2056332.0, \"rate\": 19.79252377534367}, {\"race_whispanicorigin\": \"White\", \"year\": \"2017\", \"deaths\": 383.0, \"births\": 1992461.0, \"rate\": 19.2224590594245}, {\"race_whispanicorigin\": \"White\", \"year\": \"2018\", \"deaths\": 295.0, \"births\": 1956413.0, \"rate\": 15.07861581373667}, {\"race_whispanicorigin\": \"White\", \"year\": \"2019\", \"deaths\": 343.0, \"births\": 1915912.0, \"rate\": 17.902701167903327}, {\"race_whispanicorigin\": \"White\", \"year\": \"2020\", \"deaths\": 358.0, \"births\": 1843432.0, \"rate\": 19.420298660324875}]}}, {\"mode\": \"vega-lite\"});\n",
       "</script>"
      ],
      "text/plain": [
       "alt.Chart(...)"
      ]
     },
     "execution_count": 18,
     "metadata": {},
     "output_type": "execute_result"
    }
   ],
   "source": [
    "alt.Chart(rates).mark_line().encode(\n",
    "    x=alt.X(\"year:O\"), y=alt.Y(\"rate\"), color=\"race_whispanicorigin\"\n",
    ")"
   ]
  }
 ],
 "metadata": {
  "kernelspec": {
   "display_name": "Python 3 (ipykernel)",
   "language": "python",
   "name": "python3"
  },
  "language_info": {
   "codemirror_mode": {
    "name": "ipython",
    "version": 3
   },
   "file_extension": ".py",
   "mimetype": "text/x-python",
   "name": "python",
   "nbconvert_exporter": "python",
   "pygments_lexer": "ipython3",
   "version": "3.9.13"
  }
 },
 "nbformat": 4,
 "nbformat_minor": 5
}
